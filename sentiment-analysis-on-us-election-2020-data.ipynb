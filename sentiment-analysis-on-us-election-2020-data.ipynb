{
 "cells": [
  {
   "cell_type": "code",
   "execution_count": 1,
   "id": "f587d5a0",
   "metadata": {
    "_cell_guid": "b1076dfc-b9ad-4769-8c92-a6c4dae69d19",
    "_uuid": "8f2839f25d086af736a60e9eeb907d3b93b6e0e5",
    "execution": {
     "iopub.execute_input": "2022-06-21T19:07:28.356703Z",
     "iopub.status.busy": "2022-06-21T19:07:28.356048Z",
     "iopub.status.idle": "2022-06-21T19:08:10.251546Z",
     "shell.execute_reply": "2022-06-21T19:08:10.250764Z"
    },
    "papermill": {
     "duration": 41.920875,
     "end_time": "2022-06-21T19:08:10.263279",
     "exception": false,
     "start_time": "2022-06-21T19:07:28.342404",
     "status": "completed"
    },
    "tags": []
   },
   "outputs": [
    {
     "name": "stdout",
     "output_type": "stream",
     "text": [
      "[nltk_data] Error loading stopwords: <urlopen error [Errno -3]\n",
      "[nltk_data]     Temporary failure in name resolution>\n",
      "[nltk_data] Error loading wordnet: <urlopen error [Errno -3] Temporary\n",
      "[nltk_data]     failure in name resolution>\n",
      "/kaggle/input/us-election-2020-tweets/hashtag_donaldtrump.csv\n",
      "/kaggle/input/us-election-2020-tweets/hashtag_joebiden.csv\n"
     ]
    }
   ],
   "source": [
    "# This Python 3 environment comes with many helpful analytics libraries installed\n",
    "# It is defined by the kaggle/python Docker image: https://github.com/kaggle/docker-python\n",
    "# For example, here's several helpful packages to load\n",
    "\n",
    "import numpy as np # linear algebra\n",
    "import pandas as pd # data processing, CSV file I/O (e.g. pd.read_csv)\n",
    "import matplotlib.pyplot as plt\n",
    "import re\n",
    "import seaborn as sns\n",
    "import nltk\n",
    "from nltk.corpus import stopwords\n",
    "from nltk.stem import WordNetLemmatizer \n",
    "from wordcloud import wordcloud\n",
    "nltk.download('stopwords')\n",
    "nltk.download('wordnet')\n",
    "import warnings\n",
    "warnings.filterwarnings('ignore')\n",
    "# Input data files are available in the read-only \"../input/\" directory\n",
    "# For example, running this (by clicking run or pressing Shift+Enter) will list all files under the input directory\n",
    "\n",
    "import os\n",
    "for dirname, _, filenames in os.walk('/kaggle/input'):\n",
    "    for filename in filenames:\n",
    "        print(os.path.join(dirname, filename))\n",
    "\n",
    "# You can write up to 20GB to the current directory (/kaggle/working/) that gets preserved as output when you create a version using \"Save & Run All\" \n",
    "# You can also write temporary files to /kaggle/temp/, but they won't be saved outside of the current session"
   ]
  },
  {
   "cell_type": "code",
   "execution_count": 2,
   "id": "e30e5897",
   "metadata": {
    "execution": {
     "iopub.execute_input": "2022-06-21T19:08:10.285262Z",
     "iopub.status.busy": "2022-06-21T19:08:10.284636Z",
     "iopub.status.idle": "2022-06-21T19:08:16.665073Z",
     "shell.execute_reply": "2022-06-21T19:08:16.664006Z"
    },
    "papermill": {
     "duration": 6.393967,
     "end_time": "2022-06-21T19:08:16.667335",
     "exception": false,
     "start_time": "2022-06-21T19:08:10.273368",
     "status": "completed"
    },
    "tags": []
   },
   "outputs": [],
   "source": [
    "from textblob import TextBlob\n",
    "from tensorflow.keras.preprocessing.text import Tokenizer\n",
    "from nltk.sentiment.util import *"
   ]
  },
  {
   "cell_type": "code",
   "execution_count": 3,
   "id": "f25eb65a",
   "metadata": {
    "execution": {
     "iopub.execute_input": "2022-06-21T19:08:16.690380Z",
     "iopub.status.busy": "2022-06-21T19:08:16.689179Z",
     "iopub.status.idle": "2022-06-21T19:10:46.700161Z",
     "shell.execute_reply": "2022-06-21T19:10:46.699070Z"
    },
    "papermill": {
     "duration": 150.024829,
     "end_time": "2022-06-21T19:10:46.702607",
     "exception": false,
     "start_time": "2022-06-21T19:08:16.677778",
     "status": "completed"
    },
    "tags": []
   },
   "outputs": [
    {
     "name": "stdout",
     "output_type": "stream",
     "text": [
      "\u001b[33mWARNING: Retrying (Retry(total=4, connect=None, read=None, redirect=None, status=None)) after connection broken by 'NewConnectionError('<pip._vendor.urllib3.connection.HTTPSConnection object at 0x7f39a33e3e90>: Failed to establish a new connection: [Errno -3] Temporary failure in name resolution')': /simple/twython/\u001b[0m\u001b[33m\r\n",
      "\u001b[0m\u001b[33mWARNING: Retrying (Retry(total=3, connect=None, read=None, redirect=None, status=None)) after connection broken by 'NewConnectionError('<pip._vendor.urllib3.connection.HTTPSConnection object at 0x7f39a32e4390>: Failed to establish a new connection: [Errno -3] Temporary failure in name resolution')': /simple/twython/\u001b[0m\u001b[33m\r\n",
      "\u001b[0m\u001b[33mWARNING: Retrying (Retry(total=2, connect=None, read=None, redirect=None, status=None)) after connection broken by 'NewConnectionError('<pip._vendor.urllib3.connection.HTTPSConnection object at 0x7f39a32e45d0>: Failed to establish a new connection: [Errno -3] Temporary failure in name resolution')': /simple/twython/\u001b[0m\u001b[33m\r\n",
      "\u001b[0m\u001b[33mWARNING: Retrying (Retry(total=1, connect=None, read=None, redirect=None, status=None)) after connection broken by 'NewConnectionError('<pip._vendor.urllib3.connection.HTTPSConnection object at 0x7f39a32e4910>: Failed to establish a new connection: [Errno -3] Temporary failure in name resolution')': /simple/twython/\u001b[0m\u001b[33m\r\n",
      "\u001b[0m\u001b[33mWARNING: Retrying (Retry(total=0, connect=None, read=None, redirect=None, status=None)) after connection broken by 'NewConnectionError('<pip._vendor.urllib3.connection.HTTPSConnection object at 0x7f39a32e4c50>: Failed to establish a new connection: [Errno -3] Temporary failure in name resolution')': /simple/twython/\u001b[0m\u001b[33m\r\n",
      "\u001b[0m\u001b[31mERROR: Could not find a version that satisfies the requirement twython (from versions: none)\u001b[0m\u001b[31m\r\n",
      "\u001b[0m\u001b[31mERROR: No matching distribution found for twython\u001b[0m\u001b[31m\r\n",
      "\u001b[0m\u001b[33mWARNING: There was an error checking the latest version of pip.\u001b[0m\u001b[33m\r\n",
      "\u001b[0m"
     ]
    }
   ],
   "source": [
    "!pip install twython"
   ]
  },
  {
   "cell_type": "markdown",
   "id": "87b8a529",
   "metadata": {
    "papermill": {
     "duration": 0.010542,
     "end_time": "2022-06-21T19:10:46.723588",
     "exception": false,
     "start_time": "2022-06-21T19:10:46.713046",
     "status": "completed"
    },
    "tags": []
   },
   "source": [
    "# READING CSVs INTO DATAFRAMES"
   ]
  },
  {
   "cell_type": "code",
   "execution_count": 4,
   "id": "83831baf",
   "metadata": {
    "execution": {
     "iopub.execute_input": "2022-06-21T19:10:46.747076Z",
     "iopub.status.busy": "2022-06-21T19:10:46.746691Z",
     "iopub.status.idle": "2022-06-21T19:11:03.238700Z",
     "shell.execute_reply": "2022-06-21T19:11:03.237597Z"
    },
    "papermill": {
     "duration": 16.506876,
     "end_time": "2022-06-21T19:11:03.241067",
     "exception": false,
     "start_time": "2022-06-21T19:10:46.734191",
     "status": "completed"
    },
    "tags": []
   },
   "outputs": [],
   "source": [
    "trump=pd.read_csv('/kaggle/input/us-election-2020-tweets/hashtag_donaldtrump.csv',lineterminator='\\n')"
   ]
  },
  {
   "cell_type": "code",
   "execution_count": 5,
   "id": "31e911da",
   "metadata": {
    "execution": {
     "iopub.execute_input": "2022-06-21T19:11:03.264415Z",
     "iopub.status.busy": "2022-06-21T19:11:03.263627Z",
     "iopub.status.idle": "2022-06-21T19:11:15.877648Z",
     "shell.execute_reply": "2022-06-21T19:11:15.876709Z"
    },
    "papermill": {
     "duration": 12.628239,
     "end_time": "2022-06-21T19:11:15.880130",
     "exception": false,
     "start_time": "2022-06-21T19:11:03.251891",
     "status": "completed"
    },
    "tags": []
   },
   "outputs": [],
   "source": [
    "biden=pd.read_csv('/kaggle/input/us-election-2020-tweets/hashtag_joebiden.csv',lineterminator='\\n')"
   ]
  },
  {
   "cell_type": "code",
   "execution_count": 6,
   "id": "412d9710",
   "metadata": {
    "execution": {
     "iopub.execute_input": "2022-06-21T19:11:15.903446Z",
     "iopub.status.busy": "2022-06-21T19:11:15.902602Z",
     "iopub.status.idle": "2022-06-21T19:11:16.951109Z",
     "shell.execute_reply": "2022-06-21T19:11:16.950122Z"
    },
    "papermill": {
     "duration": 1.062275,
     "end_time": "2022-06-21T19:11:16.953138",
     "exception": false,
     "start_time": "2022-06-21T19:11:15.890863",
     "status": "completed"
    },
    "tags": []
   },
   "outputs": [
    {
     "data": {
      "text/html": [
       "<div>\n",
       "<style scoped>\n",
       "    .dataframe tbody tr th:only-of-type {\n",
       "        vertical-align: middle;\n",
       "    }\n",
       "\n",
       "    .dataframe tbody tr th {\n",
       "        vertical-align: top;\n",
       "    }\n",
       "\n",
       "    .dataframe thead th {\n",
       "        text-align: right;\n",
       "    }\n",
       "</style>\n",
       "<table border=\"1\" class=\"dataframe\">\n",
       "  <thead>\n",
       "    <tr style=\"text-align: right;\">\n",
       "      <th></th>\n",
       "      <th>created_at</th>\n",
       "      <th>tweet_id</th>\n",
       "      <th>tweet</th>\n",
       "      <th>likes</th>\n",
       "      <th>retweet_count</th>\n",
       "      <th>source</th>\n",
       "      <th>user_id</th>\n",
       "      <th>user_name</th>\n",
       "      <th>user_screen_name</th>\n",
       "      <th>user_description</th>\n",
       "      <th>...</th>\n",
       "      <th>user_followers_count</th>\n",
       "      <th>user_location</th>\n",
       "      <th>lat</th>\n",
       "      <th>long</th>\n",
       "      <th>city</th>\n",
       "      <th>country</th>\n",
       "      <th>continent</th>\n",
       "      <th>state</th>\n",
       "      <th>state_code</th>\n",
       "      <th>collected_at</th>\n",
       "    </tr>\n",
       "  </thead>\n",
       "  <tbody>\n",
       "    <tr>\n",
       "      <th>0</th>\n",
       "      <td>2020-10-15 00:00:01</td>\n",
       "      <td>1.316529e+18</td>\n",
       "      <td>#Elecciones2020 | En #Florida: #JoeBiden dice ...</td>\n",
       "      <td>0.0</td>\n",
       "      <td>0.0</td>\n",
       "      <td>TweetDeck</td>\n",
       "      <td>3.606665e+08</td>\n",
       "      <td>El Sol Latino News</td>\n",
       "      <td>elsollatinonews</td>\n",
       "      <td>🌐 Noticias de interés para latinos de la costa...</td>\n",
       "      <td>...</td>\n",
       "      <td>1860.0</td>\n",
       "      <td>Philadelphia, PA / Miami, FL</td>\n",
       "      <td>25.774270</td>\n",
       "      <td>-80.193660</td>\n",
       "      <td>NaN</td>\n",
       "      <td>United States of America</td>\n",
       "      <td>North America</td>\n",
       "      <td>Florida</td>\n",
       "      <td>FL</td>\n",
       "      <td>2020-10-21 00:00:00</td>\n",
       "    </tr>\n",
       "    <tr>\n",
       "      <th>1</th>\n",
       "      <td>2020-10-15 00:00:01</td>\n",
       "      <td>1.316529e+18</td>\n",
       "      <td>Usa 2020, Trump contro Facebook e Twitter: cop...</td>\n",
       "      <td>26.0</td>\n",
       "      <td>9.0</td>\n",
       "      <td>Social Mediaset</td>\n",
       "      <td>3.316176e+08</td>\n",
       "      <td>Tgcom24</td>\n",
       "      <td>MediasetTgcom24</td>\n",
       "      <td>Profilo ufficiale di Tgcom24: tutte le notizie...</td>\n",
       "      <td>...</td>\n",
       "      <td>1067661.0</td>\n",
       "      <td>NaN</td>\n",
       "      <td>NaN</td>\n",
       "      <td>NaN</td>\n",
       "      <td>NaN</td>\n",
       "      <td>NaN</td>\n",
       "      <td>NaN</td>\n",
       "      <td>NaN</td>\n",
       "      <td>NaN</td>\n",
       "      <td>2020-10-21 00:00:00.373216530</td>\n",
       "    </tr>\n",
       "    <tr>\n",
       "      <th>2</th>\n",
       "      <td>2020-10-15 00:00:02</td>\n",
       "      <td>1.316529e+18</td>\n",
       "      <td>#Trump: As a student I used to hear for years,...</td>\n",
       "      <td>2.0</td>\n",
       "      <td>1.0</td>\n",
       "      <td>Twitter Web App</td>\n",
       "      <td>8.436472e+06</td>\n",
       "      <td>snarke</td>\n",
       "      <td>snarke</td>\n",
       "      <td>Will mock for food! Freelance writer, blogger,...</td>\n",
       "      <td>...</td>\n",
       "      <td>1185.0</td>\n",
       "      <td>Portland</td>\n",
       "      <td>45.520247</td>\n",
       "      <td>-122.674195</td>\n",
       "      <td>Portland</td>\n",
       "      <td>United States of America</td>\n",
       "      <td>North America</td>\n",
       "      <td>Oregon</td>\n",
       "      <td>OR</td>\n",
       "      <td>2020-10-21 00:00:00.746433060</td>\n",
       "    </tr>\n",
       "    <tr>\n",
       "      <th>3</th>\n",
       "      <td>2020-10-15 00:00:02</td>\n",
       "      <td>1.316529e+18</td>\n",
       "      <td>2 hours since last tweet from #Trump! Maybe he...</td>\n",
       "      <td>0.0</td>\n",
       "      <td>0.0</td>\n",
       "      <td>Trumpytweeter</td>\n",
       "      <td>8.283556e+17</td>\n",
       "      <td>Trumpytweeter</td>\n",
       "      <td>trumpytweeter</td>\n",
       "      <td>If he doesn't tweet for some time, should we b...</td>\n",
       "      <td>...</td>\n",
       "      <td>32.0</td>\n",
       "      <td>NaN</td>\n",
       "      <td>NaN</td>\n",
       "      <td>NaN</td>\n",
       "      <td>NaN</td>\n",
       "      <td>NaN</td>\n",
       "      <td>NaN</td>\n",
       "      <td>NaN</td>\n",
       "      <td>NaN</td>\n",
       "      <td>2020-10-21 00:00:01.119649591</td>\n",
       "    </tr>\n",
       "    <tr>\n",
       "      <th>4</th>\n",
       "      <td>2020-10-15 00:00:08</td>\n",
       "      <td>1.316529e+18</td>\n",
       "      <td>You get a tie! And you get a tie! #Trump ‘s ra...</td>\n",
       "      <td>4.0</td>\n",
       "      <td>3.0</td>\n",
       "      <td>Twitter for iPhone</td>\n",
       "      <td>4.741380e+07</td>\n",
       "      <td>Rana Abtar - رنا أبتر</td>\n",
       "      <td>Ranaabtar</td>\n",
       "      <td>Washington Correspondent, Lebanese-American ,c...</td>\n",
       "      <td>...</td>\n",
       "      <td>5393.0</td>\n",
       "      <td>Washington DC</td>\n",
       "      <td>38.894992</td>\n",
       "      <td>-77.036558</td>\n",
       "      <td>Washington</td>\n",
       "      <td>United States of America</td>\n",
       "      <td>North America</td>\n",
       "      <td>District of Columbia</td>\n",
       "      <td>DC</td>\n",
       "      <td>2020-10-21 00:00:01.492866121</td>\n",
       "    </tr>\n",
       "    <tr>\n",
       "      <th>...</th>\n",
       "      <td>...</td>\n",
       "      <td>...</td>\n",
       "      <td>...</td>\n",
       "      <td>...</td>\n",
       "      <td>...</td>\n",
       "      <td>...</td>\n",
       "      <td>...</td>\n",
       "      <td>...</td>\n",
       "      <td>...</td>\n",
       "      <td>...</td>\n",
       "      <td>...</td>\n",
       "      <td>...</td>\n",
       "      <td>...</td>\n",
       "      <td>...</td>\n",
       "      <td>...</td>\n",
       "      <td>...</td>\n",
       "      <td>...</td>\n",
       "      <td>...</td>\n",
       "      <td>...</td>\n",
       "      <td>...</td>\n",
       "      <td>...</td>\n",
       "    </tr>\n",
       "    <tr>\n",
       "      <th>970914</th>\n",
       "      <td>2020-11-08 23:59:43</td>\n",
       "      <td>1.325589e+18</td>\n",
       "      <td>@PelleX @Mikerger @spiegelbilderz_ @BertiFranz...</td>\n",
       "      <td>0.0</td>\n",
       "      <td>0.0</td>\n",
       "      <td>Twitter Web App</td>\n",
       "      <td>3.427951e+09</td>\n",
       "      <td>Alexander P. Vogt</td>\n",
       "      <td>APVogt</td>\n",
       "      <td>Wenn das Aussprechen der Wahrheit »den Falsche...</td>\n",
       "      <td>...</td>\n",
       "      <td>2106.0</td>\n",
       "      <td>NaN</td>\n",
       "      <td>NaN</td>\n",
       "      <td>NaN</td>\n",
       "      <td>NaN</td>\n",
       "      <td>NaN</td>\n",
       "      <td>NaN</td>\n",
       "      <td>NaN</td>\n",
       "      <td>NaN</td>\n",
       "      <td>2020-11-09 17:47:56.036006</td>\n",
       "    </tr>\n",
       "    <tr>\n",
       "      <th>970915</th>\n",
       "      <td>2020-11-08 23:59:48</td>\n",
       "      <td>1.325589e+18</td>\n",
       "      <td>JOE BIDEN WHY JOE BIDEN DID WINNED ?? TRUMP TR...</td>\n",
       "      <td>4.0</td>\n",
       "      <td>0.0</td>\n",
       "      <td>Twitter Web App</td>\n",
       "      <td>3.245258e+09</td>\n",
       "      <td>ahzy</td>\n",
       "      <td>ahhhzy</td>\n",
       "      <td>NaN</td>\n",
       "      <td>...</td>\n",
       "      <td>19.0</td>\n",
       "      <td>NaN</td>\n",
       "      <td>NaN</td>\n",
       "      <td>NaN</td>\n",
       "      <td>NaN</td>\n",
       "      <td>NaN</td>\n",
       "      <td>NaN</td>\n",
       "      <td>NaN</td>\n",
       "      <td>NaN</td>\n",
       "      <td>2020-11-09 17:47:55.715870</td>\n",
       "    </tr>\n",
       "    <tr>\n",
       "      <th>970916</th>\n",
       "      <td>2020-11-08 23:59:53</td>\n",
       "      <td>1.325589e+18</td>\n",
       "      <td>#AfD|ler reagieren panisch bis hysterisch auf ...</td>\n",
       "      <td>25.0</td>\n",
       "      <td>4.0</td>\n",
       "      <td>Twitter Web App</td>\n",
       "      <td>9.866108e+17</td>\n",
       "      <td>watchdog</td>\n",
       "      <td>wilke_tobias</td>\n",
       "      <td>Quis custodiet ipsos custodes?\\n\\nTV Journalis...</td>\n",
       "      <td>...</td>\n",
       "      <td>3014.0</td>\n",
       "      <td>Saxony/GER</td>\n",
       "      <td>NaN</td>\n",
       "      <td>NaN</td>\n",
       "      <td>NaN</td>\n",
       "      <td>NaN</td>\n",
       "      <td>NaN</td>\n",
       "      <td>NaN</td>\n",
       "      <td>NaN</td>\n",
       "      <td>2020-11-09 17:47:55.975868</td>\n",
       "    </tr>\n",
       "    <tr>\n",
       "      <th>970917</th>\n",
       "      <td>2020-11-08 23:59:54</td>\n",
       "      <td>1.325589e+18</td>\n",
       "      <td>@sammelbis1998 @iheartmindy @bnorthg First, yo...</td>\n",
       "      <td>0.0</td>\n",
       "      <td>0.0</td>\n",
       "      <td>Twitter for iPad</td>\n",
       "      <td>7.687811e+08</td>\n",
       "      <td>Debra</td>\n",
       "      <td>drdeblk</td>\n",
       "      <td>MD. Autism specialist. Film lover. #DumpTrump2020</td>\n",
       "      <td>...</td>\n",
       "      <td>1079.0</td>\n",
       "      <td>NaN</td>\n",
       "      <td>NaN</td>\n",
       "      <td>NaN</td>\n",
       "      <td>NaN</td>\n",
       "      <td>NaN</td>\n",
       "      <td>NaN</td>\n",
       "      <td>NaN</td>\n",
       "      <td>NaN</td>\n",
       "      <td>2020-11-09 17:47:56.012674</td>\n",
       "    </tr>\n",
       "    <tr>\n",
       "      <th>970918</th>\n",
       "      <td>2020-11-08 23:59:55</td>\n",
       "      <td>1.325589e+18</td>\n",
       "      <td>OK just had to do it !\\n#Trump #CatapultTrump ...</td>\n",
       "      <td>105.0</td>\n",
       "      <td>28.0</td>\n",
       "      <td>Twitter Web App</td>\n",
       "      <td>4.519791e+08</td>\n",
       "      <td>Dunken K Bliths</td>\n",
       "      <td>DunkenKBliths</td>\n",
       "      <td>\"Tesla owner's will be followed back\"\\n\\n#Mach...</td>\n",
       "      <td>...</td>\n",
       "      <td>12192.0</td>\n",
       "      <td>✔ Official Twitter Account</td>\n",
       "      <td>NaN</td>\n",
       "      <td>NaN</td>\n",
       "      <td>NaN</td>\n",
       "      <td>NaN</td>\n",
       "      <td>NaN</td>\n",
       "      <td>NaN</td>\n",
       "      <td>NaN</td>\n",
       "      <td>2020-11-09 17:47:55.807500</td>\n",
       "    </tr>\n",
       "  </tbody>\n",
       "</table>\n",
       "<p>970919 rows × 21 columns</p>\n",
       "</div>"
      ],
      "text/plain": [
       "                 created_at      tweet_id  \\\n",
       "0       2020-10-15 00:00:01  1.316529e+18   \n",
       "1       2020-10-15 00:00:01  1.316529e+18   \n",
       "2       2020-10-15 00:00:02  1.316529e+18   \n",
       "3       2020-10-15 00:00:02  1.316529e+18   \n",
       "4       2020-10-15 00:00:08  1.316529e+18   \n",
       "...                     ...           ...   \n",
       "970914  2020-11-08 23:59:43  1.325589e+18   \n",
       "970915  2020-11-08 23:59:48  1.325589e+18   \n",
       "970916  2020-11-08 23:59:53  1.325589e+18   \n",
       "970917  2020-11-08 23:59:54  1.325589e+18   \n",
       "970918  2020-11-08 23:59:55  1.325589e+18   \n",
       "\n",
       "                                                    tweet  likes  \\\n",
       "0       #Elecciones2020 | En #Florida: #JoeBiden dice ...    0.0   \n",
       "1       Usa 2020, Trump contro Facebook e Twitter: cop...   26.0   \n",
       "2       #Trump: As a student I used to hear for years,...    2.0   \n",
       "3       2 hours since last tweet from #Trump! Maybe he...    0.0   \n",
       "4       You get a tie! And you get a tie! #Trump ‘s ra...    4.0   \n",
       "...                                                   ...    ...   \n",
       "970914  @PelleX @Mikerger @spiegelbilderz_ @BertiFranz...    0.0   \n",
       "970915  JOE BIDEN WHY JOE BIDEN DID WINNED ?? TRUMP TR...    4.0   \n",
       "970916  #AfD|ler reagieren panisch bis hysterisch auf ...   25.0   \n",
       "970917  @sammelbis1998 @iheartmindy @bnorthg First, yo...    0.0   \n",
       "970918  OK just had to do it !\\n#Trump #CatapultTrump ...  105.0   \n",
       "\n",
       "        retweet_count              source       user_id  \\\n",
       "0                 0.0           TweetDeck  3.606665e+08   \n",
       "1                 9.0    Social Mediaset   3.316176e+08   \n",
       "2                 1.0     Twitter Web App  8.436472e+06   \n",
       "3                 0.0       Trumpytweeter  8.283556e+17   \n",
       "4                 3.0  Twitter for iPhone  4.741380e+07   \n",
       "...               ...                 ...           ...   \n",
       "970914            0.0     Twitter Web App  3.427951e+09   \n",
       "970915            0.0     Twitter Web App  3.245258e+09   \n",
       "970916            4.0     Twitter Web App  9.866108e+17   \n",
       "970917            0.0    Twitter for iPad  7.687811e+08   \n",
       "970918           28.0     Twitter Web App  4.519791e+08   \n",
       "\n",
       "                    user_name user_screen_name  \\\n",
       "0          El Sol Latino News  elsollatinonews   \n",
       "1                     Tgcom24  MediasetTgcom24   \n",
       "2                      snarke           snarke   \n",
       "3               Trumpytweeter    trumpytweeter   \n",
       "4       Rana Abtar - رنا أبتر        Ranaabtar   \n",
       "...                       ...              ...   \n",
       "970914      Alexander P. Vogt           APVogt   \n",
       "970915                   ahzy           ahhhzy   \n",
       "970916               watchdog     wilke_tobias   \n",
       "970917                  Debra          drdeblk   \n",
       "970918        Dunken K Bliths    DunkenKBliths   \n",
       "\n",
       "                                         user_description  ...  \\\n",
       "0       🌐 Noticias de interés para latinos de la costa...  ...   \n",
       "1       Profilo ufficiale di Tgcom24: tutte le notizie...  ...   \n",
       "2       Will mock for food! Freelance writer, blogger,...  ...   \n",
       "3       If he doesn't tweet for some time, should we b...  ...   \n",
       "4       Washington Correspondent, Lebanese-American ,c...  ...   \n",
       "...                                                   ...  ...   \n",
       "970914  Wenn das Aussprechen der Wahrheit »den Falsche...  ...   \n",
       "970915                                                NaN  ...   \n",
       "970916  Quis custodiet ipsos custodes?\\n\\nTV Journalis...  ...   \n",
       "970917  MD. Autism specialist. Film lover. #DumpTrump2020  ...   \n",
       "970918  \"Tesla owner's will be followed back\"\\n\\n#Mach...  ...   \n",
       "\n",
       "       user_followers_count                 user_location        lat  \\\n",
       "0                    1860.0  Philadelphia, PA / Miami, FL  25.774270   \n",
       "1                 1067661.0                           NaN        NaN   \n",
       "2                    1185.0                      Portland  45.520247   \n",
       "3                      32.0                           NaN        NaN   \n",
       "4                    5393.0                 Washington DC  38.894992   \n",
       "...                     ...                           ...        ...   \n",
       "970914               2106.0                           NaN        NaN   \n",
       "970915                 19.0                           NaN        NaN   \n",
       "970916               3014.0                    Saxony/GER        NaN   \n",
       "970917               1079.0                           NaN        NaN   \n",
       "970918              12192.0    ✔ Official Twitter Account        NaN   \n",
       "\n",
       "              long        city                   country      continent  \\\n",
       "0       -80.193660         NaN  United States of America  North America   \n",
       "1              NaN         NaN                       NaN            NaN   \n",
       "2      -122.674195    Portland  United States of America  North America   \n",
       "3              NaN         NaN                       NaN            NaN   \n",
       "4       -77.036558  Washington  United States of America  North America   \n",
       "...            ...         ...                       ...            ...   \n",
       "970914         NaN         NaN                       NaN            NaN   \n",
       "970915         NaN         NaN                       NaN            NaN   \n",
       "970916         NaN         NaN                       NaN            NaN   \n",
       "970917         NaN         NaN                       NaN            NaN   \n",
       "970918         NaN         NaN                       NaN            NaN   \n",
       "\n",
       "                       state state_code                   collected_at  \n",
       "0                    Florida         FL            2020-10-21 00:00:00  \n",
       "1                        NaN        NaN  2020-10-21 00:00:00.373216530  \n",
       "2                     Oregon         OR  2020-10-21 00:00:00.746433060  \n",
       "3                        NaN        NaN  2020-10-21 00:00:01.119649591  \n",
       "4       District of Columbia         DC  2020-10-21 00:00:01.492866121  \n",
       "...                      ...        ...                            ...  \n",
       "970914                   NaN        NaN     2020-11-09 17:47:56.036006  \n",
       "970915                   NaN        NaN     2020-11-09 17:47:55.715870  \n",
       "970916                   NaN        NaN     2020-11-09 17:47:55.975868  \n",
       "970917                   NaN        NaN     2020-11-09 17:47:56.012674  \n",
       "970918                   NaN        NaN     2020-11-09 17:47:55.807500  \n",
       "\n",
       "[970919 rows x 21 columns]"
      ]
     },
     "execution_count": 6,
     "metadata": {},
     "output_type": "execute_result"
    }
   ],
   "source": [
    "trump"
   ]
  },
  {
   "cell_type": "code",
   "execution_count": 7,
   "id": "4726fbda",
   "metadata": {
    "execution": {
     "iopub.execute_input": "2022-06-21T19:11:16.978294Z",
     "iopub.status.busy": "2022-06-21T19:11:16.977912Z",
     "iopub.status.idle": "2022-06-21T19:11:17.817853Z",
     "shell.execute_reply": "2022-06-21T19:11:17.817079Z"
    },
    "papermill": {
     "duration": 0.854834,
     "end_time": "2022-06-21T19:11:17.819783",
     "exception": false,
     "start_time": "2022-06-21T19:11:16.964949",
     "status": "completed"
    },
    "tags": []
   },
   "outputs": [
    {
     "data": {
      "text/html": [
       "<div>\n",
       "<style scoped>\n",
       "    .dataframe tbody tr th:only-of-type {\n",
       "        vertical-align: middle;\n",
       "    }\n",
       "\n",
       "    .dataframe tbody tr th {\n",
       "        vertical-align: top;\n",
       "    }\n",
       "\n",
       "    .dataframe thead th {\n",
       "        text-align: right;\n",
       "    }\n",
       "</style>\n",
       "<table border=\"1\" class=\"dataframe\">\n",
       "  <thead>\n",
       "    <tr style=\"text-align: right;\">\n",
       "      <th></th>\n",
       "      <th>created_at</th>\n",
       "      <th>tweet_id</th>\n",
       "      <th>tweet</th>\n",
       "      <th>likes</th>\n",
       "      <th>retweet_count</th>\n",
       "      <th>source</th>\n",
       "      <th>user_id</th>\n",
       "      <th>user_name</th>\n",
       "      <th>user_screen_name</th>\n",
       "      <th>user_description</th>\n",
       "      <th>...</th>\n",
       "      <th>user_followers_count</th>\n",
       "      <th>user_location</th>\n",
       "      <th>lat</th>\n",
       "      <th>long</th>\n",
       "      <th>city</th>\n",
       "      <th>country</th>\n",
       "      <th>continent</th>\n",
       "      <th>state</th>\n",
       "      <th>state_code</th>\n",
       "      <th>collected_at</th>\n",
       "    </tr>\n",
       "  </thead>\n",
       "  <tbody>\n",
       "    <tr>\n",
       "      <th>0</th>\n",
       "      <td>2020-10-15 00:00:01</td>\n",
       "      <td>1.316529e+18</td>\n",
       "      <td>#Elecciones2020 | En #Florida: #JoeBiden dice ...</td>\n",
       "      <td>0.0</td>\n",
       "      <td>0.0</td>\n",
       "      <td>TweetDeck</td>\n",
       "      <td>3.606665e+08</td>\n",
       "      <td>El Sol Latino News</td>\n",
       "      <td>elsollatinonews</td>\n",
       "      <td>🌐 Noticias de interés para latinos de la costa...</td>\n",
       "      <td>...</td>\n",
       "      <td>1860.0</td>\n",
       "      <td>Philadelphia, PA / Miami, FL</td>\n",
       "      <td>25.774270</td>\n",
       "      <td>-80.193660</td>\n",
       "      <td>NaN</td>\n",
       "      <td>United States of America</td>\n",
       "      <td>North America</td>\n",
       "      <td>Florida</td>\n",
       "      <td>FL</td>\n",
       "      <td>2020-10-21 00:00:00</td>\n",
       "    </tr>\n",
       "    <tr>\n",
       "      <th>1</th>\n",
       "      <td>2020-10-15 00:00:18</td>\n",
       "      <td>1.316529e+18</td>\n",
       "      <td>#HunterBiden #HunterBidenEmails #JoeBiden #Joe...</td>\n",
       "      <td>0.0</td>\n",
       "      <td>0.0</td>\n",
       "      <td>Twitter for iPad</td>\n",
       "      <td>8.099044e+08</td>\n",
       "      <td>Cheri A. 🇺🇸</td>\n",
       "      <td>Biloximeemaw</td>\n",
       "      <td>Locked and loaded Meemaw. Love God, my family ...</td>\n",
       "      <td>...</td>\n",
       "      <td>6628.0</td>\n",
       "      <td>NaN</td>\n",
       "      <td>NaN</td>\n",
       "      <td>NaN</td>\n",
       "      <td>NaN</td>\n",
       "      <td>NaN</td>\n",
       "      <td>NaN</td>\n",
       "      <td>NaN</td>\n",
       "      <td>NaN</td>\n",
       "      <td>2020-10-21 00:00:00.517827283</td>\n",
       "    </tr>\n",
       "    <tr>\n",
       "      <th>2</th>\n",
       "      <td>2020-10-15 00:00:20</td>\n",
       "      <td>1.316529e+18</td>\n",
       "      <td>@IslandGirlPRV @BradBeauregardJ @MeidasTouch T...</td>\n",
       "      <td>0.0</td>\n",
       "      <td>0.0</td>\n",
       "      <td>Twitter Web App</td>\n",
       "      <td>3.494182e+09</td>\n",
       "      <td>Flag Waver</td>\n",
       "      <td>Flag_Wavers</td>\n",
       "      <td>NaN</td>\n",
       "      <td>...</td>\n",
       "      <td>1536.0</td>\n",
       "      <td>Golden Valley Arizona</td>\n",
       "      <td>46.304036</td>\n",
       "      <td>-109.171431</td>\n",
       "      <td>NaN</td>\n",
       "      <td>United States of America</td>\n",
       "      <td>North America</td>\n",
       "      <td>Montana</td>\n",
       "      <td>MT</td>\n",
       "      <td>2020-10-21 00:00:01.035654566</td>\n",
       "    </tr>\n",
       "    <tr>\n",
       "      <th>3</th>\n",
       "      <td>2020-10-15 00:00:21</td>\n",
       "      <td>1.316529e+18</td>\n",
       "      <td>@chrislongview Watching and setting dvr. Let’s...</td>\n",
       "      <td>0.0</td>\n",
       "      <td>0.0</td>\n",
       "      <td>Twitter for iPhone</td>\n",
       "      <td>8.242596e+17</td>\n",
       "      <td>Michelle Ferg</td>\n",
       "      <td>MichelleFerg4</td>\n",
       "      <td>NaN</td>\n",
       "      <td>...</td>\n",
       "      <td>27.0</td>\n",
       "      <td>NaN</td>\n",
       "      <td>NaN</td>\n",
       "      <td>NaN</td>\n",
       "      <td>NaN</td>\n",
       "      <td>NaN</td>\n",
       "      <td>NaN</td>\n",
       "      <td>NaN</td>\n",
       "      <td>NaN</td>\n",
       "      <td>2020-10-21 00:00:01.553481849</td>\n",
       "    </tr>\n",
       "    <tr>\n",
       "      <th>4</th>\n",
       "      <td>2020-10-15 00:00:22</td>\n",
       "      <td>1.316529e+18</td>\n",
       "      <td>#censorship #HunterBiden #Biden #BidenEmails #...</td>\n",
       "      <td>1.0</td>\n",
       "      <td>0.0</td>\n",
       "      <td>Twitter Web App</td>\n",
       "      <td>1.032807e+18</td>\n",
       "      <td>the Gold State</td>\n",
       "      <td>theegoldstate</td>\n",
       "      <td>A Silicon Valley #independent #News #Media #St...</td>\n",
       "      <td>...</td>\n",
       "      <td>390.0</td>\n",
       "      <td>California, USA</td>\n",
       "      <td>36.701463</td>\n",
       "      <td>-118.755997</td>\n",
       "      <td>NaN</td>\n",
       "      <td>United States of America</td>\n",
       "      <td>North America</td>\n",
       "      <td>California</td>\n",
       "      <td>CA</td>\n",
       "      <td>2020-10-21 00:00:02.071309132</td>\n",
       "    </tr>\n",
       "    <tr>\n",
       "      <th>...</th>\n",
       "      <td>...</td>\n",
       "      <td>...</td>\n",
       "      <td>...</td>\n",
       "      <td>...</td>\n",
       "      <td>...</td>\n",
       "      <td>...</td>\n",
       "      <td>...</td>\n",
       "      <td>...</td>\n",
       "      <td>...</td>\n",
       "      <td>...</td>\n",
       "      <td>...</td>\n",
       "      <td>...</td>\n",
       "      <td>...</td>\n",
       "      <td>...</td>\n",
       "      <td>...</td>\n",
       "      <td>...</td>\n",
       "      <td>...</td>\n",
       "      <td>...</td>\n",
       "      <td>...</td>\n",
       "      <td>...</td>\n",
       "      <td>...</td>\n",
       "    </tr>\n",
       "    <tr>\n",
       "      <th>776881</th>\n",
       "      <td>2020-11-08 23:59:38</td>\n",
       "      <td>1.325589e+18</td>\n",
       "      <td>Stop laying @CNN !\\n#Paris and #London dont gi...</td>\n",
       "      <td>0.0</td>\n",
       "      <td>0.0</td>\n",
       "      <td>Twitter for iPhone</td>\n",
       "      <td>3.873620e+08</td>\n",
       "      <td>flaquet</td>\n",
       "      <td>flaquet1</td>\n",
       "      <td>NaN</td>\n",
       "      <td>...</td>\n",
       "      <td>27.0</td>\n",
       "      <td>PARIS</td>\n",
       "      <td>48.856697</td>\n",
       "      <td>2.351462</td>\n",
       "      <td>Paris</td>\n",
       "      <td>France</td>\n",
       "      <td>Europe</td>\n",
       "      <td>Ile-de-France</td>\n",
       "      <td>IDF</td>\n",
       "      <td>2020-11-09 18:32:45.613547</td>\n",
       "    </tr>\n",
       "    <tr>\n",
       "      <th>776882</th>\n",
       "      <td>2020-11-08 23:59:38</td>\n",
       "      <td>1.325589e+18</td>\n",
       "      <td>Ωχ ελπίζω να μη μας βγει  σαν τους οπαδούς του...</td>\n",
       "      <td>0.0</td>\n",
       "      <td>0.0</td>\n",
       "      <td>Twitter for Android</td>\n",
       "      <td>4.032819e+08</td>\n",
       "      <td>οχι άλλο κάρβουνο 🇬🇷🗣🗣🗣</td>\n",
       "      <td>anapodoi</td>\n",
       "      <td>ακραία καιρικά φαινόμενα... ζήσαμε και απόψε</td>\n",
       "      <td>...</td>\n",
       "      <td>772.0</td>\n",
       "      <td>NaN</td>\n",
       "      <td>NaN</td>\n",
       "      <td>NaN</td>\n",
       "      <td>NaN</td>\n",
       "      <td>NaN</td>\n",
       "      <td>NaN</td>\n",
       "      <td>NaN</td>\n",
       "      <td>NaN</td>\n",
       "      <td>2020-11-09 18:32:45.947617</td>\n",
       "    </tr>\n",
       "    <tr>\n",
       "      <th>776883</th>\n",
       "      <td>2020-11-08 23:59:41</td>\n",
       "      <td>1.325589e+18</td>\n",
       "      <td>L'OTAN va sortir de sa léthargie et redevenir ...</td>\n",
       "      <td>48.0</td>\n",
       "      <td>14.0</td>\n",
       "      <td>Twitter for Android</td>\n",
       "      <td>7.819183e+17</td>\n",
       "      <td>🇫🇷 Alt-Droite (matricule 6921) ✝️ 🇬🇷 🇮🇹 🇦🇲</td>\n",
       "      <td>CtrlAltDroite</td>\n",
       "      <td>Fils de mineur. Libertés - Identité - Solidari...</td>\n",
       "      <td>...</td>\n",
       "      <td>15806.0</td>\n",
       "      <td>France</td>\n",
       "      <td>46.603354</td>\n",
       "      <td>1.888334</td>\n",
       "      <td>NaN</td>\n",
       "      <td>France</td>\n",
       "      <td>Europe</td>\n",
       "      <td>NaN</td>\n",
       "      <td>NaN</td>\n",
       "      <td>2020-11-09 18:32:45.627335</td>\n",
       "    </tr>\n",
       "    <tr>\n",
       "      <th>776884</th>\n",
       "      <td>2020-11-08 23:59:52</td>\n",
       "      <td>1.325589e+18</td>\n",
       "      <td>🌎\\n\\n“#congiuntifuoriregione”\\n\\n‘Sono felice ...</td>\n",
       "      <td>1.0</td>\n",
       "      <td>1.0</td>\n",
       "      <td>Twitter for iPhone</td>\n",
       "      <td>5.293315e+08</td>\n",
       "      <td>Angelo Tani</td>\n",
       "      <td>AngeloTani</td>\n",
       "      <td>nato a casa dei nonni</td>\n",
       "      <td>...</td>\n",
       "      <td>5974.0</td>\n",
       "      <td>🌎</td>\n",
       "      <td>NaN</td>\n",
       "      <td>NaN</td>\n",
       "      <td>NaN</td>\n",
       "      <td>NaN</td>\n",
       "      <td>NaN</td>\n",
       "      <td>NaN</td>\n",
       "      <td>NaN</td>\n",
       "      <td>2020-11-09 18:32:45.599846</td>\n",
       "    </tr>\n",
       "    <tr>\n",
       "      <th>776885</th>\n",
       "      <td>2020-11-08 23:59:58</td>\n",
       "      <td>1.325589e+18</td>\n",
       "      <td>Ik moet zeggen dat ik #Biden \"the lesser of tw...</td>\n",
       "      <td>0.0</td>\n",
       "      <td>0.0</td>\n",
       "      <td>Twitter for Android</td>\n",
       "      <td>5.863863e+08</td>\n",
       "      <td>Job</td>\n",
       "      <td>_JobO__</td>\n",
       "      <td>-voeg hier uw interessante bio toe-</td>\n",
       "      <td>...</td>\n",
       "      <td>119.0</td>\n",
       "      <td>NaN</td>\n",
       "      <td>NaN</td>\n",
       "      <td>NaN</td>\n",
       "      <td>NaN</td>\n",
       "      <td>NaN</td>\n",
       "      <td>NaN</td>\n",
       "      <td>NaN</td>\n",
       "      <td>NaN</td>\n",
       "      <td>2020-11-09 18:32:45.747707</td>\n",
       "    </tr>\n",
       "  </tbody>\n",
       "</table>\n",
       "<p>776886 rows × 21 columns</p>\n",
       "</div>"
      ],
      "text/plain": [
       "                 created_at      tweet_id  \\\n",
       "0       2020-10-15 00:00:01  1.316529e+18   \n",
       "1       2020-10-15 00:00:18  1.316529e+18   \n",
       "2       2020-10-15 00:00:20  1.316529e+18   \n",
       "3       2020-10-15 00:00:21  1.316529e+18   \n",
       "4       2020-10-15 00:00:22  1.316529e+18   \n",
       "...                     ...           ...   \n",
       "776881  2020-11-08 23:59:38  1.325589e+18   \n",
       "776882  2020-11-08 23:59:38  1.325589e+18   \n",
       "776883  2020-11-08 23:59:41  1.325589e+18   \n",
       "776884  2020-11-08 23:59:52  1.325589e+18   \n",
       "776885  2020-11-08 23:59:58  1.325589e+18   \n",
       "\n",
       "                                                    tweet  likes  \\\n",
       "0       #Elecciones2020 | En #Florida: #JoeBiden dice ...    0.0   \n",
       "1       #HunterBiden #HunterBidenEmails #JoeBiden #Joe...    0.0   \n",
       "2       @IslandGirlPRV @BradBeauregardJ @MeidasTouch T...    0.0   \n",
       "3       @chrislongview Watching and setting dvr. Let’s...    0.0   \n",
       "4       #censorship #HunterBiden #Biden #BidenEmails #...    1.0   \n",
       "...                                                   ...    ...   \n",
       "776881  Stop laying @CNN !\\n#Paris and #London dont gi...    0.0   \n",
       "776882  Ωχ ελπίζω να μη μας βγει  σαν τους οπαδούς του...    0.0   \n",
       "776883  L'OTAN va sortir de sa léthargie et redevenir ...   48.0   \n",
       "776884  🌎\\n\\n“#congiuntifuoriregione”\\n\\n‘Sono felice ...    1.0   \n",
       "776885  Ik moet zeggen dat ik #Biden \"the lesser of tw...    0.0   \n",
       "\n",
       "        retweet_count               source       user_id  \\\n",
       "0                 0.0            TweetDeck  3.606665e+08   \n",
       "1                 0.0     Twitter for iPad  8.099044e+08   \n",
       "2                 0.0      Twitter Web App  3.494182e+09   \n",
       "3                 0.0   Twitter for iPhone  8.242596e+17   \n",
       "4                 0.0      Twitter Web App  1.032807e+18   \n",
       "...               ...                  ...           ...   \n",
       "776881            0.0   Twitter for iPhone  3.873620e+08   \n",
       "776882            0.0  Twitter for Android  4.032819e+08   \n",
       "776883           14.0  Twitter for Android  7.819183e+17   \n",
       "776884            1.0   Twitter for iPhone  5.293315e+08   \n",
       "776885            0.0  Twitter for Android  5.863863e+08   \n",
       "\n",
       "                                         user_name user_screen_name  \\\n",
       "0                               El Sol Latino News  elsollatinonews   \n",
       "1                                      Cheri A. 🇺🇸     Biloximeemaw   \n",
       "2                                       Flag Waver      Flag_Wavers   \n",
       "3                                    Michelle Ferg    MichelleFerg4   \n",
       "4                                   the Gold State    theegoldstate   \n",
       "...                                            ...              ...   \n",
       "776881                                     flaquet         flaquet1   \n",
       "776882                     οχι άλλο κάρβουνο 🇬🇷🗣🗣🗣         anapodoi   \n",
       "776883  🇫🇷 Alt-Droite (matricule 6921) ✝️ 🇬🇷 🇮🇹 🇦🇲    CtrlAltDroite   \n",
       "776884                                 Angelo Tani       AngeloTani   \n",
       "776885                                         Job          _JobO__   \n",
       "\n",
       "                                         user_description  ...  \\\n",
       "0       🌐 Noticias de interés para latinos de la costa...  ...   \n",
       "1       Locked and loaded Meemaw. Love God, my family ...  ...   \n",
       "2                                                     NaN  ...   \n",
       "3                                                     NaN  ...   \n",
       "4       A Silicon Valley #independent #News #Media #St...  ...   \n",
       "...                                                   ...  ...   \n",
       "776881                                                NaN  ...   \n",
       "776882       ακραία καιρικά φαινόμενα... ζήσαμε και απόψε  ...   \n",
       "776883  Fils de mineur. Libertés - Identité - Solidari...  ...   \n",
       "776884                              nato a casa dei nonni  ...   \n",
       "776885                -voeg hier uw interessante bio toe-  ...   \n",
       "\n",
       "       user_followers_count                 user_location        lat  \\\n",
       "0                    1860.0  Philadelphia, PA / Miami, FL  25.774270   \n",
       "1                    6628.0                           NaN        NaN   \n",
       "2                    1536.0         Golden Valley Arizona  46.304036   \n",
       "3                      27.0                           NaN        NaN   \n",
       "4                     390.0               California, USA  36.701463   \n",
       "...                     ...                           ...        ...   \n",
       "776881                 27.0                         PARIS  48.856697   \n",
       "776882                772.0                           NaN        NaN   \n",
       "776883              15806.0                        France  46.603354   \n",
       "776884               5974.0                             🌎        NaN   \n",
       "776885                119.0                           NaN        NaN   \n",
       "\n",
       "              long   city                   country      continent  \\\n",
       "0       -80.193660    NaN  United States of America  North America   \n",
       "1              NaN    NaN                       NaN            NaN   \n",
       "2      -109.171431    NaN  United States of America  North America   \n",
       "3              NaN    NaN                       NaN            NaN   \n",
       "4      -118.755997    NaN  United States of America  North America   \n",
       "...            ...    ...                       ...            ...   \n",
       "776881    2.351462  Paris                    France         Europe   \n",
       "776882         NaN    NaN                       NaN            NaN   \n",
       "776883    1.888334    NaN                    France         Europe   \n",
       "776884         NaN    NaN                       NaN            NaN   \n",
       "776885         NaN    NaN                       NaN            NaN   \n",
       "\n",
       "                state state_code                   collected_at  \n",
       "0             Florida         FL            2020-10-21 00:00:00  \n",
       "1                 NaN        NaN  2020-10-21 00:00:00.517827283  \n",
       "2             Montana         MT  2020-10-21 00:00:01.035654566  \n",
       "3                 NaN        NaN  2020-10-21 00:00:01.553481849  \n",
       "4          California         CA  2020-10-21 00:00:02.071309132  \n",
       "...               ...        ...                            ...  \n",
       "776881  Ile-de-France        IDF     2020-11-09 18:32:45.613547  \n",
       "776882            NaN        NaN     2020-11-09 18:32:45.947617  \n",
       "776883            NaN        NaN     2020-11-09 18:32:45.627335  \n",
       "776884            NaN        NaN     2020-11-09 18:32:45.599846  \n",
       "776885            NaN        NaN     2020-11-09 18:32:45.747707  \n",
       "\n",
       "[776886 rows x 21 columns]"
      ]
     },
     "execution_count": 7,
     "metadata": {},
     "output_type": "execute_result"
    }
   ],
   "source": [
    "biden"
   ]
  },
  {
   "cell_type": "code",
   "execution_count": 8,
   "id": "fdffb807",
   "metadata": {
    "execution": {
     "iopub.execute_input": "2022-06-21T19:11:17.845683Z",
     "iopub.status.busy": "2022-06-21T19:11:17.845074Z",
     "iopub.status.idle": "2022-06-21T19:11:18.558994Z",
     "shell.execute_reply": "2022-06-21T19:11:18.557695Z"
    },
    "papermill": {
     "duration": 0.729237,
     "end_time": "2022-06-21T19:11:18.561175",
     "exception": false,
     "start_time": "2022-06-21T19:11:17.831938",
     "status": "completed"
    },
    "tags": []
   },
   "outputs": [
    {
     "name": "stdout",
     "output_type": "stream",
     "text": [
      "<class 'pandas.core.frame.DataFrame'>\n",
      "RangeIndex: 970919 entries, 0 to 970918\n",
      "Data columns (total 21 columns):\n",
      " #   Column                Non-Null Count   Dtype  \n",
      "---  ------                --------------   -----  \n",
      " 0   created_at            970919 non-null  object \n",
      " 1   tweet_id              970919 non-null  float64\n",
      " 2   tweet                 970919 non-null  object \n",
      " 3   likes                 970919 non-null  float64\n",
      " 4   retweet_count         970919 non-null  float64\n",
      " 5   source                970043 non-null  object \n",
      " 6   user_id               970919 non-null  float64\n",
      " 7   user_name             970903 non-null  object \n",
      " 8   user_screen_name      970919 non-null  object \n",
      " 9   user_description      869653 non-null  object \n",
      " 10  user_join_date        970919 non-null  object \n",
      " 11  user_followers_count  970919 non-null  float64\n",
      " 12  user_location         675966 non-null  object \n",
      " 13  lat                   445719 non-null  float64\n",
      " 14  long                  445719 non-null  float64\n",
      " 15  city                  227187 non-null  object \n",
      " 16  country               442748 non-null  object \n",
      " 17  continent             442765 non-null  object \n",
      " 18  state                 320620 non-null  object \n",
      " 19  state_code            300425 non-null  object \n",
      " 20  collected_at          970919 non-null  object \n",
      "dtypes: float64(7), object(14)\n",
      "memory usage: 155.6+ MB\n"
     ]
    }
   ],
   "source": [
    "trump.info()"
   ]
  },
  {
   "cell_type": "code",
   "execution_count": 9,
   "id": "56980475",
   "metadata": {
    "execution": {
     "iopub.execute_input": "2022-06-21T19:11:18.588007Z",
     "iopub.status.busy": "2022-06-21T19:11:18.587294Z",
     "iopub.status.idle": "2022-06-21T19:11:19.147070Z",
     "shell.execute_reply": "2022-06-21T19:11:19.145700Z"
    },
    "papermill": {
     "duration": 0.57567,
     "end_time": "2022-06-21T19:11:19.149436",
     "exception": false,
     "start_time": "2022-06-21T19:11:18.573766",
     "status": "completed"
    },
    "tags": []
   },
   "outputs": [
    {
     "name": "stdout",
     "output_type": "stream",
     "text": [
      "<class 'pandas.core.frame.DataFrame'>\n",
      "RangeIndex: 776886 entries, 0 to 776885\n",
      "Data columns (total 21 columns):\n",
      " #   Column                Non-Null Count   Dtype  \n",
      "---  ------                --------------   -----  \n",
      " 0   created_at            776886 non-null  object \n",
      " 1   tweet_id              776886 non-null  float64\n",
      " 2   tweet                 776886 non-null  object \n",
      " 3   likes                 776886 non-null  float64\n",
      " 4   retweet_count         776886 non-null  float64\n",
      " 5   source                776173 non-null  object \n",
      " 6   user_id               776886 non-null  float64\n",
      " 7   user_name             776868 non-null  object \n",
      " 8   user_screen_name      776886 non-null  object \n",
      " 9   user_description      694880 non-null  object \n",
      " 10  user_join_date        776886 non-null  object \n",
      " 11  user_followers_count  776886 non-null  float64\n",
      " 12  user_location         543095 non-null  object \n",
      " 13  lat                   355293 non-null  float64\n",
      " 14  long                  355293 non-null  float64\n",
      " 15  city                  186872 non-null  object \n",
      " 16  country               353779 non-null  object \n",
      " 17  continent             353797 non-null  object \n",
      " 18  state                 260195 non-null  object \n",
      " 19  state_code            244609 non-null  object \n",
      " 20  collected_at          776886 non-null  object \n",
      "dtypes: float64(7), object(14)\n",
      "memory usage: 124.5+ MB\n"
     ]
    }
   ],
   "source": [
    "biden.info()"
   ]
  },
  {
   "cell_type": "markdown",
   "id": "628fb1db",
   "metadata": {
    "papermill": {
     "duration": 0.012071,
     "end_time": "2022-06-21T19:11:19.175876",
     "exception": false,
     "start_time": "2022-06-21T19:11:19.163805",
     "status": "completed"
    },
    "tags": []
   },
   "source": [
    "**We'll let the nulls be since only tweets is the feature of our interest and it doesn't have any null**"
   ]
  },
  {
   "cell_type": "code",
   "execution_count": 10,
   "id": "2613d7ee",
   "metadata": {
    "execution": {
     "iopub.execute_input": "2022-06-21T19:11:19.202833Z",
     "iopub.status.busy": "2022-06-21T19:11:19.201956Z",
     "iopub.status.idle": "2022-06-21T19:11:19.908704Z",
     "shell.execute_reply": "2022-06-21T19:11:19.907472Z"
    },
    "papermill": {
     "duration": 0.722941,
     "end_time": "2022-06-21T19:11:19.911118",
     "exception": false,
     "start_time": "2022-06-21T19:11:19.188177",
     "status": "completed"
    },
    "tags": []
   },
   "outputs": [
    {
     "data": {
      "text/plain": [
       "created_at                   0\n",
       "tweet_id                     0\n",
       "tweet                        0\n",
       "likes                        0\n",
       "retweet_count                0\n",
       "source                     876\n",
       "user_id                      0\n",
       "user_name                   16\n",
       "user_screen_name             0\n",
       "user_description        101266\n",
       "user_join_date               0\n",
       "user_followers_count         0\n",
       "user_location           294953\n",
       "lat                     525200\n",
       "long                    525200\n",
       "city                    743732\n",
       "country                 528171\n",
       "continent               528154\n",
       "state                   650299\n",
       "state_code              670494\n",
       "collected_at                 0\n",
       "dtype: int64"
      ]
     },
     "execution_count": 10,
     "metadata": {},
     "output_type": "execute_result"
    }
   ],
   "source": [
    "trump.isna().sum()"
   ]
  },
  {
   "cell_type": "code",
   "execution_count": 11,
   "id": "6c9df330",
   "metadata": {
    "execution": {
     "iopub.execute_input": "2022-06-21T19:11:19.943680Z",
     "iopub.status.busy": "2022-06-21T19:11:19.942919Z",
     "iopub.status.idle": "2022-06-21T19:11:20.509976Z",
     "shell.execute_reply": "2022-06-21T19:11:20.508974Z"
    },
    "papermill": {
     "duration": 0.585426,
     "end_time": "2022-06-21T19:11:20.512513",
     "exception": false,
     "start_time": "2022-06-21T19:11:19.927087",
     "status": "completed"
    },
    "tags": []
   },
   "outputs": [
    {
     "data": {
      "text/plain": [
       "created_at                   0\n",
       "tweet_id                     0\n",
       "tweet                        0\n",
       "likes                        0\n",
       "retweet_count                0\n",
       "source                     713\n",
       "user_id                      0\n",
       "user_name                   18\n",
       "user_screen_name             0\n",
       "user_description         82006\n",
       "user_join_date               0\n",
       "user_followers_count         0\n",
       "user_location           233791\n",
       "lat                     421593\n",
       "long                    421593\n",
       "city                    590014\n",
       "country                 423107\n",
       "continent               423089\n",
       "state                   516691\n",
       "state_code              532277\n",
       "collected_at                 0\n",
       "dtype: int64"
      ]
     },
     "execution_count": 11,
     "metadata": {},
     "output_type": "execute_result"
    }
   ],
   "source": [
    "biden.isna().sum()"
   ]
  },
  {
   "cell_type": "markdown",
   "id": "43b1ef0f",
   "metadata": {
    "papermill": {
     "duration": 0.012059,
     "end_time": "2022-06-21T19:11:20.536905",
     "exception": false,
     "start_time": "2022-06-21T19:11:20.524846",
     "status": "completed"
    },
    "tags": []
   },
   "source": [
    "**Concatenating both the dataframes**"
   ]
  },
  {
   "cell_type": "code",
   "execution_count": 12,
   "id": "1df3ba18",
   "metadata": {
    "execution": {
     "iopub.execute_input": "2022-06-21T19:11:20.563519Z",
     "iopub.status.busy": "2022-06-21T19:11:20.562601Z",
     "iopub.status.idle": "2022-06-21T19:11:22.608097Z",
     "shell.execute_reply": "2022-06-21T19:11:22.602916Z"
    },
    "papermill": {
     "duration": 2.069106,
     "end_time": "2022-06-21T19:11:22.618379",
     "exception": false,
     "start_time": "2022-06-21T19:11:20.549273",
     "status": "completed"
    },
    "tags": []
   },
   "outputs": [],
   "source": [
    "#WE'LL BE CONSIDERING TWEETS COL AND COUNTRY(==USA) COL\n",
    "trump['candidate']='Trump'\n",
    "biden['candidate']='Biden'\n",
    "df=pd.concat([trump,biden])"
   ]
  },
  {
   "cell_type": "markdown",
   "id": "208c7bfb",
   "metadata": {
    "papermill": {
     "duration": 0.012186,
     "end_time": "2022-06-21T19:11:22.691861",
     "exception": false,
     "start_time": "2022-06-21T19:11:22.679675",
     "status": "completed"
    },
    "tags": []
   },
   "source": [
    "# EDA On New df"
   ]
  },
  {
   "cell_type": "code",
   "execution_count": 13,
   "id": "c5930e0c",
   "metadata": {
    "execution": {
     "iopub.execute_input": "2022-06-21T19:11:22.718245Z",
     "iopub.status.busy": "2022-06-21T19:11:22.717889Z",
     "iopub.status.idle": "2022-06-21T19:11:22.723804Z",
     "shell.execute_reply": "2022-06-21T19:11:22.722920Z"
    },
    "papermill": {
     "duration": 0.02153,
     "end_time": "2022-06-21T19:11:22.725836",
     "exception": false,
     "start_time": "2022-06-21T19:11:22.704306",
     "status": "completed"
    },
    "tags": []
   },
   "outputs": [
    {
     "data": {
      "text/plain": [
       "(1747805, 22)"
      ]
     },
     "execution_count": 13,
     "metadata": {},
     "output_type": "execute_result"
    }
   ],
   "source": [
    "df.shape"
   ]
  },
  {
   "cell_type": "code",
   "execution_count": 14,
   "id": "a27a4aa1",
   "metadata": {
    "execution": {
     "iopub.execute_input": "2022-06-21T19:11:22.758276Z",
     "iopub.status.busy": "2022-06-21T19:11:22.757329Z",
     "iopub.status.idle": "2022-06-21T19:11:23.355387Z",
     "shell.execute_reply": "2022-06-21T19:11:23.354484Z"
    },
    "papermill": {
     "duration": 0.616496,
     "end_time": "2022-06-21T19:11:23.357632",
     "exception": false,
     "start_time": "2022-06-21T19:11:22.741136",
     "status": "completed"
    },
    "tags": []
   },
   "outputs": [
    {
     "data": {
      "text/plain": [
       "<AxesSubplot:xlabel='candidate'>"
      ]
     },
     "execution_count": 14,
     "metadata": {},
     "output_type": "execute_result"
    },
    {
     "data": {
      "image/png": "[encoded data removed]",
      "text/plain": [
       "<Figure size 432x288 with 1 Axes>"
      ]
     },
     "metadata": {
      "needs_background": "light"
     },
     "output_type": "display_data"
    }
   ],
   "source": [
    "df.groupby(['candidate'])['tweet'].count().plot.bar()"
   ]
  },
  {
   "cell_type": "code",
   "execution_count": 15,
   "id": "addeb471",
   "metadata": {
    "execution": {
     "iopub.execute_input": "2022-06-21T19:11:23.393781Z",
     "iopub.status.busy": "2022-06-21T19:11:23.392849Z",
     "iopub.status.idle": "2022-06-21T19:11:23.700839Z",
     "shell.execute_reply": "2022-06-21T19:11:23.699967Z"
    },
    "papermill": {
     "duration": 0.32788,
     "end_time": "2022-06-21T19:11:23.702777",
     "exception": false,
     "start_time": "2022-06-21T19:11:23.374897",
     "status": "completed"
    },
    "tags": []
   },
   "outputs": [
    {
     "data": {
      "text/plain": [
       "<AxesSubplot:xlabel='candidate'>"
      ]
     },
     "execution_count": 15,
     "metadata": {},
     "output_type": "execute_result"
    },
    {
     "data": {
      "image/png": "[encoded data removed]",
      "text/plain": [
       "<Figure size 432x288 with 1 Axes>"
      ]
     },
     "metadata": {
      "needs_background": "light"
     },
     "output_type": "display_data"
    }
   ],
   "source": [
    "df.groupby(['candidate'])['likes'].count().plot.bar()"
   ]
  },
  {
   "cell_type": "code",
   "execution_count": 16,
   "id": "d9794def",
   "metadata": {
    "execution": {
     "iopub.execute_input": "2022-06-21T19:11:23.731651Z",
     "iopub.status.busy": "2022-06-21T19:11:23.730105Z",
     "iopub.status.idle": "2022-06-21T19:11:23.847732Z",
     "shell.execute_reply": "2022-06-21T19:11:23.846722Z"
    },
    "papermill": {
     "duration": 0.133876,
     "end_time": "2022-06-21T19:11:23.849733",
     "exception": false,
     "start_time": "2022-06-21T19:11:23.715857",
     "status": "completed"
    },
    "tags": []
   },
   "outputs": [
    {
     "data": {
      "text/plain": [
       "United States of America    332495\n",
       "United States                61905\n",
       "United Kingdom               58051\n",
       "India                        40091\n",
       "Germany                      35379\n",
       "                             ...  \n",
       "Mali                             2\n",
       "Northern Mariana Islands         1\n",
       "Saint Lucia                      1\n",
       "Lesotho                          1\n",
       "East Timor                       1\n",
       "Name: country, Length: 189, dtype: int64"
      ]
     },
     "execution_count": 16,
     "metadata": {},
     "output_type": "execute_result"
    }
   ],
   "source": [
    "df.country.value_counts()"
   ]
  },
  {
   "cell_type": "code",
   "execution_count": 17,
   "id": "e7d2333c",
   "metadata": {
    "execution": {
     "iopub.execute_input": "2022-06-21T19:11:23.878060Z",
     "iopub.status.busy": "2022-06-21T19:11:23.877586Z",
     "iopub.status.idle": "2022-06-21T19:11:24.178734Z",
     "shell.execute_reply": "2022-06-21T19:11:24.177564Z"
    },
    "papermill": {
     "duration": 0.317716,
     "end_time": "2022-06-21T19:11:24.181189",
     "exception": false,
     "start_time": "2022-06-21T19:11:23.863473",
     "status": "completed"
    },
    "tags": []
   },
   "outputs": [],
   "source": [
    "df['country']=df['country'].replace({'United States of America':'US','United States':'US'})"
   ]
  },
  {
   "cell_type": "code",
   "execution_count": 18,
   "id": "df81584b",
   "metadata": {
    "execution": {
     "iopub.execute_input": "2022-06-21T19:11:24.209809Z",
     "iopub.status.busy": "2022-06-21T19:11:24.209294Z",
     "iopub.status.idle": "2022-06-21T19:11:24.314067Z",
     "shell.execute_reply": "2022-06-21T19:11:24.313108Z"
    },
    "papermill": {
     "duration": 0.121276,
     "end_time": "2022-06-21T19:11:24.316009",
     "exception": false,
     "start_time": "2022-06-21T19:11:24.194733",
     "status": "completed"
    },
    "tags": []
   },
   "outputs": [
    {
     "data": {
      "text/plain": [
       "US                          394400\n",
       "United Kingdom               58051\n",
       "India                        40091\n",
       "Germany                      35379\n",
       "France                       35299\n",
       "                             ...  \n",
       "Mali                             2\n",
       "Northern Mariana Islands         1\n",
       "Saint Lucia                      1\n",
       "Lesotho                          1\n",
       "East Timor                       1\n",
       "Name: country, Length: 188, dtype: int64"
      ]
     },
     "execution_count": 18,
     "metadata": {},
     "output_type": "execute_result"
    }
   ],
   "source": [
    "df.country.value_counts()"
   ]
  },
  {
   "cell_type": "code",
   "execution_count": 19,
   "id": "7bf516a3",
   "metadata": {
    "execution": {
     "iopub.execute_input": "2022-06-21T19:11:24.345881Z",
     "iopub.status.busy": "2022-06-21T19:11:24.345388Z",
     "iopub.status.idle": "2022-06-21T19:11:24.954690Z",
     "shell.execute_reply": "2022-06-21T19:11:24.953705Z"
    },
    "papermill": {
     "duration": 0.634138,
     "end_time": "2022-06-21T19:11:24.963802",
     "exception": false,
     "start_time": "2022-06-21T19:11:24.329664",
     "status": "completed"
    },
    "tags": []
   },
   "outputs": [
    {
     "data": {
      "text/plain": [
       "<AxesSubplot:xlabel='country'>"
      ]
     },
     "execution_count": 19,
     "metadata": {},
     "output_type": "execute_result"
    },
    {
     "data": {
      "image/png": "[encoded data removed]",
      "text/plain": [
       "<Figure size 432x288 with 1 Axes>"
      ]
     },
     "metadata": {
      "needs_background": "light"
     },
     "output_type": "display_data"
    }
   ],
   "source": [
    "df.groupby('country')['tweet'].count().sort_values(ascending=False).head(10).plot.bar()"
   ]
  },
  {
   "cell_type": "markdown",
   "id": "fbd177ad",
   "metadata": {
    "papermill": {
     "duration": 0.014998,
     "end_time": "2022-06-21T19:11:25.000697",
     "exception": false,
     "start_time": "2022-06-21T19:11:24.985699",
     "status": "completed"
    },
    "tags": []
   },
   "source": [
    "**Countries with higher number of tweets will be saved in a list for future use**"
   ]
  },
  {
   "cell_type": "code",
   "execution_count": 20,
   "id": "2c41f05f",
   "metadata": {
    "execution": {
     "iopub.execute_input": "2022-06-21T19:11:25.032809Z",
     "iopub.status.busy": "2022-06-21T19:11:25.031959Z",
     "iopub.status.idle": "2022-06-21T19:11:25.397796Z",
     "shell.execute_reply": "2022-06-21T19:11:25.396535Z"
    },
    "papermill": {
     "duration": 0.386738,
     "end_time": "2022-06-21T19:11:25.402300",
     "exception": false,
     "start_time": "2022-06-21T19:11:25.015562",
     "status": "completed"
    },
    "tags": []
   },
   "outputs": [
    {
     "data": {
      "text/plain": [
       "['US',\n",
       " 'United Kingdom',\n",
       " 'India',\n",
       " 'Germany',\n",
       " 'France',\n",
       " 'Canada',\n",
       " 'Italy',\n",
       " 'Australia',\n",
       " 'Mexico',\n",
       " 'Turkey']"
      ]
     },
     "execution_count": 20,
     "metadata": {},
     "output_type": "execute_result"
    }
   ],
   "source": [
    "top10=df.groupby('country')['tweet'].count().sort_values(ascending=False).head(10).index.tolist()\n",
    "top10"
   ]
  },
  {
   "cell_type": "code",
   "execution_count": 21,
   "id": "3069d111",
   "metadata": {
    "execution": {
     "iopub.execute_input": "2022-06-21T19:11:25.443123Z",
     "iopub.status.busy": "2022-06-21T19:11:25.442395Z",
     "iopub.status.idle": "2022-06-21T19:11:26.476959Z",
     "shell.execute_reply": "2022-06-21T19:11:26.469994Z"
    },
    "papermill": {
     "duration": 1.058998,
     "end_time": "2022-06-21T19:11:26.482520",
     "exception": false,
     "start_time": "2022-06-21T19:11:25.423522",
     "status": "completed"
    },
    "tags": []
   },
   "outputs": [],
   "source": [
    "tweet_df=df.groupby(['country','candidate'])['tweet'].count().reset_index()"
   ]
  },
  {
   "cell_type": "code",
   "execution_count": 22,
   "id": "012d4da3",
   "metadata": {
    "execution": {
     "iopub.execute_input": "2022-06-21T19:11:26.574743Z",
     "iopub.status.busy": "2022-06-21T19:11:26.574002Z",
     "iopub.status.idle": "2022-06-21T19:11:26.592446Z",
     "shell.execute_reply": "2022-06-21T19:11:26.591570Z"
    },
    "papermill": {
     "duration": 0.049818,
     "end_time": "2022-06-21T19:11:26.594565",
     "exception": false,
     "start_time": "2022-06-21T19:11:26.544747",
     "status": "completed"
    },
    "tags": []
   },
   "outputs": [
    {
     "data": {
      "text/html": [
       "<div>\n",
       "<style scoped>\n",
       "    .dataframe tbody tr th:only-of-type {\n",
       "        vertical-align: middle;\n",
       "    }\n",
       "\n",
       "    .dataframe tbody tr th {\n",
       "        vertical-align: top;\n",
       "    }\n",
       "\n",
       "    .dataframe thead th {\n",
       "        text-align: right;\n",
       "    }\n",
       "</style>\n",
       "<table border=\"1\" class=\"dataframe\">\n",
       "  <thead>\n",
       "    <tr style=\"text-align: right;\">\n",
       "      <th></th>\n",
       "      <th>country</th>\n",
       "      <th>candidate</th>\n",
       "      <th>tweet</th>\n",
       "    </tr>\n",
       "  </thead>\n",
       "  <tbody>\n",
       "    <tr>\n",
       "      <th>0</th>\n",
       "      <td>Afghanistan</td>\n",
       "      <td>Biden</td>\n",
       "      <td>119</td>\n",
       "    </tr>\n",
       "    <tr>\n",
       "      <th>1</th>\n",
       "      <td>Afghanistan</td>\n",
       "      <td>Trump</td>\n",
       "      <td>101</td>\n",
       "    </tr>\n",
       "    <tr>\n",
       "      <th>2</th>\n",
       "      <td>Albania</td>\n",
       "      <td>Biden</td>\n",
       "      <td>61</td>\n",
       "    </tr>\n",
       "    <tr>\n",
       "      <th>3</th>\n",
       "      <td>Albania</td>\n",
       "      <td>Trump</td>\n",
       "      <td>74</td>\n",
       "    </tr>\n",
       "    <tr>\n",
       "      <th>4</th>\n",
       "      <td>Algeria</td>\n",
       "      <td>Biden</td>\n",
       "      <td>24</td>\n",
       "    </tr>\n",
       "    <tr>\n",
       "      <th>...</th>\n",
       "      <td>...</td>\n",
       "      <td>...</td>\n",
       "      <td>...</td>\n",
       "    </tr>\n",
       "    <tr>\n",
       "      <th>363</th>\n",
       "      <td>Yemen</td>\n",
       "      <td>Trump</td>\n",
       "      <td>93</td>\n",
       "    </tr>\n",
       "    <tr>\n",
       "      <th>364</th>\n",
       "      <td>Zambia</td>\n",
       "      <td>Biden</td>\n",
       "      <td>33</td>\n",
       "    </tr>\n",
       "    <tr>\n",
       "      <th>365</th>\n",
       "      <td>Zambia</td>\n",
       "      <td>Trump</td>\n",
       "      <td>38</td>\n",
       "    </tr>\n",
       "    <tr>\n",
       "      <th>366</th>\n",
       "      <td>Zimbabwe</td>\n",
       "      <td>Biden</td>\n",
       "      <td>59</td>\n",
       "    </tr>\n",
       "    <tr>\n",
       "      <th>367</th>\n",
       "      <td>Zimbabwe</td>\n",
       "      <td>Trump</td>\n",
       "      <td>60</td>\n",
       "    </tr>\n",
       "  </tbody>\n",
       "</table>\n",
       "<p>368 rows × 3 columns</p>\n",
       "</div>"
      ],
      "text/plain": [
       "         country candidate  tweet\n",
       "0    Afghanistan     Biden    119\n",
       "1    Afghanistan     Trump    101\n",
       "2        Albania     Biden     61\n",
       "3        Albania     Trump     74\n",
       "4        Algeria     Biden     24\n",
       "..           ...       ...    ...\n",
       "363        Yemen     Trump     93\n",
       "364       Zambia     Biden     33\n",
       "365       Zambia     Trump     38\n",
       "366     Zimbabwe     Biden     59\n",
       "367     Zimbabwe     Trump     60\n",
       "\n",
       "[368 rows x 3 columns]"
      ]
     },
     "execution_count": 22,
     "metadata": {},
     "output_type": "execute_result"
    }
   ],
   "source": [
    "tweet_df"
   ]
  },
  {
   "cell_type": "markdown",
   "id": "5c9d8b44",
   "metadata": {
    "papermill": {
     "duration": 0.020689,
     "end_time": "2022-06-21T19:11:26.633967",
     "exception": false,
     "start_time": "2022-06-21T19:11:26.613278",
     "status": "completed"
    },
    "tags": []
   },
   "source": [
    "**KEEPING ONLY DATA CONTRIBUTING MORE STRENGTH TO THE df**"
   ]
  },
  {
   "cell_type": "code",
   "execution_count": 23,
   "id": "3c517857",
   "metadata": {
    "execution": {
     "iopub.execute_input": "2022-06-21T19:11:26.669503Z",
     "iopub.status.busy": "2022-06-21T19:11:26.668661Z",
     "iopub.status.idle": "2022-06-21T19:11:26.684214Z",
     "shell.execute_reply": "2022-06-21T19:11:26.683468Z"
    },
    "papermill": {
     "duration": 0.036541,
     "end_time": "2022-06-21T19:11:26.686666",
     "exception": false,
     "start_time": "2022-06-21T19:11:26.650125",
     "status": "completed"
    },
    "tags": []
   },
   "outputs": [
    {
     "data": {
      "text/html": [
       "<div>\n",
       "<style scoped>\n",
       "    .dataframe tbody tr th:only-of-type {\n",
       "        vertical-align: middle;\n",
       "    }\n",
       "\n",
       "    .dataframe tbody tr th {\n",
       "        vertical-align: top;\n",
       "    }\n",
       "\n",
       "    .dataframe thead th {\n",
       "        text-align: right;\n",
       "    }\n",
       "</style>\n",
       "<table border=\"1\" class=\"dataframe\">\n",
       "  <thead>\n",
       "    <tr style=\"text-align: right;\">\n",
       "      <th></th>\n",
       "      <th>country</th>\n",
       "      <th>candidate</th>\n",
       "      <th>tweet</th>\n",
       "    </tr>\n",
       "  </thead>\n",
       "  <tbody>\n",
       "    <tr>\n",
       "      <th>16</th>\n",
       "      <td>Australia</td>\n",
       "      <td>Biden</td>\n",
       "      <td>5534</td>\n",
       "    </tr>\n",
       "    <tr>\n",
       "      <th>17</th>\n",
       "      <td>Australia</td>\n",
       "      <td>Trump</td>\n",
       "      <td>9365</td>\n",
       "    </tr>\n",
       "    <tr>\n",
       "      <th>54</th>\n",
       "      <td>Canada</td>\n",
       "      <td>Biden</td>\n",
       "      <td>10809</td>\n",
       "    </tr>\n",
       "    <tr>\n",
       "      <th>55</th>\n",
       "      <td>Canada</td>\n",
       "      <td>Trump</td>\n",
       "      <td>16996</td>\n",
       "    </tr>\n",
       "    <tr>\n",
       "      <th>112</th>\n",
       "      <td>France</td>\n",
       "      <td>Biden</td>\n",
       "      <td>14610</td>\n",
       "    </tr>\n",
       "    <tr>\n",
       "      <th>113</th>\n",
       "      <td>France</td>\n",
       "      <td>Trump</td>\n",
       "      <td>20689</td>\n",
       "    </tr>\n",
       "    <tr>\n",
       "      <th>118</th>\n",
       "      <td>Germany</td>\n",
       "      <td>Biden</td>\n",
       "      <td>12761</td>\n",
       "    </tr>\n",
       "    <tr>\n",
       "      <th>119</th>\n",
       "      <td>Germany</td>\n",
       "      <td>Trump</td>\n",
       "      <td>22618</td>\n",
       "    </tr>\n",
       "    <tr>\n",
       "      <th>146</th>\n",
       "      <td>India</td>\n",
       "      <td>Biden</td>\n",
       "      <td>21532</td>\n",
       "    </tr>\n",
       "    <tr>\n",
       "      <th>147</th>\n",
       "      <td>India</td>\n",
       "      <td>Trump</td>\n",
       "      <td>18559</td>\n",
       "    </tr>\n",
       "    <tr>\n",
       "      <th>160</th>\n",
       "      <td>Italy</td>\n",
       "      <td>Biden</td>\n",
       "      <td>8870</td>\n",
       "    </tr>\n",
       "    <tr>\n",
       "      <th>161</th>\n",
       "      <td>Italy</td>\n",
       "      <td>Trump</td>\n",
       "      <td>11206</td>\n",
       "    </tr>\n",
       "    <tr>\n",
       "      <th>207</th>\n",
       "      <td>Mexico</td>\n",
       "      <td>Biden</td>\n",
       "      <td>5092</td>\n",
       "    </tr>\n",
       "    <tr>\n",
       "      <th>208</th>\n",
       "      <td>Mexico</td>\n",
       "      <td>Trump</td>\n",
       "      <td>5811</td>\n",
       "    </tr>\n",
       "    <tr>\n",
       "      <th>336</th>\n",
       "      <td>Turkey</td>\n",
       "      <td>Biden</td>\n",
       "      <td>4774</td>\n",
       "    </tr>\n",
       "    <tr>\n",
       "      <th>337</th>\n",
       "      <td>Turkey</td>\n",
       "      <td>Trump</td>\n",
       "      <td>5594</td>\n",
       "    </tr>\n",
       "    <tr>\n",
       "      <th>340</th>\n",
       "      <td>US</td>\n",
       "      <td>Biden</td>\n",
       "      <td>181137</td>\n",
       "    </tr>\n",
       "    <tr>\n",
       "      <th>341</th>\n",
       "      <td>US</td>\n",
       "      <td>Trump</td>\n",
       "      <td>213263</td>\n",
       "    </tr>\n",
       "    <tr>\n",
       "      <th>348</th>\n",
       "      <td>United Kingdom</td>\n",
       "      <td>Biden</td>\n",
       "      <td>23308</td>\n",
       "    </tr>\n",
       "    <tr>\n",
       "      <th>349</th>\n",
       "      <td>United Kingdom</td>\n",
       "      <td>Trump</td>\n",
       "      <td>34743</td>\n",
       "    </tr>\n",
       "  </tbody>\n",
       "</table>\n",
       "</div>"
      ],
      "text/plain": [
       "            country candidate   tweet\n",
       "16        Australia     Biden    5534\n",
       "17        Australia     Trump    9365\n",
       "54           Canada     Biden   10809\n",
       "55           Canada     Trump   16996\n",
       "112          France     Biden   14610\n",
       "113          France     Trump   20689\n",
       "118         Germany     Biden   12761\n",
       "119         Germany     Trump   22618\n",
       "146           India     Biden   21532\n",
       "147           India     Trump   18559\n",
       "160           Italy     Biden    8870\n",
       "161           Italy     Trump   11206\n",
       "207          Mexico     Biden    5092\n",
       "208          Mexico     Trump    5811\n",
       "336          Turkey     Biden    4774\n",
       "337          Turkey     Trump    5594\n",
       "340              US     Biden  181137\n",
       "341              US     Trump  213263\n",
       "348  United Kingdom     Biden   23308\n",
       "349  United Kingdom     Trump   34743"
      ]
     },
     "execution_count": 23,
     "metadata": {},
     "output_type": "execute_result"
    }
   ],
   "source": [
    "tweet_df=tweet_df[tweet_df['country'].isin(top10)]\n",
    "tweet_df"
   ]
  },
  {
   "cell_type": "code",
   "execution_count": 24,
   "id": "6274560e",
   "metadata": {
    "execution": {
     "iopub.execute_input": "2022-06-21T19:11:26.721589Z",
     "iopub.status.busy": "2022-06-21T19:11:26.721145Z",
     "iopub.status.idle": "2022-06-21T19:11:26.727173Z",
     "shell.execute_reply": "2022-06-21T19:11:26.726502Z"
    },
    "papermill": {
     "duration": 0.02575,
     "end_time": "2022-06-21T19:11:26.729031",
     "exception": false,
     "start_time": "2022-06-21T19:11:26.703281",
     "status": "completed"
    },
    "tags": []
   },
   "outputs": [
    {
     "data": {
      "text/plain": [
       "10"
      ]
     },
     "execution_count": 24,
     "metadata": {},
     "output_type": "execute_result"
    }
   ],
   "source": [
    "len(tweet_df.country.unique())"
   ]
  },
  {
   "cell_type": "code",
   "execution_count": 25,
   "id": "3a356449",
   "metadata": {
    "execution": {
     "iopub.execute_input": "2022-06-21T19:11:26.764055Z",
     "iopub.status.busy": "2022-06-21T19:11:26.762962Z",
     "iopub.status.idle": "2022-06-21T19:11:27.110683Z",
     "shell.execute_reply": "2022-06-21T19:11:27.109611Z"
    },
    "papermill": {
     "duration": 0.367635,
     "end_time": "2022-06-21T19:11:27.113393",
     "exception": false,
     "start_time": "2022-06-21T19:11:26.745758",
     "status": "completed"
    },
    "tags": []
   },
   "outputs": [
    {
     "data": {
      "text/plain": [
       "<AxesSubplot:xlabel='country', ylabel='tweet'>"
      ]
     },
     "execution_count": 25,
     "metadata": {},
     "output_type": "execute_result"
    },
    {
     "data": {
      "image/png": "[encoded data removed]",
      "text/plain": [
       "<Figure size 432x288 with 1 Axes>"
      ]
     },
     "metadata": {
      "needs_background": "light"
     },
     "output_type": "display_data"
    }
   ],
   "source": [
    "plt.xticks(rotation=45)\n",
    "sns.barplot(data=tweet_df,x='country',y='tweet',hue='candidate')"
   ]
  },
  {
   "cell_type": "markdown",
   "id": "75705f58",
   "metadata": {
    "papermill": {
     "duration": 0.025125,
     "end_time": "2022-06-21T19:11:27.163643",
     "exception": false,
     "start_time": "2022-06-21T19:11:27.138518",
     "status": "completed"
    },
    "tags": []
   },
   "source": [
    "**TEXT PREPROCESSING/MINING**"
   ]
  },
  {
   "cell_type": "code",
   "execution_count": 26,
   "id": "5cc530dc",
   "metadata": {
    "execution": {
     "iopub.execute_input": "2022-06-21T19:11:27.207059Z",
     "iopub.status.busy": "2022-06-21T19:11:27.206127Z",
     "iopub.status.idle": "2022-06-21T19:11:27.211389Z",
     "shell.execute_reply": "2022-06-21T19:11:27.210427Z"
    },
    "papermill": {
     "duration": 0.023509,
     "end_time": "2022-06-21T19:11:27.213330",
     "exception": false,
     "start_time": "2022-06-21T19:11:27.189821",
     "status": "completed"
    },
    "tags": []
   },
   "outputs": [],
   "source": [
    "ls=WordNetLemmatizer()"
   ]
  },
  {
   "cell_type": "code",
   "execution_count": 27,
   "id": "3d0d9430",
   "metadata": {
    "execution": {
     "iopub.execute_input": "2022-06-21T19:11:27.245721Z",
     "iopub.status.busy": "2022-06-21T19:11:27.245016Z",
     "iopub.status.idle": "2022-06-21T19:11:27.251462Z",
     "shell.execute_reply": "2022-06-21T19:11:27.250810Z"
    },
    "papermill": {
     "duration": 0.024925,
     "end_time": "2022-06-21T19:11:27.253500",
     "exception": false,
     "start_time": "2022-06-21T19:11:27.228575",
     "status": "completed"
    },
    "tags": []
   },
   "outputs": [],
   "source": [
    "def clean_txt(txt):\n",
    "    txt=str(txt).lower()\n",
    "    txt=re.sub('[^a-z]',' ',str(txt))\n",
    "    wrds=txt.split()\n",
    "    txt=[ls.lemmatize(j) for j in wrds if j not in set(stopwords.words('english'))] \n",
    "    txt=' '.join(str(k) for k in txt)\n",
    "    return txt"
   ]
  },
  {
   "cell_type": "code",
   "execution_count": 28,
   "id": "1e93a7b5",
   "metadata": {
    "execution": {
     "iopub.execute_input": "2022-06-21T19:11:27.285258Z",
     "iopub.status.busy": "2022-06-21T19:11:27.284841Z",
     "iopub.status.idle": "2022-06-21T19:11:31.731832Z",
     "shell.execute_reply": "2022-06-21T19:11:31.730818Z"
    },
    "papermill": {
     "duration": 4.465524,
     "end_time": "2022-06-21T19:11:31.734337",
     "exception": false,
     "start_time": "2022-06-21T19:11:27.268813",
     "status": "completed"
    },
    "tags": []
   },
   "outputs": [],
   "source": [
    "trump_tweets=df.query(\"(candidate =='Trump')\").sort_values('user_followers_count',ascending=False).drop_duplicates(['user_id'])[['tweet','country']]"
   ]
  },
  {
   "cell_type": "code",
   "execution_count": 29,
   "id": "b3f4d070",
   "metadata": {
    "execution": {
     "iopub.execute_input": "2022-06-21T19:11:31.765521Z",
     "iopub.status.busy": "2022-06-21T19:11:31.764561Z",
     "iopub.status.idle": "2022-06-21T19:11:31.777210Z",
     "shell.execute_reply": "2022-06-21T19:11:31.776498Z"
    },
    "papermill": {
     "duration": 0.030098,
     "end_time": "2022-06-21T19:11:31.779000",
     "exception": false,
     "start_time": "2022-06-21T19:11:31.748902",
     "status": "completed"
    },
    "tags": []
   },
   "outputs": [
    {
     "data": {
      "text/html": [
       "<div>\n",
       "<style scoped>\n",
       "    .dataframe tbody tr th:only-of-type {\n",
       "        vertical-align: middle;\n",
       "    }\n",
       "\n",
       "    .dataframe tbody tr th {\n",
       "        vertical-align: top;\n",
       "    }\n",
       "\n",
       "    .dataframe thead th {\n",
       "        text-align: right;\n",
       "    }\n",
       "</style>\n",
       "<table border=\"1\" class=\"dataframe\">\n",
       "  <thead>\n",
       "    <tr style=\"text-align: right;\">\n",
       "      <th></th>\n",
       "      <th>tweet</th>\n",
       "      <th>country</th>\n",
       "    </tr>\n",
       "  </thead>\n",
       "  <tbody>\n",
       "    <tr>\n",
       "      <th>155941</th>\n",
       "      <td>A menos de 2 semanas de las elecciones, #JoeBi...</td>\n",
       "      <td>NaN</td>\n",
       "    </tr>\n",
       "    <tr>\n",
       "      <th>913717</th>\n",
       "      <td>Dalam pernyataan terbaru via Twitter, Trump ke...</td>\n",
       "      <td>Indonesia</td>\n",
       "    </tr>\n",
       "    <tr>\n",
       "      <th>825004</th>\n",
       "      <td>#Opinion | What appears to have cost #Trump th...</td>\n",
       "      <td>India</td>\n",
       "    </tr>\n",
       "    <tr>\n",
       "      <th>47094</th>\n",
       "      <td>#Trump uses own #COVID19 recovery to push retu...</td>\n",
       "      <td>China</td>\n",
       "    </tr>\n",
       "    <tr>\n",
       "      <th>916961</th>\n",
       "      <td>Six things #JoeBiden will likely do on immigra...</td>\n",
       "      <td>India</td>\n",
       "    </tr>\n",
       "    <tr>\n",
       "      <th>...</th>\n",
       "      <td>...</td>\n",
       "      <td>...</td>\n",
       "    </tr>\n",
       "    <tr>\n",
       "      <th>795421</th>\n",
       "      <td>Il voto USA sancirà nuovi equilibri politici. ...</td>\n",
       "      <td>NaN</td>\n",
       "    </tr>\n",
       "    <tr>\n",
       "      <th>96623</th>\n",
       "      <td>#Trump really believes listening to the leader...</td>\n",
       "      <td>NaN</td>\n",
       "    </tr>\n",
       "    <tr>\n",
       "      <th>535169</th>\n",
       "      <td>É hoje que a esquerda infarta de vez🤣🤣🤣🤣. Go #...</td>\n",
       "      <td>NaN</td>\n",
       "    </tr>\n",
       "    <tr>\n",
       "      <th>643884</th>\n",
       "      <td>#DonaldTrump #2020Election #Biden #DonaldJTrum...</td>\n",
       "      <td>NaN</td>\n",
       "    </tr>\n",
       "    <tr>\n",
       "      <th>473527</th>\n",
       "      <td>VOTE TRUMP!!!!! #trump #TrumpTrain #TrumpPence...</td>\n",
       "      <td>US</td>\n",
       "    </tr>\n",
       "  </tbody>\n",
       "</table>\n",
       "<p>301378 rows × 2 columns</p>\n",
       "</div>"
      ],
      "text/plain": [
       "                                                    tweet    country\n",
       "155941  A menos de 2 semanas de las elecciones, #JoeBi...        NaN\n",
       "913717  Dalam pernyataan terbaru via Twitter, Trump ke...  Indonesia\n",
       "825004  #Opinion | What appears to have cost #Trump th...      India\n",
       "47094   #Trump uses own #COVID19 recovery to push retu...      China\n",
       "916961  Six things #JoeBiden will likely do on immigra...      India\n",
       "...                                                   ...        ...\n",
       "795421  Il voto USA sancirà nuovi equilibri politici. ...        NaN\n",
       "96623   #Trump really believes listening to the leader...        NaN\n",
       "535169  É hoje que a esquerda infarta de vez🤣🤣🤣🤣. Go #...        NaN\n",
       "643884  #DonaldTrump #2020Election #Biden #DonaldJTrum...        NaN\n",
       "473527  VOTE TRUMP!!!!! #trump #TrumpTrain #TrumpPence...         US\n",
       "\n",
       "[301378 rows x 2 columns]"
      ]
     },
     "execution_count": 29,
     "metadata": {},
     "output_type": "execute_result"
    }
   ],
   "source": [
    "trump_tweets"
   ]
  },
  {
   "cell_type": "code",
   "execution_count": 30,
   "id": "cc2690f7",
   "metadata": {
    "execution": {
     "iopub.execute_input": "2022-06-21T19:11:31.810500Z",
     "iopub.status.busy": "2022-06-21T19:11:31.809812Z",
     "iopub.status.idle": "2022-06-21T19:11:31.839835Z",
     "shell.execute_reply": "2022-06-21T19:11:31.838927Z"
    },
    "papermill": {
     "duration": 0.048112,
     "end_time": "2022-06-21T19:11:31.841775",
     "exception": false,
     "start_time": "2022-06-21T19:11:31.793663",
     "status": "completed"
    },
    "tags": []
   },
   "outputs": [
    {
     "data": {
      "text/html": [
       "<div>\n",
       "<style scoped>\n",
       "    .dataframe tbody tr th:only-of-type {\n",
       "        vertical-align: middle;\n",
       "    }\n",
       "\n",
       "    .dataframe tbody tr th {\n",
       "        vertical-align: top;\n",
       "    }\n",
       "\n",
       "    .dataframe thead th {\n",
       "        text-align: right;\n",
       "    }\n",
       "</style>\n",
       "<table border=\"1\" class=\"dataframe\">\n",
       "  <thead>\n",
       "    <tr style=\"text-align: right;\">\n",
       "      <th></th>\n",
       "      <th>tweet</th>\n",
       "      <th>country</th>\n",
       "    </tr>\n",
       "  </thead>\n",
       "  <tbody>\n",
       "    <tr>\n",
       "      <th>920743</th>\n",
       "      <td>Without a doubt, the #FourSeasons debacle is t...</td>\n",
       "      <td>US</td>\n",
       "    </tr>\n",
       "    <tr>\n",
       "      <th>115369</th>\n",
       "      <td>President Donald #Trump’s youngest daughter, T...</td>\n",
       "      <td>US</td>\n",
       "    </tr>\n",
       "    <tr>\n",
       "      <th>270220</th>\n",
       "      <td>Woah. Have you read this article?\\n\\nAll the p...</td>\n",
       "      <td>US</td>\n",
       "    </tr>\n",
       "    <tr>\n",
       "      <th>921527</th>\n",
       "      <td>The latest episode of #SNL tackled #DonaldTrum...</td>\n",
       "      <td>US</td>\n",
       "    </tr>\n",
       "    <tr>\n",
       "      <th>935247</th>\n",
       "      <td>🇺🇸 #Decision2020: @JoeBiden firmará una serie ...</td>\n",
       "      <td>US</td>\n",
       "    </tr>\n",
       "    <tr>\n",
       "      <th>...</th>\n",
       "      <td>...</td>\n",
       "      <td>...</td>\n",
       "    </tr>\n",
       "    <tr>\n",
       "      <th>849355</th>\n",
       "      <td>Twisted, pressed &amp;amp; curled almost empty too...</td>\n",
       "      <td>US</td>\n",
       "    </tr>\n",
       "    <tr>\n",
       "      <th>795745</th>\n",
       "      <td>#Election2020\\n#USElectionResults2020\\n#Donald...</td>\n",
       "      <td>US</td>\n",
       "    </tr>\n",
       "    <tr>\n",
       "      <th>68263</th>\n",
       "      <td>Seeing a pro-right, made up by a person pardon...</td>\n",
       "      <td>US</td>\n",
       "    </tr>\n",
       "    <tr>\n",
       "      <th>732264</th>\n",
       "      <td>Watching this poor guy on @FoxNews explain rea...</td>\n",
       "      <td>US</td>\n",
       "    </tr>\n",
       "    <tr>\n",
       "      <th>473527</th>\n",
       "      <td>VOTE TRUMP!!!!! #trump #TrumpTrain #TrumpPence...</td>\n",
       "      <td>US</td>\n",
       "    </tr>\n",
       "  </tbody>\n",
       "</table>\n",
       "<p>48061 rows × 2 columns</p>\n",
       "</div>"
      ],
      "text/plain": [
       "                                                    tweet country\n",
       "920743  Without a doubt, the #FourSeasons debacle is t...      US\n",
       "115369  President Donald #Trump’s youngest daughter, T...      US\n",
       "270220  Woah. Have you read this article?\\n\\nAll the p...      US\n",
       "921527  The latest episode of #SNL tackled #DonaldTrum...      US\n",
       "935247  🇺🇸 #Decision2020: @JoeBiden firmará una serie ...      US\n",
       "...                                                   ...     ...\n",
       "849355  Twisted, pressed &amp; curled almost empty too...      US\n",
       "795745  #Election2020\\n#USElectionResults2020\\n#Donald...      US\n",
       "68263   Seeing a pro-right, made up by a person pardon...      US\n",
       "732264  Watching this poor guy on @FoxNews explain rea...      US\n",
       "473527  VOTE TRUMP!!!!! #trump #TrumpTrain #TrumpPence...      US\n",
       "\n",
       "[48061 rows x 2 columns]"
      ]
     },
     "execution_count": 30,
     "metadata": {},
     "output_type": "execute_result"
    }
   ],
   "source": [
    "trump_tweets=trump_tweets.loc[trump_tweets['country']=='US']\n",
    "trump_tweets"
   ]
  },
  {
   "cell_type": "code",
   "execution_count": 31,
   "id": "7a53d08c",
   "metadata": {
    "execution": {
     "iopub.execute_input": "2022-06-21T19:11:31.873637Z",
     "iopub.status.busy": "2022-06-21T19:11:31.872938Z",
     "iopub.status.idle": "2022-06-21T19:11:31.892275Z",
     "shell.execute_reply": "2022-06-21T19:11:31.891340Z"
    },
    "papermill": {
     "duration": 0.037523,
     "end_time": "2022-06-21T19:11:31.894167",
     "exception": false,
     "start_time": "2022-06-21T19:11:31.856644",
     "status": "completed"
    },
    "tags": []
   },
   "outputs": [
    {
     "data": {
      "text/plain": [
       "tweet      0\n",
       "country    0\n",
       "dtype: int64"
      ]
     },
     "execution_count": 31,
     "metadata": {},
     "output_type": "execute_result"
    }
   ],
   "source": [
    "trump_tweets.isna().sum()"
   ]
  },
  {
   "cell_type": "code",
   "execution_count": 32,
   "id": "6fad9f35",
   "metadata": {
    "execution": {
     "iopub.execute_input": "2022-06-21T19:11:31.927379Z",
     "iopub.status.busy": "2022-06-21T19:11:31.926751Z",
     "iopub.status.idle": "2022-06-21T19:14:11.507783Z",
     "shell.execute_reply": "2022-06-21T19:14:11.506451Z"
    },
    "papermill": {
     "duration": 159.601781,
     "end_time": "2022-06-21T19:14:11.511618",
     "exception": false,
     "start_time": "2022-06-21T19:11:31.909837",
     "status": "completed"
    },
    "tags": []
   },
   "outputs": [],
   "source": [
    "#trump_tweets.drop('cleantxt',axis=1,inplace=True)\n",
    "trump_tweets['cleantxt']=trump_tweets['tweet'].apply(clean_txt)"
   ]
  },
  {
   "cell_type": "code",
   "execution_count": 33,
   "id": "da608aa1",
   "metadata": {
    "execution": {
     "iopub.execute_input": "2022-06-21T19:14:11.546087Z",
     "iopub.status.busy": "2022-06-21T19:14:11.545664Z",
     "iopub.status.idle": "2022-06-21T19:14:11.559742Z",
     "shell.execute_reply": "2022-06-21T19:14:11.559032Z"
    },
    "papermill": {
     "duration": 0.033006,
     "end_time": "2022-06-21T19:14:11.561815",
     "exception": false,
     "start_time": "2022-06-21T19:14:11.528809",
     "status": "completed"
    },
    "tags": []
   },
   "outputs": [
    {
     "data": {
      "text/html": [
       "<div>\n",
       "<style scoped>\n",
       "    .dataframe tbody tr th:only-of-type {\n",
       "        vertical-align: middle;\n",
       "    }\n",
       "\n",
       "    .dataframe tbody tr th {\n",
       "        vertical-align: top;\n",
       "    }\n",
       "\n",
       "    .dataframe thead th {\n",
       "        text-align: right;\n",
       "    }\n",
       "</style>\n",
       "<table border=\"1\" class=\"dataframe\">\n",
       "  <thead>\n",
       "    <tr style=\"text-align: right;\">\n",
       "      <th></th>\n",
       "      <th>tweet</th>\n",
       "      <th>country</th>\n",
       "      <th>cleantxt</th>\n",
       "    </tr>\n",
       "  </thead>\n",
       "  <tbody>\n",
       "    <tr>\n",
       "      <th>920743</th>\n",
       "      <td>Without a doubt, the #FourSeasons debacle is t...</td>\n",
       "      <td>US</td>\n",
       "      <td>without doubt fourseasons debacle best part do...</td>\n",
       "    </tr>\n",
       "    <tr>\n",
       "      <th>115369</th>\n",
       "      <td>President Donald #Trump’s youngest daughter, T...</td>\n",
       "      <td>US</td>\n",
       "      <td>president donald trump youngest daughter tiffa...</td>\n",
       "    </tr>\n",
       "    <tr>\n",
       "      <th>270220</th>\n",
       "      <td>Woah. Have you read this article?\\n\\nAll the p...</td>\n",
       "      <td>US</td>\n",
       "      <td>woah read article president debt donald trump ...</td>\n",
       "    </tr>\n",
       "    <tr>\n",
       "      <th>921527</th>\n",
       "      <td>The latest episode of #SNL tackled #DonaldTrum...</td>\n",
       "      <td>US</td>\n",
       "      <td>latest episode snl tackled donaldtrump loss co...</td>\n",
       "    </tr>\n",
       "    <tr>\n",
       "      <th>935247</th>\n",
       "      <td>🇺🇸 #Decision2020: @JoeBiden firmará una serie ...</td>\n",
       "      <td>US</td>\n",
       "      <td>decision joebiden firmar una serie de rdenes e...</td>\n",
       "    </tr>\n",
       "    <tr>\n",
       "      <th>...</th>\n",
       "      <td>...</td>\n",
       "      <td>...</td>\n",
       "      <td>...</td>\n",
       "    </tr>\n",
       "    <tr>\n",
       "      <th>849355</th>\n",
       "      <td>Twisted, pressed &amp;amp; curled almost empty too...</td>\n",
       "      <td>US</td>\n",
       "      <td>twisted pressed amp curled almost empty toothp...</td>\n",
       "    </tr>\n",
       "    <tr>\n",
       "      <th>795745</th>\n",
       "      <td>#Election2020\\n#USElectionResults2020\\n#Donald...</td>\n",
       "      <td>US</td>\n",
       "      <td>election uselectionresults donaldtrump since t...</td>\n",
       "    </tr>\n",
       "    <tr>\n",
       "      <th>68263</th>\n",
       "      <td>Seeing a pro-right, made up by a person pardon...</td>\n",
       "      <td>US</td>\n",
       "      <td>seeing pro right made person pardoned trump do...</td>\n",
       "    </tr>\n",
       "    <tr>\n",
       "      <th>732264</th>\n",
       "      <td>Watching this poor guy on @FoxNews explain rea...</td>\n",
       "      <td>US</td>\n",
       "      <td>watching poor guy foxnews explain reality trum...</td>\n",
       "    </tr>\n",
       "    <tr>\n",
       "      <th>473527</th>\n",
       "      <td>VOTE TRUMP!!!!! #trump #TrumpTrain #TrumpPence...</td>\n",
       "      <td>US</td>\n",
       "      <td>vote trump trump trumptrain trumppence trump m...</td>\n",
       "    </tr>\n",
       "  </tbody>\n",
       "</table>\n",
       "<p>48061 rows × 3 columns</p>\n",
       "</div>"
      ],
      "text/plain": [
       "                                                    tweet country  \\\n",
       "920743  Without a doubt, the #FourSeasons debacle is t...      US   \n",
       "115369  President Donald #Trump’s youngest daughter, T...      US   \n",
       "270220  Woah. Have you read this article?\\n\\nAll the p...      US   \n",
       "921527  The latest episode of #SNL tackled #DonaldTrum...      US   \n",
       "935247  🇺🇸 #Decision2020: @JoeBiden firmará una serie ...      US   \n",
       "...                                                   ...     ...   \n",
       "849355  Twisted, pressed &amp; curled almost empty too...      US   \n",
       "795745  #Election2020\\n#USElectionResults2020\\n#Donald...      US   \n",
       "68263   Seeing a pro-right, made up by a person pardon...      US   \n",
       "732264  Watching this poor guy on @FoxNews explain rea...      US   \n",
       "473527  VOTE TRUMP!!!!! #trump #TrumpTrain #TrumpPence...      US   \n",
       "\n",
       "                                                 cleantxt  \n",
       "920743  without doubt fourseasons debacle best part do...  \n",
       "115369  president donald trump youngest daughter tiffa...  \n",
       "270220  woah read article president debt donald trump ...  \n",
       "921527  latest episode snl tackled donaldtrump loss co...  \n",
       "935247  decision joebiden firmar una serie de rdenes e...  \n",
       "...                                                   ...  \n",
       "849355  twisted pressed amp curled almost empty toothp...  \n",
       "795745  election uselectionresults donaldtrump since t...  \n",
       "68263   seeing pro right made person pardoned trump do...  \n",
       "732264  watching poor guy foxnews explain reality trum...  \n",
       "473527  vote trump trump trumptrain trumppence trump m...  \n",
       "\n",
       "[48061 rows x 3 columns]"
      ]
     },
     "execution_count": 33,
     "metadata": {},
     "output_type": "execute_result"
    }
   ],
   "source": [
    "trump_tweets"
   ]
  },
  {
   "cell_type": "markdown",
   "id": "1b446f21",
   "metadata": {
    "papermill": {
     "duration": 0.015437,
     "end_time": "2022-06-21T19:14:11.593078",
     "exception": false,
     "start_time": "2022-06-21T19:14:11.577641",
     "status": "completed"
    },
    "tags": []
   },
   "source": [
    "# CREATING USEFUL FEATURES"
   ]
  },
  {
   "cell_type": "markdown",
   "id": "79ef79cb",
   "metadata": {
    "papermill": {
     "duration": 0.015569,
     "end_time": "2022-06-21T19:14:11.624515",
     "exception": false,
     "start_time": "2022-06-21T19:14:11.608946",
     "status": "completed"
    },
    "tags": []
   },
   "source": [
    "polarity--> how much text is positive, negative or neutral [ +1,0,-1 ]<br>\n",
    "`TextBlob(text).sentiment.polarity`<br>\n",
    "subjectivity-->if a sentence is subjective/objective<br>\n",
    "(ie)'subjective' refers to personal opinions/interests, etc.,<br>\n",
    "and 'objective' refers to general facts<br>\n",
    "`TextBlob(text).sentiment.subjectivity`<br>"
   ]
  },
  {
   "cell_type": "code",
   "execution_count": 34,
   "id": "3afb57e0",
   "metadata": {
    "execution": {
     "iopub.execute_input": "2022-06-21T19:14:11.658103Z",
     "iopub.status.busy": "2022-06-21T19:14:11.657365Z",
     "iopub.status.idle": "2022-06-21T19:14:11.663247Z",
     "shell.execute_reply": "2022-06-21T19:14:11.662360Z"
    },
    "papermill": {
     "duration": 0.024786,
     "end_time": "2022-06-21T19:14:11.665247",
     "exception": false,
     "start_time": "2022-06-21T19:14:11.640461",
     "status": "completed"
    },
    "tags": []
   },
   "outputs": [],
   "source": [
    "def get_polarity(txt):\n",
    "    return TextBlob(txt).sentiment.polarity\n",
    "def get_subjectivity(txt):\n",
    "    return TextBlob(txt).sentiment.subjectivity\n",
    "def polarity_score(score):\n",
    "    if score<0:\n",
    "        return \"negative\"\n",
    "    elif score==0:\n",
    "        return \"neutral\"\n",
    "    else:\n",
    "        return \"positive\""
   ]
  },
  {
   "cell_type": "code",
   "execution_count": 35,
   "id": "a6d3429b",
   "metadata": {
    "execution": {
     "iopub.execute_input": "2022-06-21T19:14:11.698549Z",
     "iopub.status.busy": "2022-06-21T19:14:11.698132Z",
     "iopub.status.idle": "2022-06-21T19:14:21.250984Z",
     "shell.execute_reply": "2022-06-21T19:14:21.249825Z"
    },
    "papermill": {
     "duration": 9.572157,
     "end_time": "2022-06-21T19:14:21.253546",
     "exception": false,
     "start_time": "2022-06-21T19:14:11.681389",
     "status": "completed"
    },
    "tags": []
   },
   "outputs": [],
   "source": [
    "trump_tweets['polarity']=trump_tweets['cleantxt'].apply(get_polarity)"
   ]
  },
  {
   "cell_type": "code",
   "execution_count": 36,
   "id": "e2749371",
   "metadata": {
    "execution": {
     "iopub.execute_input": "2022-06-21T19:14:21.287152Z",
     "iopub.status.busy": "2022-06-21T19:14:21.286256Z",
     "iopub.status.idle": "2022-06-21T19:14:31.438775Z",
     "shell.execute_reply": "2022-06-21T19:14:31.437713Z"
    },
    "papermill": {
     "duration": 10.172199,
     "end_time": "2022-06-21T19:14:31.441446",
     "exception": false,
     "start_time": "2022-06-21T19:14:21.269247",
     "status": "completed"
    },
    "tags": []
   },
   "outputs": [],
   "source": [
    "trump_tweets['subjectivity']=trump_tweets['cleantxt'].apply(get_subjectivity)"
   ]
  },
  {
   "cell_type": "code",
   "execution_count": 37,
   "id": "bc37d154",
   "metadata": {
    "execution": {
     "iopub.execute_input": "2022-06-21T19:14:31.479359Z",
     "iopub.status.busy": "2022-06-21T19:14:31.478829Z",
     "iopub.status.idle": "2022-06-21T19:14:31.495857Z",
     "shell.execute_reply": "2022-06-21T19:14:31.494674Z"
    },
    "papermill": {
     "duration": 0.039131,
     "end_time": "2022-06-21T19:14:31.498273",
     "exception": false,
     "start_time": "2022-06-21T19:14:31.459142",
     "status": "completed"
    },
    "tags": []
   },
   "outputs": [],
   "source": [
    "trump_tweets['sentiment']=trump_tweets['polarity'].apply(polarity_score)"
   ]
  },
  {
   "cell_type": "code",
   "execution_count": 38,
   "id": "5f662ac6",
   "metadata": {
    "execution": {
     "iopub.execute_input": "2022-06-21T19:14:31.534619Z",
     "iopub.status.busy": "2022-06-21T19:14:31.533961Z",
     "iopub.status.idle": "2022-06-21T19:14:31.550031Z",
     "shell.execute_reply": "2022-06-21T19:14:31.549025Z"
    },
    "papermill": {
     "duration": 0.036901,
     "end_time": "2022-06-21T19:14:31.552256",
     "exception": false,
     "start_time": "2022-06-21T19:14:31.515355",
     "status": "completed"
    },
    "tags": []
   },
   "outputs": [
    {
     "data": {
      "text/html": [
       "<div>\n",
       "<style scoped>\n",
       "    .dataframe tbody tr th:only-of-type {\n",
       "        vertical-align: middle;\n",
       "    }\n",
       "\n",
       "    .dataframe tbody tr th {\n",
       "        vertical-align: top;\n",
       "    }\n",
       "\n",
       "    .dataframe thead th {\n",
       "        text-align: right;\n",
       "    }\n",
       "</style>\n",
       "<table border=\"1\" class=\"dataframe\">\n",
       "  <thead>\n",
       "    <tr style=\"text-align: right;\">\n",
       "      <th></th>\n",
       "      <th>tweet</th>\n",
       "      <th>country</th>\n",
       "      <th>cleantxt</th>\n",
       "      <th>polarity</th>\n",
       "      <th>subjectivity</th>\n",
       "      <th>sentiment</th>\n",
       "    </tr>\n",
       "  </thead>\n",
       "  <tbody>\n",
       "    <tr>\n",
       "      <th>920743</th>\n",
       "      <td>Without a doubt, the #FourSeasons debacle is t...</td>\n",
       "      <td>US</td>\n",
       "      <td>without doubt fourseasons debacle best part do...</td>\n",
       "      <td>0.333333</td>\n",
       "      <td>0.483333</td>\n",
       "      <td>positive</td>\n",
       "    </tr>\n",
       "    <tr>\n",
       "      <th>115369</th>\n",
       "      <td>President Donald #Trump’s youngest daughter, T...</td>\n",
       "      <td>US</td>\n",
       "      <td>president donald trump youngest daughter tiffa...</td>\n",
       "      <td>0.000000</td>\n",
       "      <td>0.000000</td>\n",
       "      <td>neutral</td>\n",
       "    </tr>\n",
       "    <tr>\n",
       "      <th>270220</th>\n",
       "      <td>Woah. Have you read this article?\\n\\nAll the p...</td>\n",
       "      <td>US</td>\n",
       "      <td>woah read article president debt donald trump ...</td>\n",
       "      <td>0.000000</td>\n",
       "      <td>0.000000</td>\n",
       "      <td>neutral</td>\n",
       "    </tr>\n",
       "    <tr>\n",
       "      <th>921527</th>\n",
       "      <td>The latest episode of #SNL tackled #DonaldTrum...</td>\n",
       "      <td>US</td>\n",
       "      <td>latest episode snl tackled donaldtrump loss co...</td>\n",
       "      <td>-0.033333</td>\n",
       "      <td>0.800000</td>\n",
       "      <td>negative</td>\n",
       "    </tr>\n",
       "    <tr>\n",
       "      <th>935247</th>\n",
       "      <td>🇺🇸 #Decision2020: @JoeBiden firmará una serie ...</td>\n",
       "      <td>US</td>\n",
       "      <td>decision joebiden firmar una serie de rdenes e...</td>\n",
       "      <td>0.000000</td>\n",
       "      <td>0.000000</td>\n",
       "      <td>neutral</td>\n",
       "    </tr>\n",
       "    <tr>\n",
       "      <th>...</th>\n",
       "      <td>...</td>\n",
       "      <td>...</td>\n",
       "      <td>...</td>\n",
       "      <td>...</td>\n",
       "      <td>...</td>\n",
       "      <td>...</td>\n",
       "    </tr>\n",
       "    <tr>\n",
       "      <th>849355</th>\n",
       "      <td>Twisted, pressed &amp;amp; curled almost empty too...</td>\n",
       "      <td>US</td>\n",
       "      <td>twisted pressed amp curled almost empty toothp...</td>\n",
       "      <td>-0.153333</td>\n",
       "      <td>0.580000</td>\n",
       "      <td>negative</td>\n",
       "    </tr>\n",
       "    <tr>\n",
       "      <th>795745</th>\n",
       "      <td>#Election2020\\n#USElectionResults2020\\n#Donald...</td>\n",
       "      <td>US</td>\n",
       "      <td>election uselectionresults donaldtrump since t...</td>\n",
       "      <td>0.000000</td>\n",
       "      <td>0.000000</td>\n",
       "      <td>neutral</td>\n",
       "    </tr>\n",
       "    <tr>\n",
       "      <th>68263</th>\n",
       "      <td>Seeing a pro-right, made up by a person pardon...</td>\n",
       "      <td>US</td>\n",
       "      <td>seeing pro right made person pardoned trump do...</td>\n",
       "      <td>-0.282857</td>\n",
       "      <td>0.447143</td>\n",
       "      <td>negative</td>\n",
       "    </tr>\n",
       "    <tr>\n",
       "      <th>732264</th>\n",
       "      <td>Watching this poor guy on @FoxNews explain rea...</td>\n",
       "      <td>US</td>\n",
       "      <td>watching poor guy foxnews explain reality trum...</td>\n",
       "      <td>-0.362500</td>\n",
       "      <td>0.900000</td>\n",
       "      <td>negative</td>\n",
       "    </tr>\n",
       "    <tr>\n",
       "      <th>473527</th>\n",
       "      <td>VOTE TRUMP!!!!! #trump #TrumpTrain #TrumpPence...</td>\n",
       "      <td>US</td>\n",
       "      <td>vote trump trump trumptrain trumppence trump m...</td>\n",
       "      <td>0.000000</td>\n",
       "      <td>0.000000</td>\n",
       "      <td>neutral</td>\n",
       "    </tr>\n",
       "  </tbody>\n",
       "</table>\n",
       "<p>48061 rows × 6 columns</p>\n",
       "</div>"
      ],
      "text/plain": [
       "                                                    tweet country  \\\n",
       "920743  Without a doubt, the #FourSeasons debacle is t...      US   \n",
       "115369  President Donald #Trump’s youngest daughter, T...      US   \n",
       "270220  Woah. Have you read this article?\\n\\nAll the p...      US   \n",
       "921527  The latest episode of #SNL tackled #DonaldTrum...      US   \n",
       "935247  🇺🇸 #Decision2020: @JoeBiden firmará una serie ...      US   \n",
       "...                                                   ...     ...   \n",
       "849355  Twisted, pressed &amp; curled almost empty too...      US   \n",
       "795745  #Election2020\\n#USElectionResults2020\\n#Donald...      US   \n",
       "68263   Seeing a pro-right, made up by a person pardon...      US   \n",
       "732264  Watching this poor guy on @FoxNews explain rea...      US   \n",
       "473527  VOTE TRUMP!!!!! #trump #TrumpTrain #TrumpPence...      US   \n",
       "\n",
       "                                                 cleantxt  polarity  \\\n",
       "920743  without doubt fourseasons debacle best part do...  0.333333   \n",
       "115369  president donald trump youngest daughter tiffa...  0.000000   \n",
       "270220  woah read article president debt donald trump ...  0.000000   \n",
       "921527  latest episode snl tackled donaldtrump loss co... -0.033333   \n",
       "935247  decision joebiden firmar una serie de rdenes e...  0.000000   \n",
       "...                                                   ...       ...   \n",
       "849355  twisted pressed amp curled almost empty toothp... -0.153333   \n",
       "795745  election uselectionresults donaldtrump since t...  0.000000   \n",
       "68263   seeing pro right made person pardoned trump do... -0.282857   \n",
       "732264  watching poor guy foxnews explain reality trum... -0.362500   \n",
       "473527  vote trump trump trumptrain trumppence trump m...  0.000000   \n",
       "\n",
       "        subjectivity sentiment  \n",
       "920743      0.483333  positive  \n",
       "115369      0.000000   neutral  \n",
       "270220      0.000000   neutral  \n",
       "921527      0.800000  negative  \n",
       "935247      0.000000   neutral  \n",
       "...              ...       ...  \n",
       "849355      0.580000  negative  \n",
       "795745      0.000000   neutral  \n",
       "68263       0.447143  negative  \n",
       "732264      0.900000  negative  \n",
       "473527      0.000000   neutral  \n",
       "\n",
       "[48061 rows x 6 columns]"
      ]
     },
     "execution_count": 38,
     "metadata": {},
     "output_type": "execute_result"
    }
   ],
   "source": [
    "trump_tweets"
   ]
  },
  {
   "cell_type": "markdown",
   "id": "4acccbf9",
   "metadata": {
    "papermill": {
     "duration": 0.016598,
     "end_time": "2022-06-21T19:14:31.587047",
     "exception": false,
     "start_time": "2022-06-21T19:14:31.570449",
     "status": "completed"
    },
    "tags": []
   },
   "source": [
    "**REPEATING THE ABOVE STEPS FOR biden df ALSO**"
   ]
  },
  {
   "cell_type": "code",
   "execution_count": 39,
   "id": "10f071a5",
   "metadata": {
    "execution": {
     "iopub.execute_input": "2022-06-21T19:14:31.623151Z",
     "iopub.status.busy": "2022-06-21T19:14:31.622356Z",
     "iopub.status.idle": "2022-06-21T19:14:33.552799Z",
     "shell.execute_reply": "2022-06-21T19:14:33.551692Z"
    },
    "papermill": {
     "duration": 1.950789,
     "end_time": "2022-06-21T19:14:33.555260",
     "exception": false,
     "start_time": "2022-06-21T19:14:31.604471",
     "status": "completed"
    },
    "tags": []
   },
   "outputs": [],
   "source": [
    "biden_tweets=df.query(\"(candidate == 'Biden')\").sort_values('user_followers_count',ascending=False).drop_duplicates(['user_id'])[['tweet','country']]"
   ]
  },
  {
   "cell_type": "code",
   "execution_count": 40,
   "id": "0055bba2",
   "metadata": {
    "execution": {
     "iopub.execute_input": "2022-06-21T19:14:33.590418Z",
     "iopub.status.busy": "2022-06-21T19:14:33.589678Z",
     "iopub.status.idle": "2022-06-21T19:14:33.600504Z",
     "shell.execute_reply": "2022-06-21T19:14:33.599721Z"
    },
    "papermill": {
     "duration": 0.030286,
     "end_time": "2022-06-21T19:14:33.602545",
     "exception": false,
     "start_time": "2022-06-21T19:14:33.572259",
     "status": "completed"
    },
    "tags": []
   },
   "outputs": [
    {
     "data": {
      "text/html": [
       "<div>\n",
       "<style scoped>\n",
       "    .dataframe tbody tr th:only-of-type {\n",
       "        vertical-align: middle;\n",
       "    }\n",
       "\n",
       "    .dataframe tbody tr th {\n",
       "        vertical-align: top;\n",
       "    }\n",
       "\n",
       "    .dataframe thead th {\n",
       "        text-align: right;\n",
       "    }\n",
       "</style>\n",
       "<table border=\"1\" class=\"dataframe\">\n",
       "  <thead>\n",
       "    <tr style=\"text-align: right;\">\n",
       "      <th></th>\n",
       "      <th>tweet</th>\n",
       "      <th>country</th>\n",
       "    </tr>\n",
       "  </thead>\n",
       "  <tbody>\n",
       "    <tr>\n",
       "      <th>287365</th>\n",
       "      <td>Vote early! Vote Tuesday! Vote #Biden! #vote h...</td>\n",
       "      <td>NaN</td>\n",
       "    </tr>\n",
       "    <tr>\n",
       "      <th>636105</th>\n",
       "      <td>#Election2020 #PresidentElectJoe #JoeBiden htt...</td>\n",
       "      <td>NaN</td>\n",
       "    </tr>\n",
       "    <tr>\n",
       "      <th>738532</th>\n",
       "      <td>Desde #California a #NuevaYork, muchos están c...</td>\n",
       "      <td>NaN</td>\n",
       "    </tr>\n",
       "    <tr>\n",
       "      <th>744750</th>\n",
       "      <td>Joe Biden dan Kamala Harris memang dalam pemil...</td>\n",
       "      <td>Indonesia</td>\n",
       "    </tr>\n",
       "    <tr>\n",
       "      <th>710408</th>\n",
       "      <td>President-elect #JoeBiden and Vice-President-e...</td>\n",
       "      <td>India</td>\n",
       "    </tr>\n",
       "    <tr>\n",
       "      <th>...</th>\n",
       "      <td>...</td>\n",
       "      <td>...</td>\n",
       "    </tr>\n",
       "    <tr>\n",
       "      <th>734356</th>\n",
       "      <td>\"Spread the hope.\"\\n~Joe Biden\\n\\n#joebiden #e...</td>\n",
       "      <td>NaN</td>\n",
       "    </tr>\n",
       "    <tr>\n",
       "      <th>284600</th>\n",
       "      <td>NEW GLOBAL UPDATE FOR OUR ELECTION GAME! START...</td>\n",
       "      <td>NaN</td>\n",
       "    </tr>\n",
       "    <tr>\n",
       "      <th>734349</th>\n",
       "      <td>@realDonaldTrump It’s like monopoly.. #JoeBide...</td>\n",
       "      <td>US</td>\n",
       "    </tr>\n",
       "    <tr>\n",
       "      <th>653112</th>\n",
       "      <td>IT’S OVER!\\n#Biden #Harris #AmericaDecides htt...</td>\n",
       "      <td>The Netherlands</td>\n",
       "    </tr>\n",
       "    <tr>\n",
       "      <th>256730</th>\n",
       "      <td>Wer meint ihr gewinnt das Rennen? und wieso? #...</td>\n",
       "      <td>Germany</td>\n",
       "    </tr>\n",
       "  </tbody>\n",
       "</table>\n",
       "<p>316073 rows × 2 columns</p>\n",
       "</div>"
      ],
      "text/plain": [
       "                                                    tweet          country\n",
       "287365  Vote early! Vote Tuesday! Vote #Biden! #vote h...              NaN\n",
       "636105  #Election2020 #PresidentElectJoe #JoeBiden htt...              NaN\n",
       "738532  Desde #California a #NuevaYork, muchos están c...              NaN\n",
       "744750  Joe Biden dan Kamala Harris memang dalam pemil...        Indonesia\n",
       "710408  President-elect #JoeBiden and Vice-President-e...            India\n",
       "...                                                   ...              ...\n",
       "734356  \"Spread the hope.\"\\n~Joe Biden\\n\\n#joebiden #e...              NaN\n",
       "284600  NEW GLOBAL UPDATE FOR OUR ELECTION GAME! START...              NaN\n",
       "734349  @realDonaldTrump It’s like monopoly.. #JoeBide...               US\n",
       "653112  IT’S OVER!\\n#Biden #Harris #AmericaDecides htt...  The Netherlands\n",
       "256730  Wer meint ihr gewinnt das Rennen? und wieso? #...          Germany\n",
       "\n",
       "[316073 rows x 2 columns]"
      ]
     },
     "execution_count": 40,
     "metadata": {},
     "output_type": "execute_result"
    }
   ],
   "source": [
    "biden_tweets"
   ]
  },
  {
   "cell_type": "code",
   "execution_count": 41,
   "id": "328d7ace",
   "metadata": {
    "execution": {
     "iopub.execute_input": "2022-06-21T19:14:33.637027Z",
     "iopub.status.busy": "2022-06-21T19:14:33.636096Z",
     "iopub.status.idle": "2022-06-21T19:14:33.667259Z",
     "shell.execute_reply": "2022-06-21T19:14:33.666500Z"
    },
    "papermill": {
     "duration": 0.050242,
     "end_time": "2022-06-21T19:14:33.669105",
     "exception": false,
     "start_time": "2022-06-21T19:14:33.618863",
     "status": "completed"
    },
    "tags": []
   },
   "outputs": [
    {
     "data": {
      "text/html": [
       "<div>\n",
       "<style scoped>\n",
       "    .dataframe tbody tr th:only-of-type {\n",
       "        vertical-align: middle;\n",
       "    }\n",
       "\n",
       "    .dataframe tbody tr th {\n",
       "        vertical-align: top;\n",
       "    }\n",
       "\n",
       "    .dataframe thead th {\n",
       "        text-align: right;\n",
       "    }\n",
       "</style>\n",
       "<table border=\"1\" class=\"dataframe\">\n",
       "  <thead>\n",
       "    <tr style=\"text-align: right;\">\n",
       "      <th></th>\n",
       "      <th>tweet</th>\n",
       "      <th>country</th>\n",
       "    </tr>\n",
       "  </thead>\n",
       "  <tbody>\n",
       "    <tr>\n",
       "      <th>175650</th>\n",
       "      <td>#JoeBiden is enlisting A-list star power to he...</td>\n",
       "      <td>US</td>\n",
       "    </tr>\n",
       "    <tr>\n",
       "      <th>735142</th>\n",
       "      <td>While we were campaigning across battleground ...</td>\n",
       "      <td>US</td>\n",
       "    </tr>\n",
       "    <tr>\n",
       "      <th>343145</th>\n",
       "      <td>The big fight TODAY!!!!! @realDonaldTrump vs #...</td>\n",
       "      <td>US</td>\n",
       "    </tr>\n",
       "    <tr>\n",
       "      <th>586959</th>\n",
       "      <td>News outlets have projected that #JoeBiden has...</td>\n",
       "      <td>US</td>\n",
       "    </tr>\n",
       "    <tr>\n",
       "      <th>709825</th>\n",
       "      <td>During his victory speech, #JoeBiden said he u...</td>\n",
       "      <td>US</td>\n",
       "    </tr>\n",
       "    <tr>\n",
       "      <th>...</th>\n",
       "      <td>...</td>\n",
       "      <td>...</td>\n",
       "    </tr>\n",
       "    <tr>\n",
       "      <th>135471</th>\n",
       "      <td>#JoeBiden's best four quotes of the debate \"I ...</td>\n",
       "      <td>US</td>\n",
       "    </tr>\n",
       "    <tr>\n",
       "      <th>347694</th>\n",
       "      <td>Biden IS going to win tonight. #biden #Electio...</td>\n",
       "      <td>US</td>\n",
       "    </tr>\n",
       "    <tr>\n",
       "      <th>734572</th>\n",
       "      <td>All 238k deaths recorded in the United States ...</td>\n",
       "      <td>US</td>\n",
       "    </tr>\n",
       "    <tr>\n",
       "      <th>321040</th>\n",
       "      <td>Joe Biden'in başa gelmesi bizim bence işimize ...</td>\n",
       "      <td>US</td>\n",
       "    </tr>\n",
       "    <tr>\n",
       "      <th>734349</th>\n",
       "      <td>@realDonaldTrump It’s like monopoly.. #JoeBide...</td>\n",
       "      <td>US</td>\n",
       "    </tr>\n",
       "  </tbody>\n",
       "</table>\n",
       "<p>61082 rows × 2 columns</p>\n",
       "</div>"
      ],
      "text/plain": [
       "                                                    tweet country\n",
       "175650  #JoeBiden is enlisting A-list star power to he...      US\n",
       "735142  While we were campaigning across battleground ...      US\n",
       "343145  The big fight TODAY!!!!! @realDonaldTrump vs #...      US\n",
       "586959  News outlets have projected that #JoeBiden has...      US\n",
       "709825  During his victory speech, #JoeBiden said he u...      US\n",
       "...                                                   ...     ...\n",
       "135471  #JoeBiden's best four quotes of the debate \"I ...      US\n",
       "347694  Biden IS going to win tonight. #biden #Electio...      US\n",
       "734572  All 238k deaths recorded in the United States ...      US\n",
       "321040  Joe Biden'in başa gelmesi bizim bence işimize ...      US\n",
       "734349  @realDonaldTrump It’s like monopoly.. #JoeBide...      US\n",
       "\n",
       "[61082 rows x 2 columns]"
      ]
     },
     "execution_count": 41,
     "metadata": {},
     "output_type": "execute_result"
    }
   ],
   "source": [
    "biden_tweets=biden_tweets[biden_tweets['country']=='US']\n",
    "biden_tweets"
   ]
  },
  {
   "cell_type": "code",
   "execution_count": 42,
   "id": "79aa9bb0",
   "metadata": {
    "execution": {
     "iopub.execute_input": "2022-06-21T19:14:33.703469Z",
     "iopub.status.busy": "2022-06-21T19:14:33.702833Z",
     "iopub.status.idle": "2022-06-21T19:17:42.187879Z",
     "shell.execute_reply": "2022-06-21T19:17:42.186909Z"
    },
    "papermill": {
     "duration": 188.505001,
     "end_time": "2022-06-21T19:17:42.190296",
     "exception": false,
     "start_time": "2022-06-21T19:14:33.685295",
     "status": "completed"
    },
    "tags": []
   },
   "outputs": [],
   "source": [
    "biden_tweets['cleantxt']=biden_tweets['tweet'].apply(clean_txt)"
   ]
  },
  {
   "cell_type": "code",
   "execution_count": 43,
   "id": "1cd0de1c",
   "metadata": {
    "execution": {
     "iopub.execute_input": "2022-06-21T19:17:42.226005Z",
     "iopub.status.busy": "2022-06-21T19:17:42.225269Z",
     "iopub.status.idle": "2022-06-21T19:17:42.238428Z",
     "shell.execute_reply": "2022-06-21T19:17:42.237529Z"
    },
    "papermill": {
     "duration": 0.032884,
     "end_time": "2022-06-21T19:17:42.240412",
     "exception": false,
     "start_time": "2022-06-21T19:17:42.207528",
     "status": "completed"
    },
    "tags": []
   },
   "outputs": [
    {
     "data": {
      "text/html": [
       "<div>\n",
       "<style scoped>\n",
       "    .dataframe tbody tr th:only-of-type {\n",
       "        vertical-align: middle;\n",
       "    }\n",
       "\n",
       "    .dataframe tbody tr th {\n",
       "        vertical-align: top;\n",
       "    }\n",
       "\n",
       "    .dataframe thead th {\n",
       "        text-align: right;\n",
       "    }\n",
       "</style>\n",
       "<table border=\"1\" class=\"dataframe\">\n",
       "  <thead>\n",
       "    <tr style=\"text-align: right;\">\n",
       "      <th></th>\n",
       "      <th>tweet</th>\n",
       "      <th>country</th>\n",
       "      <th>cleantxt</th>\n",
       "    </tr>\n",
       "  </thead>\n",
       "  <tbody>\n",
       "    <tr>\n",
       "      <th>175650</th>\n",
       "      <td>#JoeBiden is enlisting A-list star power to he...</td>\n",
       "      <td>US</td>\n",
       "      <td>joebiden enlisting list star power help close ...</td>\n",
       "    </tr>\n",
       "    <tr>\n",
       "      <th>735142</th>\n",
       "      <td>While we were campaigning across battleground ...</td>\n",
       "      <td>US</td>\n",
       "      <td>campaigning across battleground state ran grea...</td>\n",
       "    </tr>\n",
       "    <tr>\n",
       "      <th>343145</th>\n",
       "      <td>The big fight TODAY!!!!! @realDonaldTrump vs #...</td>\n",
       "      <td>US</td>\n",
       "      <td>big fight today realdonaldtrump v joebiden got...</td>\n",
       "    </tr>\n",
       "    <tr>\n",
       "      <th>586959</th>\n",
       "      <td>News outlets have projected that #JoeBiden has...</td>\n",
       "      <td>US</td>\n",
       "      <td>news outlet projected joebiden secured elector...</td>\n",
       "    </tr>\n",
       "    <tr>\n",
       "      <th>709825</th>\n",
       "      <td>During his victory speech, #JoeBiden said he u...</td>\n",
       "      <td>US</td>\n",
       "      <td>victory speech joebiden said understood trump ...</td>\n",
       "    </tr>\n",
       "    <tr>\n",
       "      <th>...</th>\n",
       "      <td>...</td>\n",
       "      <td>...</td>\n",
       "      <td>...</td>\n",
       "    </tr>\n",
       "    <tr>\n",
       "      <th>135471</th>\n",
       "      <td>#JoeBiden's best four quotes of the debate \"I ...</td>\n",
       "      <td>US</td>\n",
       "      <td>joebiden best four quote debate made mistake l...</td>\n",
       "    </tr>\n",
       "    <tr>\n",
       "      <th>347694</th>\n",
       "      <td>Biden IS going to win tonight. #biden #Electio...</td>\n",
       "      <td>US</td>\n",
       "      <td>biden going win tonight biden electionday http...</td>\n",
       "    </tr>\n",
       "    <tr>\n",
       "      <th>734572</th>\n",
       "      <td>All 238k deaths recorded in the United States ...</td>\n",
       "      <td>US</td>\n",
       "      <td>k death recorded united state covid alone coz ...</td>\n",
       "    </tr>\n",
       "    <tr>\n",
       "      <th>321040</th>\n",
       "      <td>Joe Biden'in başa gelmesi bizim bence işimize ...</td>\n",
       "      <td>US</td>\n",
       "      <td>joe biden ba gelmesi bizim bence imize gelir n...</td>\n",
       "    </tr>\n",
       "    <tr>\n",
       "      <th>734349</th>\n",
       "      <td>@realDonaldTrump It’s like monopoly.. #JoeBide...</td>\n",
       "      <td>US</td>\n",
       "      <td>realdonaldtrump like monopoly joebiden skip ja...</td>\n",
       "    </tr>\n",
       "  </tbody>\n",
       "</table>\n",
       "<p>61082 rows × 3 columns</p>\n",
       "</div>"
      ],
      "text/plain": [
       "                                                    tweet country  \\\n",
       "175650  #JoeBiden is enlisting A-list star power to he...      US   \n",
       "735142  While we were campaigning across battleground ...      US   \n",
       "343145  The big fight TODAY!!!!! @realDonaldTrump vs #...      US   \n",
       "586959  News outlets have projected that #JoeBiden has...      US   \n",
       "709825  During his victory speech, #JoeBiden said he u...      US   \n",
       "...                                                   ...     ...   \n",
       "135471  #JoeBiden's best four quotes of the debate \"I ...      US   \n",
       "347694  Biden IS going to win tonight. #biden #Electio...      US   \n",
       "734572  All 238k deaths recorded in the United States ...      US   \n",
       "321040  Joe Biden'in başa gelmesi bizim bence işimize ...      US   \n",
       "734349  @realDonaldTrump It’s like monopoly.. #JoeBide...      US   \n",
       "\n",
       "                                                 cleantxt  \n",
       "175650  joebiden enlisting list star power help close ...  \n",
       "735142  campaigning across battleground state ran grea...  \n",
       "343145  big fight today realdonaldtrump v joebiden got...  \n",
       "586959  news outlet projected joebiden secured elector...  \n",
       "709825  victory speech joebiden said understood trump ...  \n",
       "...                                                   ...  \n",
       "135471  joebiden best four quote debate made mistake l...  \n",
       "347694  biden going win tonight biden electionday http...  \n",
       "734572  k death recorded united state covid alone coz ...  \n",
       "321040  joe biden ba gelmesi bizim bence imize gelir n...  \n",
       "734349  realdonaldtrump like monopoly joebiden skip ja...  \n",
       "\n",
       "[61082 rows x 3 columns]"
      ]
     },
     "execution_count": 43,
     "metadata": {},
     "output_type": "execute_result"
    }
   ],
   "source": [
    "biden_tweets"
   ]
  },
  {
   "cell_type": "code",
   "execution_count": 44,
   "id": "aa221f0d",
   "metadata": {
    "execution": {
     "iopub.execute_input": "2022-06-21T19:17:42.275990Z",
     "iopub.status.busy": "2022-06-21T19:17:42.275102Z",
     "iopub.status.idle": "2022-06-21T19:18:05.875794Z",
     "shell.execute_reply": "2022-06-21T19:18:05.874726Z"
    },
    "papermill": {
     "duration": 23.621268,
     "end_time": "2022-06-21T19:18:05.878417",
     "exception": false,
     "start_time": "2022-06-21T19:17:42.257149",
     "status": "completed"
    },
    "tags": []
   },
   "outputs": [],
   "source": [
    "biden_tweets['polarity']=biden_tweets['cleantxt'].apply(get_polarity)\n",
    "biden_tweets['subjectivity']=biden_tweets['cleantxt'].apply(get_subjectivity)\n",
    "biden_tweets['sentiment']=biden_tweets['polarity'].apply(polarity_score)"
   ]
  },
  {
   "cell_type": "code",
   "execution_count": 45,
   "id": "c4b46c3f",
   "metadata": {
    "execution": {
     "iopub.execute_input": "2022-06-21T19:18:05.914540Z",
     "iopub.status.busy": "2022-06-21T19:18:05.914119Z",
     "iopub.status.idle": "2022-06-21T19:18:05.932720Z",
     "shell.execute_reply": "2022-06-21T19:18:05.931673Z"
    },
    "papermill": {
     "duration": 0.038681,
     "end_time": "2022-06-21T19:18:05.934642",
     "exception": false,
     "start_time": "2022-06-21T19:18:05.895961",
     "status": "completed"
    },
    "tags": []
   },
   "outputs": [
    {
     "data": {
      "text/html": [
       "<div>\n",
       "<style scoped>\n",
       "    .dataframe tbody tr th:only-of-type {\n",
       "        vertical-align: middle;\n",
       "    }\n",
       "\n",
       "    .dataframe tbody tr th {\n",
       "        vertical-align: top;\n",
       "    }\n",
       "\n",
       "    .dataframe thead th {\n",
       "        text-align: right;\n",
       "    }\n",
       "</style>\n",
       "<table border=\"1\" class=\"dataframe\">\n",
       "  <thead>\n",
       "    <tr style=\"text-align: right;\">\n",
       "      <th></th>\n",
       "      <th>tweet</th>\n",
       "      <th>country</th>\n",
       "      <th>cleantxt</th>\n",
       "      <th>polarity</th>\n",
       "      <th>subjectivity</th>\n",
       "      <th>sentiment</th>\n",
       "    </tr>\n",
       "  </thead>\n",
       "  <tbody>\n",
       "    <tr>\n",
       "      <th>175650</th>\n",
       "      <td>#JoeBiden is enlisting A-list star power to he...</td>\n",
       "      <td>US</td>\n",
       "      <td>joebiden enlisting list star power help close ...</td>\n",
       "      <td>0.000000</td>\n",
       "      <td>0.000000</td>\n",
       "      <td>neutral</td>\n",
       "    </tr>\n",
       "    <tr>\n",
       "      <th>735142</th>\n",
       "      <td>While we were campaigning across battleground ...</td>\n",
       "      <td>US</td>\n",
       "      <td>campaigning across battleground state ran grea...</td>\n",
       "      <td>0.800000</td>\n",
       "      <td>0.750000</td>\n",
       "      <td>positive</td>\n",
       "    </tr>\n",
       "    <tr>\n",
       "      <th>343145</th>\n",
       "      <td>The big fight TODAY!!!!! @realDonaldTrump vs #...</td>\n",
       "      <td>US</td>\n",
       "      <td>big fight today realdonaldtrump v joebiden got...</td>\n",
       "      <td>0.000000</td>\n",
       "      <td>0.100000</td>\n",
       "      <td>neutral</td>\n",
       "    </tr>\n",
       "    <tr>\n",
       "      <th>586959</th>\n",
       "      <td>News outlets have projected that #JoeBiden has...</td>\n",
       "      <td>US</td>\n",
       "      <td>news outlet projected joebiden secured elector...</td>\n",
       "      <td>0.000000</td>\n",
       "      <td>0.000000</td>\n",
       "      <td>neutral</td>\n",
       "    </tr>\n",
       "    <tr>\n",
       "      <th>709825</th>\n",
       "      <td>During his victory speech, #JoeBiden said he u...</td>\n",
       "      <td>US</td>\n",
       "      <td>victory speech joebiden said understood trump ...</td>\n",
       "      <td>-0.750000</td>\n",
       "      <td>0.750000</td>\n",
       "      <td>negative</td>\n",
       "    </tr>\n",
       "    <tr>\n",
       "      <th>...</th>\n",
       "      <td>...</td>\n",
       "      <td>...</td>\n",
       "      <td>...</td>\n",
       "      <td>...</td>\n",
       "      <td>...</td>\n",
       "      <td>...</td>\n",
       "    </tr>\n",
       "    <tr>\n",
       "      <th>135471</th>\n",
       "      <td>#JoeBiden's best four quotes of the debate \"I ...</td>\n",
       "      <td>US</td>\n",
       "      <td>joebiden best four quote debate made mistake l...</td>\n",
       "      <td>0.500000</td>\n",
       "      <td>0.200000</td>\n",
       "      <td>positive</td>\n",
       "    </tr>\n",
       "    <tr>\n",
       "      <th>347694</th>\n",
       "      <td>Biden IS going to win tonight. #biden #Electio...</td>\n",
       "      <td>US</td>\n",
       "      <td>biden going win tonight biden electionday http...</td>\n",
       "      <td>0.800000</td>\n",
       "      <td>0.400000</td>\n",
       "      <td>positive</td>\n",
       "    </tr>\n",
       "    <tr>\n",
       "      <th>734572</th>\n",
       "      <td>All 238k deaths recorded in the United States ...</td>\n",
       "      <td>US</td>\n",
       "      <td>k death recorded united state covid alone coz ...</td>\n",
       "      <td>-0.006061</td>\n",
       "      <td>0.217576</td>\n",
       "      <td>negative</td>\n",
       "    </tr>\n",
       "    <tr>\n",
       "      <th>321040</th>\n",
       "      <td>Joe Biden'in başa gelmesi bizim bence işimize ...</td>\n",
       "      <td>US</td>\n",
       "      <td>joe biden ba gelmesi bizim bence imize gelir n...</td>\n",
       "      <td>0.000000</td>\n",
       "      <td>0.000000</td>\n",
       "      <td>neutral</td>\n",
       "    </tr>\n",
       "    <tr>\n",
       "      <th>734349</th>\n",
       "      <td>@realDonaldTrump It’s like monopoly.. #JoeBide...</td>\n",
       "      <td>US</td>\n",
       "      <td>realdonaldtrump like monopoly joebiden skip ja...</td>\n",
       "      <td>-0.125000</td>\n",
       "      <td>0.412500</td>\n",
       "      <td>negative</td>\n",
       "    </tr>\n",
       "  </tbody>\n",
       "</table>\n",
       "<p>61082 rows × 6 columns</p>\n",
       "</div>"
      ],
      "text/plain": [
       "                                                    tweet country  \\\n",
       "175650  #JoeBiden is enlisting A-list star power to he...      US   \n",
       "735142  While we were campaigning across battleground ...      US   \n",
       "343145  The big fight TODAY!!!!! @realDonaldTrump vs #...      US   \n",
       "586959  News outlets have projected that #JoeBiden has...      US   \n",
       "709825  During his victory speech, #JoeBiden said he u...      US   \n",
       "...                                                   ...     ...   \n",
       "135471  #JoeBiden's best four quotes of the debate \"I ...      US   \n",
       "347694  Biden IS going to win tonight. #biden #Electio...      US   \n",
       "734572  All 238k deaths recorded in the United States ...      US   \n",
       "321040  Joe Biden'in başa gelmesi bizim bence işimize ...      US   \n",
       "734349  @realDonaldTrump It’s like monopoly.. #JoeBide...      US   \n",
       "\n",
       "                                                 cleantxt  polarity  \\\n",
       "175650  joebiden enlisting list star power help close ...  0.000000   \n",
       "735142  campaigning across battleground state ran grea...  0.800000   \n",
       "343145  big fight today realdonaldtrump v joebiden got...  0.000000   \n",
       "586959  news outlet projected joebiden secured elector...  0.000000   \n",
       "709825  victory speech joebiden said understood trump ... -0.750000   \n",
       "...                                                   ...       ...   \n",
       "135471  joebiden best four quote debate made mistake l...  0.500000   \n",
       "347694  biden going win tonight biden electionday http...  0.800000   \n",
       "734572  k death recorded united state covid alone coz ... -0.006061   \n",
       "321040  joe biden ba gelmesi bizim bence imize gelir n...  0.000000   \n",
       "734349  realdonaldtrump like monopoly joebiden skip ja... -0.125000   \n",
       "\n",
       "        subjectivity sentiment  \n",
       "175650      0.000000   neutral  \n",
       "735142      0.750000  positive  \n",
       "343145      0.100000   neutral  \n",
       "586959      0.000000   neutral  \n",
       "709825      0.750000  negative  \n",
       "...              ...       ...  \n",
       "135471      0.200000  positive  \n",
       "347694      0.400000  positive  \n",
       "734572      0.217576  negative  \n",
       "321040      0.000000   neutral  \n",
       "734349      0.412500  negative  \n",
       "\n",
       "[61082 rows x 6 columns]"
      ]
     },
     "execution_count": 45,
     "metadata": {},
     "output_type": "execute_result"
    }
   ],
   "source": [
    "biden_tweets"
   ]
  },
  {
   "cell_type": "markdown",
   "id": "b504463b",
   "metadata": {
    "papermill": {
     "duration": 0.01727,
     "end_time": "2022-06-21T19:18:05.968967",
     "exception": false,
     "start_time": "2022-06-21T19:18:05.951697",
     "status": "completed"
    },
    "tags": []
   },
   "source": [
    "# VIEWING FINAL RESULTS"
   ]
  },
  {
   "cell_type": "code",
   "execution_count": 46,
   "id": "b5339e85",
   "metadata": {
    "execution": {
     "iopub.execute_input": "2022-06-21T19:18:06.005461Z",
     "iopub.status.busy": "2022-06-21T19:18:06.005080Z",
     "iopub.status.idle": "2022-06-21T19:18:06.015463Z",
     "shell.execute_reply": "2022-06-21T19:18:06.014549Z"
    },
    "papermill": {
     "duration": 0.030878,
     "end_time": "2022-06-21T19:18:06.017280",
     "exception": false,
     "start_time": "2022-06-21T19:18:05.986402",
     "status": "completed"
    },
    "tags": []
   },
   "outputs": [
    {
     "data": {
      "text/plain": [
       "neutral     45.725224\n",
       "positive    34.293918\n",
       "negative    19.980858\n",
       "Name: sentiment, dtype: float64"
      ]
     },
     "execution_count": 46,
     "metadata": {},
     "output_type": "execute_result"
    }
   ],
   "source": [
    "trump_tweets.sentiment.value_counts(normalize=True)*100"
   ]
  },
  {
   "cell_type": "code",
   "execution_count": 47,
   "id": "77cd9899",
   "metadata": {
    "execution": {
     "iopub.execute_input": "2022-06-21T19:18:06.053639Z",
     "iopub.status.busy": "2022-06-21T19:18:06.052876Z",
     "iopub.status.idle": "2022-06-21T19:18:06.063750Z",
     "shell.execute_reply": "2022-06-21T19:18:06.062794Z"
    },
    "papermill": {
     "duration": 0.031036,
     "end_time": "2022-06-21T19:18:06.065668",
     "exception": false,
     "start_time": "2022-06-21T19:18:06.034632",
     "status": "completed"
    },
    "tags": []
   },
   "outputs": [
    {
     "data": {
      "text/plain": [
       "neutral     47.226679\n",
       "positive    38.471235\n",
       "negative    14.302086\n",
       "Name: sentiment, dtype: float64"
      ]
     },
     "execution_count": 47,
     "metadata": {},
     "output_type": "execute_result"
    }
   ],
   "source": [
    "biden_tweets.sentiment.value_counts(normalize=True)*100"
   ]
  },
  {
   "cell_type": "markdown",
   "id": "d8aa1912",
   "metadata": {
    "papermill": {
     "duration": 0.017827,
     "end_time": "2022-06-21T19:18:06.101107",
     "exception": false,
     "start_time": "2022-06-21T19:18:06.083280",
     "status": "completed"
    },
    "tags": []
   },
   "source": [
    "# INFERENCE:\n",
    "**Thus from the analysis, it is evident that out of election_2020_tweets in english /english-mixed/english-like languages, within the country of USA, there were higher positivity and neutrality in tweets regarding president Biden relative to the candidate Trump**"
   ]
  }
 ],
 "metadata": {
  "kernelspec": {
   "display_name": "Python 3",
   "language": "python",
   "name": "python3"
  },
  "language_info": {
   "codemirror_mode": {
    "name": "ipython",
    "version": 3
   },
   "file_extension": ".py",
   "mimetype": "text/x-python",
   "name": "python",
   "nbconvert_exporter": "python",
   "pygments_lexer": "ipython3",
   "version": "3.7.12"
  },
  "papermill": {
   "default_parameters": {},
   "duration": 649.713307,
   "end_time": "2022-06-21T19:18:09.666101",
   "environment_variables": {},
   "exception": null,
   "input_path": "__notebook__.ipynb",
   "output_path": "__notebook__.ipynb",
   "parameters": {},
   "start_time": "2022-06-21T19:07:19.952794",
   "version": "2.3.4"
  }
 },
 "nbformat": 4,
 "nbformat_minor": 5
}
