{
  "nbformat": 4,
  "nbformat_minor": 0,
  "metadata": {
    "colab": {
      "name": "wine_quality_classification_using_ ANN.ipynb",
      "provenance": [],
      "collapsed_sections": [],
      "authorship_tag": "ABX9TyNY7ciafKBhbfs/j3jsyQAF",
      "include_colab_link": true
    },
    "kernelspec": {
      "name": "python3",
      "display_name": "Python 3"
    },
    "language_info": {
      "name": "python"
    }
  },
  "cells": [
    {
      "cell_type": "markdown",
      "metadata": {
        "id": "view-in-github",
        "colab_type": "text"
      },
      "source": [
        "<a href=\"https://colab.research.google.com/github/kaapivalli/Machine-Learning/blob/main/wine_quality_classification_using__ANN.ipynb\" target=\"_parent\"><img src=\"https://colab.research.google.com/assets/colab-badge.svg\" alt=\"Open In Colab\"/></a>"
      ]
    },
    {
      "cell_type": "markdown",
      "source": [
        "# IMPORTING NECESSARY LIBRARIES"
      ],
      "metadata": {
        "id": "Snc5IMjSwqD6"
      }
    },
    {
      "cell_type": "code",
      "execution_count": null,
      "metadata": {
        "id": "fTvBGqq26JsD"
      },
      "outputs": [],
      "source": [
        "import pandas as pd\n",
        "import numpy as np\n",
        "import matplotlib.pyplot as plt\n",
        "import seaborn as sns"
      ]
    },
    {
      "cell_type": "markdown",
      "source": [
        "# READING CSV INTO DATA FRAME"
      ],
      "metadata": {
        "id": "zT-knYU_w2Mq"
      }
    },
    {
      "cell_type": "code",
      "source": [
        "df=pd.read_csv(\"winequality-red.csv\")\n",
        "df"
      ],
      "metadata": {
        "colab": {
          "base_uri": "https://localhost:8080/",
          "height": 424
        },
        "id": "1BHvMpRj6Q62",
        "outputId": "4dc55595-995a-4571-af81-da60fbc71aba"
      },
      "execution_count": null,
      "outputs": [
        {
          "output_type": "execute_result",
          "data": {
            "text/plain": [
              "      fixed acidity  volatile acidity  citric acid  residual sugar  chlorides  \\\n",
              "0               7.4             0.700         0.00             1.9      0.076   \n",
              "1               7.8             0.880         0.00             2.6      0.098   \n",
              "2               7.8             0.760         0.04             2.3      0.092   \n",
              "3              11.2             0.280         0.56             1.9      0.075   \n",
              "4               7.4             0.700         0.00             1.9      0.076   \n",
              "...             ...               ...          ...             ...        ...   \n",
              "1594            6.2             0.600         0.08             2.0      0.090   \n",
              "1595            5.9             0.550         0.10             2.2      0.062   \n",
              "1596            6.3             0.510         0.13             2.3      0.076   \n",
              "1597            5.9             0.645         0.12             2.0      0.075   \n",
              "1598            6.0             0.310         0.47             3.6      0.067   \n",
              "\n",
              "      free sulfur dioxide  total sulfur dioxide  density    pH  sulphates  \\\n",
              "0                    11.0                  34.0  0.99780  3.51       0.56   \n",
              "1                    25.0                  67.0  0.99680  3.20       0.68   \n",
              "2                    15.0                  54.0  0.99700  3.26       0.65   \n",
              "3                    17.0                  60.0  0.99800  3.16       0.58   \n",
              "4                    11.0                  34.0  0.99780  3.51       0.56   \n",
              "...                   ...                   ...      ...   ...        ...   \n",
              "1594                 32.0                  44.0  0.99490  3.45       0.58   \n",
              "1595                 39.0                  51.0  0.99512  3.52       0.76   \n",
              "1596                 29.0                  40.0  0.99574  3.42       0.75   \n",
              "1597                 32.0                  44.0  0.99547  3.57       0.71   \n",
              "1598                 18.0                  42.0  0.99549  3.39       0.66   \n",
              "\n",
              "      alcohol  quality  \n",
              "0         9.4        5  \n",
              "1         9.8        5  \n",
              "2         9.8        5  \n",
              "3         9.8        6  \n",
              "4         9.4        5  \n",
              "...       ...      ...  \n",
              "1594     10.5        5  \n",
              "1595     11.2        6  \n",
              "1596     11.0        6  \n",
              "1597     10.2        5  \n",
              "1598     11.0        6  \n",
              "\n",
              "[1599 rows x 12 columns]"
            ],
            "text/html": [
              "\n",
              "  <div id=\"df-46edb99b-fbcd-4554-9a9f-e662164cb55f\">\n",
              "    <div class=\"colab-df-container\">\n",
              "      <div>\n",
              "<style scoped>\n",
              "    .dataframe tbody tr th:only-of-type {\n",
              "        vertical-align: middle;\n",
              "    }\n",
              "\n",
              "    .dataframe tbody tr th {\n",
              "        vertical-align: top;\n",
              "    }\n",
              "\n",
              "    .dataframe thead th {\n",
              "        text-align: right;\n",
              "    }\n",
              "</style>\n",
              "<table border=\"1\" class=\"dataframe\">\n",
              "  <thead>\n",
              "    <tr style=\"text-align: right;\">\n",
              "      <th></th>\n",
              "      <th>fixed acidity</th>\n",
              "      <th>volatile acidity</th>\n",
              "      <th>citric acid</th>\n",
              "      <th>residual sugar</th>\n",
              "      <th>chlorides</th>\n",
              "      <th>free sulfur dioxide</th>\n",
              "      <th>total sulfur dioxide</th>\n",
              "      <th>density</th>\n",
              "      <th>pH</th>\n",
              "      <th>sulphates</th>\n",
              "      <th>alcohol</th>\n",
              "      <th>quality</th>\n",
              "    </tr>\n",
              "  </thead>\n",
              "  <tbody>\n",
              "    <tr>\n",
              "      <th>0</th>\n",
              "      <td>7.4</td>\n",
              "      <td>0.700</td>\n",
              "      <td>0.00</td>\n",
              "      <td>1.9</td>\n",
              "      <td>0.076</td>\n",
              "      <td>11.0</td>\n",
              "      <td>34.0</td>\n",
              "      <td>0.99780</td>\n",
              "      <td>3.51</td>\n",
              "      <td>0.56</td>\n",
              "      <td>9.4</td>\n",
              "      <td>5</td>\n",
              "    </tr>\n",
              "    <tr>\n",
              "      <th>1</th>\n",
              "      <td>7.8</td>\n",
              "      <td>0.880</td>\n",
              "      <td>0.00</td>\n",
              "      <td>2.6</td>\n",
              "      <td>0.098</td>\n",
              "      <td>25.0</td>\n",
              "      <td>67.0</td>\n",
              "      <td>0.99680</td>\n",
              "      <td>3.20</td>\n",
              "      <td>0.68</td>\n",
              "      <td>9.8</td>\n",
              "      <td>5</td>\n",
              "    </tr>\n",
              "    <tr>\n",
              "      <th>2</th>\n",
              "      <td>7.8</td>\n",
              "      <td>0.760</td>\n",
              "      <td>0.04</td>\n",
              "      <td>2.3</td>\n",
              "      <td>0.092</td>\n",
              "      <td>15.0</td>\n",
              "      <td>54.0</td>\n",
              "      <td>0.99700</td>\n",
              "      <td>3.26</td>\n",
              "      <td>0.65</td>\n",
              "      <td>9.8</td>\n",
              "      <td>5</td>\n",
              "    </tr>\n",
              "    <tr>\n",
              "      <th>3</th>\n",
              "      <td>11.2</td>\n",
              "      <td>0.280</td>\n",
              "      <td>0.56</td>\n",
              "      <td>1.9</td>\n",
              "      <td>0.075</td>\n",
              "      <td>17.0</td>\n",
              "      <td>60.0</td>\n",
              "      <td>0.99800</td>\n",
              "      <td>3.16</td>\n",
              "      <td>0.58</td>\n",
              "      <td>9.8</td>\n",
              "      <td>6</td>\n",
              "    </tr>\n",
              "    <tr>\n",
              "      <th>4</th>\n",
              "      <td>7.4</td>\n",
              "      <td>0.700</td>\n",
              "      <td>0.00</td>\n",
              "      <td>1.9</td>\n",
              "      <td>0.076</td>\n",
              "      <td>11.0</td>\n",
              "      <td>34.0</td>\n",
              "      <td>0.99780</td>\n",
              "      <td>3.51</td>\n",
              "      <td>0.56</td>\n",
              "      <td>9.4</td>\n",
              "      <td>5</td>\n",
              "    </tr>\n",
              "    <tr>\n",
              "      <th>...</th>\n",
              "      <td>...</td>\n",
              "      <td>...</td>\n",
              "      <td>...</td>\n",
              "      <td>...</td>\n",
              "      <td>...</td>\n",
              "      <td>...</td>\n",
              "      <td>...</td>\n",
              "      <td>...</td>\n",
              "      <td>...</td>\n",
              "      <td>...</td>\n",
              "      <td>...</td>\n",
              "      <td>...</td>\n",
              "    </tr>\n",
              "    <tr>\n",
              "      <th>1594</th>\n",
              "      <td>6.2</td>\n",
              "      <td>0.600</td>\n",
              "      <td>0.08</td>\n",
              "      <td>2.0</td>\n",
              "      <td>0.090</td>\n",
              "      <td>32.0</td>\n",
              "      <td>44.0</td>\n",
              "      <td>0.99490</td>\n",
              "      <td>3.45</td>\n",
              "      <td>0.58</td>\n",
              "      <td>10.5</td>\n",
              "      <td>5</td>\n",
              "    </tr>\n",
              "    <tr>\n",
              "      <th>1595</th>\n",
              "      <td>5.9</td>\n",
              "      <td>0.550</td>\n",
              "      <td>0.10</td>\n",
              "      <td>2.2</td>\n",
              "      <td>0.062</td>\n",
              "      <td>39.0</td>\n",
              "      <td>51.0</td>\n",
              "      <td>0.99512</td>\n",
              "      <td>3.52</td>\n",
              "      <td>0.76</td>\n",
              "      <td>11.2</td>\n",
              "      <td>6</td>\n",
              "    </tr>\n",
              "    <tr>\n",
              "      <th>1596</th>\n",
              "      <td>6.3</td>\n",
              "      <td>0.510</td>\n",
              "      <td>0.13</td>\n",
              "      <td>2.3</td>\n",
              "      <td>0.076</td>\n",
              "      <td>29.0</td>\n",
              "      <td>40.0</td>\n",
              "      <td>0.99574</td>\n",
              "      <td>3.42</td>\n",
              "      <td>0.75</td>\n",
              "      <td>11.0</td>\n",
              "      <td>6</td>\n",
              "    </tr>\n",
              "    <tr>\n",
              "      <th>1597</th>\n",
              "      <td>5.9</td>\n",
              "      <td>0.645</td>\n",
              "      <td>0.12</td>\n",
              "      <td>2.0</td>\n",
              "      <td>0.075</td>\n",
              "      <td>32.0</td>\n",
              "      <td>44.0</td>\n",
              "      <td>0.99547</td>\n",
              "      <td>3.57</td>\n",
              "      <td>0.71</td>\n",
              "      <td>10.2</td>\n",
              "      <td>5</td>\n",
              "    </tr>\n",
              "    <tr>\n",
              "      <th>1598</th>\n",
              "      <td>6.0</td>\n",
              "      <td>0.310</td>\n",
              "      <td>0.47</td>\n",
              "      <td>3.6</td>\n",
              "      <td>0.067</td>\n",
              "      <td>18.0</td>\n",
              "      <td>42.0</td>\n",
              "      <td>0.99549</td>\n",
              "      <td>3.39</td>\n",
              "      <td>0.66</td>\n",
              "      <td>11.0</td>\n",
              "      <td>6</td>\n",
              "    </tr>\n",
              "  </tbody>\n",
              "</table>\n",
              "<p>1599 rows × 12 columns</p>\n",
              "</div>\n",
              "      <button class=\"colab-df-convert\" onclick=\"convertToInteractive('df-46edb99b-fbcd-4554-9a9f-e662164cb55f')\"\n",
              "              title=\"Convert this dataframe to an interactive table.\"\n",
              "              style=\"display:none;\">\n",
              "        \n",
              "  <svg xmlns=\"http://www.w3.org/2000/svg\" height=\"24px\"viewBox=\"0 0 24 24\"\n",
              "       width=\"24px\">\n",
              "    <path d=\"M0 0h24v24H0V0z\" fill=\"none\"/>\n",
              "    <path d=\"M18.56 5.44l.94 2.06.94-2.06 2.06-.94-2.06-.94-.94-2.06-.94 2.06-2.06.94zm-11 1L8.5 8.5l.94-2.06 2.06-.94-2.06-.94L8.5 2.5l-.94 2.06-2.06.94zm10 10l.94 2.06.94-2.06 2.06-.94-2.06-.94-.94-2.06-.94 2.06-2.06.94z\"/><path d=\"M17.41 7.96l-1.37-1.37c-.4-.4-.92-.59-1.43-.59-.52 0-1.04.2-1.43.59L10.3 9.45l-7.72 7.72c-.78.78-.78 2.05 0 2.83L4 21.41c.39.39.9.59 1.41.59.51 0 1.02-.2 1.41-.59l7.78-7.78 2.81-2.81c.8-.78.8-2.07 0-2.86zM5.41 20L4 18.59l7.72-7.72 1.47 1.35L5.41 20z\"/>\n",
              "  </svg>\n",
              "      </button>\n",
              "      \n",
              "  <style>\n",
              "    .colab-df-container {\n",
              "      display:flex;\n",
              "      flex-wrap:wrap;\n",
              "      gap: 12px;\n",
              "    }\n",
              "\n",
              "    .colab-df-convert {\n",
              "      background-color: #E8F0FE;\n",
              "      border: none;\n",
              "      border-radius: 50%;\n",
              "      cursor: pointer;\n",
              "      display: none;\n",
              "      fill: #1967D2;\n",
              "      height: 32px;\n",
              "      padding: 0 0 0 0;\n",
              "      width: 32px;\n",
              "    }\n",
              "\n",
              "    .colab-df-convert:hover {\n",
              "      background-color: #E2EBFA;\n",
              "      box-shadow: 0px 1px 2px rgba(60, 64, 67, 0.3), 0px 1px 3px 1px rgba(60, 64, 67, 0.15);\n",
              "      fill: #174EA6;\n",
              "    }\n",
              "\n",
              "    [theme=dark] .colab-df-convert {\n",
              "      background-color: #3B4455;\n",
              "      fill: #D2E3FC;\n",
              "    }\n",
              "\n",
              "    [theme=dark] .colab-df-convert:hover {\n",
              "      background-color: #434B5C;\n",
              "      box-shadow: 0px 1px 3px 1px rgba(0, 0, 0, 0.15);\n",
              "      filter: drop-shadow(0px 1px 2px rgba(0, 0, 0, 0.3));\n",
              "      fill: #FFFFFF;\n",
              "    }\n",
              "  </style>\n",
              "\n",
              "      <script>\n",
              "        const buttonEl =\n",
              "          document.querySelector('#df-46edb99b-fbcd-4554-9a9f-e662164cb55f button.colab-df-convert');\n",
              "        buttonEl.style.display =\n",
              "          google.colab.kernel.accessAllowed ? 'block' : 'none';\n",
              "\n",
              "        async function convertToInteractive(key) {\n",
              "          const element = document.querySelector('#df-46edb99b-fbcd-4554-9a9f-e662164cb55f');\n",
              "          const dataTable =\n",
              "            await google.colab.kernel.invokeFunction('convertToInteractive',\n",
              "                                                     [key], {});\n",
              "          if (!dataTable) return;\n",
              "\n",
              "          const docLinkHtml = 'Like what you see? Visit the ' +\n",
              "            '<a target=\"_blank\" href=https://colab.research.google.com/notebooks/data_table.ipynb>data table notebook</a>'\n",
              "            + ' to learn more about interactive tables.';\n",
              "          element.innerHTML = '';\n",
              "          dataTable['output_type'] = 'display_data';\n",
              "          await google.colab.output.renderOutput(dataTable, element);\n",
              "          const docLink = document.createElement('div');\n",
              "          docLink.innerHTML = docLinkHtml;\n",
              "          element.appendChild(docLink);\n",
              "        }\n",
              "      </script>\n",
              "    </div>\n",
              "  </div>\n",
              "  "
            ]
          },
          "metadata": {},
          "execution_count": 4
        }
      ]
    },
    {
      "cell_type": "markdown",
      "source": [
        "**CHECKING THE CHARACTERISTICS OF DATA**"
      ],
      "metadata": {
        "id": "XsagSbGPw9kH"
      }
    },
    {
      "cell_type": "code",
      "source": [
        "df.describe()"
      ],
      "metadata": {
        "colab": {
          "base_uri": "https://localhost:8080/",
          "height": 300
        },
        "id": "aGEBCTdM6qNP",
        "outputId": "c8d3a698-9058-4b4d-c738-723c86d771d9"
      },
      "execution_count": null,
      "outputs": [
        {
          "output_type": "execute_result",
          "data": {
            "text/plain": [
              "       fixed acidity  volatile acidity  citric acid  residual sugar  \\\n",
              "count    1599.000000       1599.000000  1599.000000     1599.000000   \n",
              "mean        8.319637          0.527821     0.270976        2.538806   \n",
              "std         1.741096          0.179060     0.194801        1.409928   \n",
              "min         4.600000          0.120000     0.000000        0.900000   \n",
              "25%         7.100000          0.390000     0.090000        1.900000   \n",
              "50%         7.900000          0.520000     0.260000        2.200000   \n",
              "75%         9.200000          0.640000     0.420000        2.600000   \n",
              "max        15.900000          1.580000     1.000000       15.500000   \n",
              "\n",
              "         chlorides  free sulfur dioxide  total sulfur dioxide      density  \\\n",
              "count  1599.000000          1599.000000           1599.000000  1599.000000   \n",
              "mean      0.087467            15.874922             46.467792     0.996747   \n",
              "std       0.047065            10.460157             32.895324     0.001887   \n",
              "min       0.012000             1.000000              6.000000     0.990070   \n",
              "25%       0.070000             7.000000             22.000000     0.995600   \n",
              "50%       0.079000            14.000000             38.000000     0.996750   \n",
              "75%       0.090000            21.000000             62.000000     0.997835   \n",
              "max       0.611000            72.000000            289.000000     1.003690   \n",
              "\n",
              "                pH    sulphates      alcohol      quality  \n",
              "count  1599.000000  1599.000000  1599.000000  1599.000000  \n",
              "mean      3.311113     0.658149    10.422983     5.636023  \n",
              "std       0.154386     0.169507     1.065668     0.807569  \n",
              "min       2.740000     0.330000     8.400000     3.000000  \n",
              "25%       3.210000     0.550000     9.500000     5.000000  \n",
              "50%       3.310000     0.620000    10.200000     6.000000  \n",
              "75%       3.400000     0.730000    11.100000     6.000000  \n",
              "max       4.010000     2.000000    14.900000     8.000000  "
            ],
            "text/html": [
              "\n",
              "  <div id=\"df-d6440dce-ba0b-4dc2-bbdc-d3cd0deade43\">\n",
              "    <div class=\"colab-df-container\">\n",
              "      <div>\n",
              "<style scoped>\n",
              "    .dataframe tbody tr th:only-of-type {\n",
              "        vertical-align: middle;\n",
              "    }\n",
              "\n",
              "    .dataframe tbody tr th {\n",
              "        vertical-align: top;\n",
              "    }\n",
              "\n",
              "    .dataframe thead th {\n",
              "        text-align: right;\n",
              "    }\n",
              "</style>\n",
              "<table border=\"1\" class=\"dataframe\">\n",
              "  <thead>\n",
              "    <tr style=\"text-align: right;\">\n",
              "      <th></th>\n",
              "      <th>fixed acidity</th>\n",
              "      <th>volatile acidity</th>\n",
              "      <th>citric acid</th>\n",
              "      <th>residual sugar</th>\n",
              "      <th>chlorides</th>\n",
              "      <th>free sulfur dioxide</th>\n",
              "      <th>total sulfur dioxide</th>\n",
              "      <th>density</th>\n",
              "      <th>pH</th>\n",
              "      <th>sulphates</th>\n",
              "      <th>alcohol</th>\n",
              "      <th>quality</th>\n",
              "    </tr>\n",
              "  </thead>\n",
              "  <tbody>\n",
              "    <tr>\n",
              "      <th>count</th>\n",
              "      <td>1599.000000</td>\n",
              "      <td>1599.000000</td>\n",
              "      <td>1599.000000</td>\n",
              "      <td>1599.000000</td>\n",
              "      <td>1599.000000</td>\n",
              "      <td>1599.000000</td>\n",
              "      <td>1599.000000</td>\n",
              "      <td>1599.000000</td>\n",
              "      <td>1599.000000</td>\n",
              "      <td>1599.000000</td>\n",
              "      <td>1599.000000</td>\n",
              "      <td>1599.000000</td>\n",
              "    </tr>\n",
              "    <tr>\n",
              "      <th>mean</th>\n",
              "      <td>8.319637</td>\n",
              "      <td>0.527821</td>\n",
              "      <td>0.270976</td>\n",
              "      <td>2.538806</td>\n",
              "      <td>0.087467</td>\n",
              "      <td>15.874922</td>\n",
              "      <td>46.467792</td>\n",
              "      <td>0.996747</td>\n",
              "      <td>3.311113</td>\n",
              "      <td>0.658149</td>\n",
              "      <td>10.422983</td>\n",
              "      <td>5.636023</td>\n",
              "    </tr>\n",
              "    <tr>\n",
              "      <th>std</th>\n",
              "      <td>1.741096</td>\n",
              "      <td>0.179060</td>\n",
              "      <td>0.194801</td>\n",
              "      <td>1.409928</td>\n",
              "      <td>0.047065</td>\n",
              "      <td>10.460157</td>\n",
              "      <td>32.895324</td>\n",
              "      <td>0.001887</td>\n",
              "      <td>0.154386</td>\n",
              "      <td>0.169507</td>\n",
              "      <td>1.065668</td>\n",
              "      <td>0.807569</td>\n",
              "    </tr>\n",
              "    <tr>\n",
              "      <th>min</th>\n",
              "      <td>4.600000</td>\n",
              "      <td>0.120000</td>\n",
              "      <td>0.000000</td>\n",
              "      <td>0.900000</td>\n",
              "      <td>0.012000</td>\n",
              "      <td>1.000000</td>\n",
              "      <td>6.000000</td>\n",
              "      <td>0.990070</td>\n",
              "      <td>2.740000</td>\n",
              "      <td>0.330000</td>\n",
              "      <td>8.400000</td>\n",
              "      <td>3.000000</td>\n",
              "    </tr>\n",
              "    <tr>\n",
              "      <th>25%</th>\n",
              "      <td>7.100000</td>\n",
              "      <td>0.390000</td>\n",
              "      <td>0.090000</td>\n",
              "      <td>1.900000</td>\n",
              "      <td>0.070000</td>\n",
              "      <td>7.000000</td>\n",
              "      <td>22.000000</td>\n",
              "      <td>0.995600</td>\n",
              "      <td>3.210000</td>\n",
              "      <td>0.550000</td>\n",
              "      <td>9.500000</td>\n",
              "      <td>5.000000</td>\n",
              "    </tr>\n",
              "    <tr>\n",
              "      <th>50%</th>\n",
              "      <td>7.900000</td>\n",
              "      <td>0.520000</td>\n",
              "      <td>0.260000</td>\n",
              "      <td>2.200000</td>\n",
              "      <td>0.079000</td>\n",
              "      <td>14.000000</td>\n",
              "      <td>38.000000</td>\n",
              "      <td>0.996750</td>\n",
              "      <td>3.310000</td>\n",
              "      <td>0.620000</td>\n",
              "      <td>10.200000</td>\n",
              "      <td>6.000000</td>\n",
              "    </tr>\n",
              "    <tr>\n",
              "      <th>75%</th>\n",
              "      <td>9.200000</td>\n",
              "      <td>0.640000</td>\n",
              "      <td>0.420000</td>\n",
              "      <td>2.600000</td>\n",
              "      <td>0.090000</td>\n",
              "      <td>21.000000</td>\n",
              "      <td>62.000000</td>\n",
              "      <td>0.997835</td>\n",
              "      <td>3.400000</td>\n",
              "      <td>0.730000</td>\n",
              "      <td>11.100000</td>\n",
              "      <td>6.000000</td>\n",
              "    </tr>\n",
              "    <tr>\n",
              "      <th>max</th>\n",
              "      <td>15.900000</td>\n",
              "      <td>1.580000</td>\n",
              "      <td>1.000000</td>\n",
              "      <td>15.500000</td>\n",
              "      <td>0.611000</td>\n",
              "      <td>72.000000</td>\n",
              "      <td>289.000000</td>\n",
              "      <td>1.003690</td>\n",
              "      <td>4.010000</td>\n",
              "      <td>2.000000</td>\n",
              "      <td>14.900000</td>\n",
              "      <td>8.000000</td>\n",
              "    </tr>\n",
              "  </tbody>\n",
              "</table>\n",
              "</div>\n",
              "      <button class=\"colab-df-convert\" onclick=\"convertToInteractive('df-d6440dce-ba0b-4dc2-bbdc-d3cd0deade43')\"\n",
              "              title=\"Convert this dataframe to an interactive table.\"\n",
              "              style=\"display:none;\">\n",
              "        \n",
              "  <svg xmlns=\"http://www.w3.org/2000/svg\" height=\"24px\"viewBox=\"0 0 24 24\"\n",
              "       width=\"24px\">\n",
              "    <path d=\"M0 0h24v24H0V0z\" fill=\"none\"/>\n",
              "    <path d=\"M18.56 5.44l.94 2.06.94-2.06 2.06-.94-2.06-.94-.94-2.06-.94 2.06-2.06.94zm-11 1L8.5 8.5l.94-2.06 2.06-.94-2.06-.94L8.5 2.5l-.94 2.06-2.06.94zm10 10l.94 2.06.94-2.06 2.06-.94-2.06-.94-.94-2.06-.94 2.06-2.06.94z\"/><path d=\"M17.41 7.96l-1.37-1.37c-.4-.4-.92-.59-1.43-.59-.52 0-1.04.2-1.43.59L10.3 9.45l-7.72 7.72c-.78.78-.78 2.05 0 2.83L4 21.41c.39.39.9.59 1.41.59.51 0 1.02-.2 1.41-.59l7.78-7.78 2.81-2.81c.8-.78.8-2.07 0-2.86zM5.41 20L4 18.59l7.72-7.72 1.47 1.35L5.41 20z\"/>\n",
              "  </svg>\n",
              "      </button>\n",
              "      \n",
              "  <style>\n",
              "    .colab-df-container {\n",
              "      display:flex;\n",
              "      flex-wrap:wrap;\n",
              "      gap: 12px;\n",
              "    }\n",
              "\n",
              "    .colab-df-convert {\n",
              "      background-color: #E8F0FE;\n",
              "      border: none;\n",
              "      border-radius: 50%;\n",
              "      cursor: pointer;\n",
              "      display: none;\n",
              "      fill: #1967D2;\n",
              "      height: 32px;\n",
              "      padding: 0 0 0 0;\n",
              "      width: 32px;\n",
              "    }\n",
              "\n",
              "    .colab-df-convert:hover {\n",
              "      background-color: #E2EBFA;\n",
              "      box-shadow: 0px 1px 2px rgba(60, 64, 67, 0.3), 0px 1px 3px 1px rgba(60, 64, 67, 0.15);\n",
              "      fill: #174EA6;\n",
              "    }\n",
              "\n",
              "    [theme=dark] .colab-df-convert {\n",
              "      background-color: #3B4455;\n",
              "      fill: #D2E3FC;\n",
              "    }\n",
              "\n",
              "    [theme=dark] .colab-df-convert:hover {\n",
              "      background-color: #434B5C;\n",
              "      box-shadow: 0px 1px 3px 1px rgba(0, 0, 0, 0.15);\n",
              "      filter: drop-shadow(0px 1px 2px rgba(0, 0, 0, 0.3));\n",
              "      fill: #FFFFFF;\n",
              "    }\n",
              "  </style>\n",
              "\n",
              "      <script>\n",
              "        const buttonEl =\n",
              "          document.querySelector('#df-d6440dce-ba0b-4dc2-bbdc-d3cd0deade43 button.colab-df-convert');\n",
              "        buttonEl.style.display =\n",
              "          google.colab.kernel.accessAllowed ? 'block' : 'none';\n",
              "\n",
              "        async function convertToInteractive(key) {\n",
              "          const element = document.querySelector('#df-d6440dce-ba0b-4dc2-bbdc-d3cd0deade43');\n",
              "          const dataTable =\n",
              "            await google.colab.kernel.invokeFunction('convertToInteractive',\n",
              "                                                     [key], {});\n",
              "          if (!dataTable) return;\n",
              "\n",
              "          const docLinkHtml = 'Like what you see? Visit the ' +\n",
              "            '<a target=\"_blank\" href=https://colab.research.google.com/notebooks/data_table.ipynb>data table notebook</a>'\n",
              "            + ' to learn more about interactive tables.';\n",
              "          element.innerHTML = '';\n",
              "          dataTable['output_type'] = 'display_data';\n",
              "          await google.colab.output.renderOutput(dataTable, element);\n",
              "          const docLink = document.createElement('div');\n",
              "          docLink.innerHTML = docLinkHtml;\n",
              "          element.appendChild(docLink);\n",
              "        }\n",
              "      </script>\n",
              "    </div>\n",
              "  </div>\n",
              "  "
            ]
          },
          "metadata": {},
          "execution_count": 5
        }
      ]
    },
    {
      "cell_type": "code",
      "source": [
        "df.info()"
      ],
      "metadata": {
        "colab": {
          "base_uri": "https://localhost:8080/"
        },
        "id": "ldTZrF3y6un_",
        "outputId": "d3e71c7e-5eea-46f3-c603-7706f510db25"
      },
      "execution_count": null,
      "outputs": [
        {
          "output_type": "stream",
          "name": "stdout",
          "text": [
            "<class 'pandas.core.frame.DataFrame'>\n",
            "RangeIndex: 1599 entries, 0 to 1598\n",
            "Data columns (total 12 columns):\n",
            " #   Column                Non-Null Count  Dtype  \n",
            "---  ------                --------------  -----  \n",
            " 0   fixed acidity         1599 non-null   float64\n",
            " 1   volatile acidity      1599 non-null   float64\n",
            " 2   citric acid           1599 non-null   float64\n",
            " 3   residual sugar        1599 non-null   float64\n",
            " 4   chlorides             1599 non-null   float64\n",
            " 5   free sulfur dioxide   1599 non-null   float64\n",
            " 6   total sulfur dioxide  1599 non-null   float64\n",
            " 7   density               1599 non-null   float64\n",
            " 8   pH                    1599 non-null   float64\n",
            " 9   sulphates             1599 non-null   float64\n",
            " 10  alcohol               1599 non-null   float64\n",
            " 11  quality               1599 non-null   int64  \n",
            "dtypes: float64(11), int64(1)\n",
            "memory usage: 150.0 KB\n"
          ]
        }
      ]
    },
    {
      "cell_type": "code",
      "source": [
        "df.isnull().sum()"
      ],
      "metadata": {
        "colab": {
          "base_uri": "https://localhost:8080/"
        },
        "id": "lZKfaKrb6wKZ",
        "outputId": "84e5636f-78fd-4e89-d1c0-d3ba19891940"
      },
      "execution_count": null,
      "outputs": [
        {
          "output_type": "execute_result",
          "data": {
            "text/plain": [
              "fixed acidity           0\n",
              "volatile acidity        0\n",
              "citric acid             0\n",
              "residual sugar          0\n",
              "chlorides               0\n",
              "free sulfur dioxide     0\n",
              "total sulfur dioxide    0\n",
              "density                 0\n",
              "pH                      0\n",
              "sulphates               0\n",
              "alcohol                 0\n",
              "quality                 0\n",
              "dtype: int64"
            ]
          },
          "metadata": {},
          "execution_count": 7
        }
      ]
    },
    {
      "cell_type": "code",
      "source": [
        "# exploratory data analysis\n",
        "features=df.columns[:-1]\n",
        "def get_percentile(feature,q_range):\n",
        "    dist=df[feature].describe()[str(q_range)+'%']\n",
        "    return round(dist,2)\n",
        "def render_counterplot():\n",
        "    fig=plt.figure(figsize=(18,20))\n",
        "    for column, feature in enumerate(features):\n",
        "        fig.add_subplot(4,3,column+1)\n",
        "        q1=get_percentile(feature,25)\n",
        "        q2=get_percentile(feature,50)\n",
        "        q3=get_percentile(feature,75)\n",
        "        sns.histplot(data=df,x=feature,kde=True,color='orange')\n",
        "        plt.axvline(q1,linestyle='--',color='green',label='Q1')\n",
        "        plt.axvline(q2,color='red',label='Q2(median)')\n",
        "        plt.axvline(q3,linestyle='--',color='black',label='Q3')\n",
        "        plt.legend()\n",
        "        plt.show()\n",
        "render_counterplot()\n"
      ],
      "metadata": {
        "colab": {
          "base_uri": "https://localhost:8080/",
          "height": 1000
        },
        "id": "DM_bIiou60q7",
        "outputId": "4e77deed-2dd2-45ff-e4c3-8e5831dcc778"
      },
      "execution_count": null,
      "outputs": [
        {
          "output_type": "display_data",
          "data": {
            "text/plain": [
              "<Figure size 1296x1440 with 1 Axes>"
            ],
            "image/png": "[encoded data removed]"
          },
          "metadata": {
            "needs_background": "light"
          }
        },
        {
          "output_type": "display_data",
          "data": {
            "text/plain": [
              "<Figure size 432x288 with 1 Axes>"
            ],
            "image/png": "[encoded data removed]"
          },
          "metadata": {
            "needs_background": "light"
          }
        },
        {
          "output_type": "display_data",
          "data": {
            "text/plain": [
              "<Figure size 432x288 with 1 Axes>"
            ],
            "image/png": "[encoded data removed]"
          },
          "metadata": {
            "needs_background": "light"
          }
        },
        {
          "output_type": "display_data",
          "data": {
            "text/plain": [
              "<Figure size 432x288 with 1 Axes>"
            ],
            "image/png": "[encoded data removed]"
          },
          "metadata": {
            "needs_background": "light"
          }
        },
        {
          "output_type": "display_data",
          "data": {
            "text/plain": [
              "<Figure size 432x288 with 1 Axes>"
            ],
            "image/png": "[encoded data removed]"
          },
          "metadata": {
            "needs_background": "light"
          }
        },
        {
          "output_type": "display_data",
          "data": {
            "text/plain": [
              "<Figure size 432x288 with 1 Axes>"
            ],
            "image/png": "[encoded data removed]"
          },
          "metadata": {
            "needs_background": "light"
          }
        },
        {
          "output_type": "display_data",
          "data": {
            "text/plain": [
              "<Figure size 432x288 with 1 Axes>"
            ],
            "image/png": "[encoded data removed]"
          },
          "metadata": {
            "needs_background": "light"
          }
        },
        {
          "output_type": "display_data",
          "data": {
            "text/plain": [
              "<Figure size 432x288 with 1 Axes>"
            ],
            "image/png": "[encoded data removed]"
          },
          "metadata": {
            "needs_background": "light"
          }
        },
        {
          "output_type": "display_data",
          "data": {
            "text/plain": [
              "<Figure size 432x288 with 1 Axes>"
            ],
            "image/png": "[encoded data removed]"
          },
          "metadata": {
            "needs_background": "light"
          }
        },
        {
          "output_type": "display_data",
          "data": {
            "text/plain": [
              "<Figure size 432x288 with 1 Axes>"
            ],
            "image/png": "[encoded data removed]"
          },
          "metadata": {
            "needs_background": "light"
          }
        },
        {
          "output_type": "display_data",
          "data": {
            "text/plain": [
              "<Figure size 432x288 with 1 Axes>"
            ],
            "image/png": "[encoded data removed]"
          },
          "metadata": {
            "needs_background": "light"
          }
        }
      ]
    },
    {
      "cell_type": "code",
      "source": [
        "sns.countplot(data=df,x='quality',palette='Set2')"
      ],
      "metadata": {
        "colab": {
          "base_uri": "https://localhost:8080/",
          "height": 296
        },
        "id": "EG-PCfCDAoay",
        "outputId": "5a9db45d-cf88-46c9-9fad-a73b7e96e9fd"
      },
      "execution_count": null,
      "outputs": [
        {
          "output_type": "execute_result",
          "data": {
            "text/plain": [
              "<matplotlib.axes._subplots.AxesSubplot at 0x7f5fa9f04110>"
            ]
          },
          "metadata": {},
          "execution_count": 9
        },
        {
          "output_type": "display_data",
          "data": {
            "text/plain": [
              "<Figure size 432x288 with 1 Axes>"
            ],
            "image/png": "[encoded data removed]"
          },
          "metadata": {
            "needs_background": "light"
          }
        }
      ]
    },
    {
      "cell_type": "code",
      "source": [
        "def boxplo(feature):\n",
        "    sns.boxplot(x='quality',y=feature,data=df)\n",
        "    plt.show()\n",
        "for x in df.columns[:-1]:\n",
        "    i=1\n",
        "    fig=plt.figure(figsize=(18,20))\n",
        "    fig.add_subplot(4,3,i)\n",
        "    boxplo(x)\n",
        "    i=i+1"
      ],
      "metadata": {
        "colab": {
          "base_uri": "https://localhost:8080/",
          "height": 1000
        },
        "id": "6mFjORlpDo4D",
        "outputId": "9a6e83fe-f379-4e7a-b91e-ec4338860039"
      },
      "execution_count": null,
      "outputs": [
        {
          "output_type": "display_data",
          "data": {
            "text/plain": [
              "<Figure size 1296x1440 with 1 Axes>"
            ],
            "image/png": "[encoded data removed]"
          },
          "metadata": {
            "needs_background": "light"
          }
        },
        {
          "output_type": "display_data",
          "data": {
            "text/plain": [
              "<Figure size 1296x1440 with 1 Axes>"
            ],
            "image/png": "[encoded data removed]"
          },
          "metadata": {
            "needs_background": "light"
          }
        },
        {
          "output_type": "display_data",
          "data": {
            "text/plain": [
              "<Figure size 1296x1440 with 1 Axes>"
            ],
            "image/png": "[encoded data removed]"
          },
          "metadata": {
            "needs_background": "light"
          }
        },
        {
          "output_type": "display_data",
          "data": {
            "text/plain": [
              "<Figure size 1296x1440 with 1 Axes>"
            ],
            "image/png": "[encoded data removed]"
          },
          "metadata": {
            "needs_background": "light"
          }
        },
        {
          "output_type": "display_data",
          "data": {
            "text/plain": [
              "<Figure size 1296x1440 with 1 Axes>"
            ],
            "image/png": "[encoded data removed]"
          },
          "metadata": {
            "needs_background": "light"
          }
        },
        {
          "output_type": "display_data",
          "data": {
            "text/plain": [
              "<Figure size 1296x1440 with 1 Axes>"
            ],
            "image/png": "[encoded data removed]"
          },
          "metadata": {
            "needs_background": "light"
          }
        },
        {
          "output_type": "display_data",
          "data": {
            "text/plain": [
              "<Figure size 1296x1440 with 1 Axes>"
            ],
            "image/png": "[encoded data removed]"
          },
          "metadata": {
            "needs_background": "light"
          }
        },
        {
          "output_type": "display_data",
          "data": {
            "text/plain": [
              "<Figure size 1296x1440 with 1 Axes>"
            ],
            "image/png": "[encoded data removed]"
          },
          "metadata": {
            "needs_background": "light"
          }
        },
        {
          "output_type": "display_data",
          "data": {
            "text/plain": [
              "<Figure size 1296x1440 with 1 Axes>"
            ],
            "image/png": "[encoded data removed]"
          },
          "metadata": {
            "needs_background": "light"
          }
        },
        {
          "output_type": "display_data",
          "data": {
            "text/plain": [
              "<Figure size 1296x1440 with 1 Axes>"
            ],
            "image/png": "[encoded data removed]"
          },
          "metadata": {
            "needs_background": "light"
          }
        },
        {
          "output_type": "display_data",
          "data": {
            "text/plain": [
              "<Figure size 1296x1440 with 1 Axes>"
            ],
            "image/png": "[encoded data removed]"
          },
          "metadata": {
            "needs_background": "light"
          }
        }
      ]
    },
    {
      "cell_type": "code",
      "source": [
        "df.columns"
      ],
      "metadata": {
        "colab": {
          "base_uri": "https://localhost:8080/"
        },
        "id": "5_rx_0i0EJA2",
        "outputId": "cbfbb93b-da80-4e96-ee86-8e5a9f8b3996"
      },
      "execution_count": null,
      "outputs": [
        {
          "output_type": "execute_result",
          "data": {
            "text/plain": [
              "Index(['fixed acidity', 'volatile acidity', 'citric acid', 'residual sugar',\n",
              "       'chlorides', 'free sulfur dioxide', 'total sulfur dioxide', 'density',\n",
              "       'pH', 'sulphates', 'alcohol', 'quality'],\n",
              "      dtype='object')"
            ]
          },
          "metadata": {},
          "execution_count": 11
        }
      ]
    },
    {
      "cell_type": "code",
      "source": [
        "# some features are highly skewed.. skewness is one of the reasons for more outliers.\n",
        "# 5 and 6 have more data ( quality) that's why more of outliers appear in them"
      ],
      "metadata": {
        "id": "Bds2tPu3EsnL"
      },
      "execution_count": null,
      "outputs": []
    },
    {
      "cell_type": "code",
      "source": [
        "from sklearn.model_selection import train_test_split"
      ],
      "metadata": {
        "id": "g5NhX_dbH8QM"
      },
      "execution_count": null,
      "outputs": []
    },
    {
      "cell_type": "code",
      "source": [
        "x=df.drop('quality',axis=1)\n",
        "y=df['quality']"
      ],
      "metadata": {
        "id": "DTKBtuNhIkrT"
      },
      "execution_count": null,
      "outputs": []
    },
    {
      "cell_type": "code",
      "source": [
        "x"
      ],
      "metadata": {
        "colab": {
          "base_uri": "https://localhost:8080/",
          "height": 424
        },
        "id": "kLZSoGzClg6N",
        "outputId": "313d4495-ba83-42b1-faf1-119af73d8e29"
      },
      "execution_count": null,
      "outputs": [
        {
          "output_type": "execute_result",
          "data": {
            "text/plain": [
              "      fixed acidity  volatile acidity  citric acid  residual sugar  chlorides  \\\n",
              "0               7.4             0.700         0.00             1.9      0.076   \n",
              "1               7.8             0.880         0.00             2.6      0.098   \n",
              "2               7.8             0.760         0.04             2.3      0.092   \n",
              "3              11.2             0.280         0.56             1.9      0.075   \n",
              "4               7.4             0.700         0.00             1.9      0.076   \n",
              "...             ...               ...          ...             ...        ...   \n",
              "1594            6.2             0.600         0.08             2.0      0.090   \n",
              "1595            5.9             0.550         0.10             2.2      0.062   \n",
              "1596            6.3             0.510         0.13             2.3      0.076   \n",
              "1597            5.9             0.645         0.12             2.0      0.075   \n",
              "1598            6.0             0.310         0.47             3.6      0.067   \n",
              "\n",
              "      free sulfur dioxide  total sulfur dioxide  density    pH  sulphates  \\\n",
              "0                    11.0                  34.0  0.99780  3.51       0.56   \n",
              "1                    25.0                  67.0  0.99680  3.20       0.68   \n",
              "2                    15.0                  54.0  0.99700  3.26       0.65   \n",
              "3                    17.0                  60.0  0.99800  3.16       0.58   \n",
              "4                    11.0                  34.0  0.99780  3.51       0.56   \n",
              "...                   ...                   ...      ...   ...        ...   \n",
              "1594                 32.0                  44.0  0.99490  3.45       0.58   \n",
              "1595                 39.0                  51.0  0.99512  3.52       0.76   \n",
              "1596                 29.0                  40.0  0.99574  3.42       0.75   \n",
              "1597                 32.0                  44.0  0.99547  3.57       0.71   \n",
              "1598                 18.0                  42.0  0.99549  3.39       0.66   \n",
              "\n",
              "      alcohol  \n",
              "0         9.4  \n",
              "1         9.8  \n",
              "2         9.8  \n",
              "3         9.8  \n",
              "4         9.4  \n",
              "...       ...  \n",
              "1594     10.5  \n",
              "1595     11.2  \n",
              "1596     11.0  \n",
              "1597     10.2  \n",
              "1598     11.0  \n",
              "\n",
              "[1599 rows x 11 columns]"
            ],
            "text/html": [
              "\n",
              "  <div id=\"df-06555a4d-5583-44f3-a176-9f902894790e\">\n",
              "    <div class=\"colab-df-container\">\n",
              "      <div>\n",
              "<style scoped>\n",
              "    .dataframe tbody tr th:only-of-type {\n",
              "        vertical-align: middle;\n",
              "    }\n",
              "\n",
              "    .dataframe tbody tr th {\n",
              "        vertical-align: top;\n",
              "    }\n",
              "\n",
              "    .dataframe thead th {\n",
              "        text-align: right;\n",
              "    }\n",
              "</style>\n",
              "<table border=\"1\" class=\"dataframe\">\n",
              "  <thead>\n",
              "    <tr style=\"text-align: right;\">\n",
              "      <th></th>\n",
              "      <th>fixed acidity</th>\n",
              "      <th>volatile acidity</th>\n",
              "      <th>citric acid</th>\n",
              "      <th>residual sugar</th>\n",
              "      <th>chlorides</th>\n",
              "      <th>free sulfur dioxide</th>\n",
              "      <th>total sulfur dioxide</th>\n",
              "      <th>density</th>\n",
              "      <th>pH</th>\n",
              "      <th>sulphates</th>\n",
              "      <th>alcohol</th>\n",
              "    </tr>\n",
              "  </thead>\n",
              "  <tbody>\n",
              "    <tr>\n",
              "      <th>0</th>\n",
              "      <td>7.4</td>\n",
              "      <td>0.700</td>\n",
              "      <td>0.00</td>\n",
              "      <td>1.9</td>\n",
              "      <td>0.076</td>\n",
              "      <td>11.0</td>\n",
              "      <td>34.0</td>\n",
              "      <td>0.99780</td>\n",
              "      <td>3.51</td>\n",
              "      <td>0.56</td>\n",
              "      <td>9.4</td>\n",
              "    </tr>\n",
              "    <tr>\n",
              "      <th>1</th>\n",
              "      <td>7.8</td>\n",
              "      <td>0.880</td>\n",
              "      <td>0.00</td>\n",
              "      <td>2.6</td>\n",
              "      <td>0.098</td>\n",
              "      <td>25.0</td>\n",
              "      <td>67.0</td>\n",
              "      <td>0.99680</td>\n",
              "      <td>3.20</td>\n",
              "      <td>0.68</td>\n",
              "      <td>9.8</td>\n",
              "    </tr>\n",
              "    <tr>\n",
              "      <th>2</th>\n",
              "      <td>7.8</td>\n",
              "      <td>0.760</td>\n",
              "      <td>0.04</td>\n",
              "      <td>2.3</td>\n",
              "      <td>0.092</td>\n",
              "      <td>15.0</td>\n",
              "      <td>54.0</td>\n",
              "      <td>0.99700</td>\n",
              "      <td>3.26</td>\n",
              "      <td>0.65</td>\n",
              "      <td>9.8</td>\n",
              "    </tr>\n",
              "    <tr>\n",
              "      <th>3</th>\n",
              "      <td>11.2</td>\n",
              "      <td>0.280</td>\n",
              "      <td>0.56</td>\n",
              "      <td>1.9</td>\n",
              "      <td>0.075</td>\n",
              "      <td>17.0</td>\n",
              "      <td>60.0</td>\n",
              "      <td>0.99800</td>\n",
              "      <td>3.16</td>\n",
              "      <td>0.58</td>\n",
              "      <td>9.8</td>\n",
              "    </tr>\n",
              "    <tr>\n",
              "      <th>4</th>\n",
              "      <td>7.4</td>\n",
              "      <td>0.700</td>\n",
              "      <td>0.00</td>\n",
              "      <td>1.9</td>\n",
              "      <td>0.076</td>\n",
              "      <td>11.0</td>\n",
              "      <td>34.0</td>\n",
              "      <td>0.99780</td>\n",
              "      <td>3.51</td>\n",
              "      <td>0.56</td>\n",
              "      <td>9.4</td>\n",
              "    </tr>\n",
              "    <tr>\n",
              "      <th>...</th>\n",
              "      <td>...</td>\n",
              "      <td>...</td>\n",
              "      <td>...</td>\n",
              "      <td>...</td>\n",
              "      <td>...</td>\n",
              "      <td>...</td>\n",
              "      <td>...</td>\n",
              "      <td>...</td>\n",
              "      <td>...</td>\n",
              "      <td>...</td>\n",
              "      <td>...</td>\n",
              "    </tr>\n",
              "    <tr>\n",
              "      <th>1594</th>\n",
              "      <td>6.2</td>\n",
              "      <td>0.600</td>\n",
              "      <td>0.08</td>\n",
              "      <td>2.0</td>\n",
              "      <td>0.090</td>\n",
              "      <td>32.0</td>\n",
              "      <td>44.0</td>\n",
              "      <td>0.99490</td>\n",
              "      <td>3.45</td>\n",
              "      <td>0.58</td>\n",
              "      <td>10.5</td>\n",
              "    </tr>\n",
              "    <tr>\n",
              "      <th>1595</th>\n",
              "      <td>5.9</td>\n",
              "      <td>0.550</td>\n",
              "      <td>0.10</td>\n",
              "      <td>2.2</td>\n",
              "      <td>0.062</td>\n",
              "      <td>39.0</td>\n",
              "      <td>51.0</td>\n",
              "      <td>0.99512</td>\n",
              "      <td>3.52</td>\n",
              "      <td>0.76</td>\n",
              "      <td>11.2</td>\n",
              "    </tr>\n",
              "    <tr>\n",
              "      <th>1596</th>\n",
              "      <td>6.3</td>\n",
              "      <td>0.510</td>\n",
              "      <td>0.13</td>\n",
              "      <td>2.3</td>\n",
              "      <td>0.076</td>\n",
              "      <td>29.0</td>\n",
              "      <td>40.0</td>\n",
              "      <td>0.99574</td>\n",
              "      <td>3.42</td>\n",
              "      <td>0.75</td>\n",
              "      <td>11.0</td>\n",
              "    </tr>\n",
              "    <tr>\n",
              "      <th>1597</th>\n",
              "      <td>5.9</td>\n",
              "      <td>0.645</td>\n",
              "      <td>0.12</td>\n",
              "      <td>2.0</td>\n",
              "      <td>0.075</td>\n",
              "      <td>32.0</td>\n",
              "      <td>44.0</td>\n",
              "      <td>0.99547</td>\n",
              "      <td>3.57</td>\n",
              "      <td>0.71</td>\n",
              "      <td>10.2</td>\n",
              "    </tr>\n",
              "    <tr>\n",
              "      <th>1598</th>\n",
              "      <td>6.0</td>\n",
              "      <td>0.310</td>\n",
              "      <td>0.47</td>\n",
              "      <td>3.6</td>\n",
              "      <td>0.067</td>\n",
              "      <td>18.0</td>\n",
              "      <td>42.0</td>\n",
              "      <td>0.99549</td>\n",
              "      <td>3.39</td>\n",
              "      <td>0.66</td>\n",
              "      <td>11.0</td>\n",
              "    </tr>\n",
              "  </tbody>\n",
              "</table>\n",
              "<p>1599 rows × 11 columns</p>\n",
              "</div>\n",
              "      <button class=\"colab-df-convert\" onclick=\"convertToInteractive('df-06555a4d-5583-44f3-a176-9f902894790e')\"\n",
              "              title=\"Convert this dataframe to an interactive table.\"\n",
              "              style=\"display:none;\">\n",
              "        \n",
              "  <svg xmlns=\"http://www.w3.org/2000/svg\" height=\"24px\"viewBox=\"0 0 24 24\"\n",
              "       width=\"24px\">\n",
              "    <path d=\"M0 0h24v24H0V0z\" fill=\"none\"/>\n",
              "    <path d=\"M18.56 5.44l.94 2.06.94-2.06 2.06-.94-2.06-.94-.94-2.06-.94 2.06-2.06.94zm-11 1L8.5 8.5l.94-2.06 2.06-.94-2.06-.94L8.5 2.5l-.94 2.06-2.06.94zm10 10l.94 2.06.94-2.06 2.06-.94-2.06-.94-.94-2.06-.94 2.06-2.06.94z\"/><path d=\"M17.41 7.96l-1.37-1.37c-.4-.4-.92-.59-1.43-.59-.52 0-1.04.2-1.43.59L10.3 9.45l-7.72 7.72c-.78.78-.78 2.05 0 2.83L4 21.41c.39.39.9.59 1.41.59.51 0 1.02-.2 1.41-.59l7.78-7.78 2.81-2.81c.8-.78.8-2.07 0-2.86zM5.41 20L4 18.59l7.72-7.72 1.47 1.35L5.41 20z\"/>\n",
              "  </svg>\n",
              "      </button>\n",
              "      \n",
              "  <style>\n",
              "    .colab-df-container {\n",
              "      display:flex;\n",
              "      flex-wrap:wrap;\n",
              "      gap: 12px;\n",
              "    }\n",
              "\n",
              "    .colab-df-convert {\n",
              "      background-color: #E8F0FE;\n",
              "      border: none;\n",
              "      border-radius: 50%;\n",
              "      cursor: pointer;\n",
              "      display: none;\n",
              "      fill: #1967D2;\n",
              "      height: 32px;\n",
              "      padding: 0 0 0 0;\n",
              "      width: 32px;\n",
              "    }\n",
              "\n",
              "    .colab-df-convert:hover {\n",
              "      background-color: #E2EBFA;\n",
              "      box-shadow: 0px 1px 2px rgba(60, 64, 67, 0.3), 0px 1px 3px 1px rgba(60, 64, 67, 0.15);\n",
              "      fill: #174EA6;\n",
              "    }\n",
              "\n",
              "    [theme=dark] .colab-df-convert {\n",
              "      background-color: #3B4455;\n",
              "      fill: #D2E3FC;\n",
              "    }\n",
              "\n",
              "    [theme=dark] .colab-df-convert:hover {\n",
              "      background-color: #434B5C;\n",
              "      box-shadow: 0px 1px 3px 1px rgba(0, 0, 0, 0.15);\n",
              "      filter: drop-shadow(0px 1px 2px rgba(0, 0, 0, 0.3));\n",
              "      fill: #FFFFFF;\n",
              "    }\n",
              "  </style>\n",
              "\n",
              "      <script>\n",
              "        const buttonEl =\n",
              "          document.querySelector('#df-06555a4d-5583-44f3-a176-9f902894790e button.colab-df-convert');\n",
              "        buttonEl.style.display =\n",
              "          google.colab.kernel.accessAllowed ? 'block' : 'none';\n",
              "\n",
              "        async function convertToInteractive(key) {\n",
              "          const element = document.querySelector('#df-06555a4d-5583-44f3-a176-9f902894790e');\n",
              "          const dataTable =\n",
              "            await google.colab.kernel.invokeFunction('convertToInteractive',\n",
              "                                                     [key], {});\n",
              "          if (!dataTable) return;\n",
              "\n",
              "          const docLinkHtml = 'Like what you see? Visit the ' +\n",
              "            '<a target=\"_blank\" href=https://colab.research.google.com/notebooks/data_table.ipynb>data table notebook</a>'\n",
              "            + ' to learn more about interactive tables.';\n",
              "          element.innerHTML = '';\n",
              "          dataTable['output_type'] = 'display_data';\n",
              "          await google.colab.output.renderOutput(dataTable, element);\n",
              "          const docLink = document.createElement('div');\n",
              "          docLink.innerHTML = docLinkHtml;\n",
              "          element.appendChild(docLink);\n",
              "        }\n",
              "      </script>\n",
              "    </div>\n",
              "  </div>\n",
              "  "
            ]
          },
          "metadata": {},
          "execution_count": 15
        }
      ]
    },
    {
      "cell_type": "markdown",
      "source": [
        "# STANDARDIZING DATA"
      ],
      "metadata": {
        "id": "ZD2VonLDxV0N"
      }
    },
    {
      "cell_type": "code",
      "source": [
        "from sklearn.preprocessing import StandardScaler\n",
        "sc=StandardScaler()"
      ],
      "metadata": {
        "id": "ZxbuN7oimGkX"
      },
      "execution_count": null,
      "outputs": []
    },
    {
      "cell_type": "code",
      "source": [
        "x[x.columns]=sc.fit_transform(x[x.columns])"
      ],
      "metadata": {
        "id": "a62AZJTLmRpF"
      },
      "execution_count": null,
      "outputs": []
    },
    {
      "cell_type": "code",
      "source": [
        "x"
      ],
      "metadata": {
        "colab": {
          "base_uri": "https://localhost:8080/",
          "height": 424
        },
        "id": "AFNOT5ErnZZs",
        "outputId": "ed5b860a-da3f-4655-e794-0750c2e82287"
      },
      "execution_count": null,
      "outputs": [
        {
          "output_type": "execute_result",
          "data": {
            "text/plain": [
              "      fixed acidity  volatile acidity  citric acid  residual sugar  chlorides  \\\n",
              "0         -0.528360          0.961877    -1.391472       -0.453218  -0.243707   \n",
              "1         -0.298547          1.967442    -1.391472        0.043416   0.223875   \n",
              "2         -0.298547          1.297065    -1.186070       -0.169427   0.096353   \n",
              "3          1.654856         -1.384443     1.484154       -0.453218  -0.264960   \n",
              "4         -0.528360          0.961877    -1.391472       -0.453218  -0.243707   \n",
              "...             ...               ...          ...             ...        ...   \n",
              "1594      -1.217796          0.403229    -0.980669       -0.382271   0.053845   \n",
              "1595      -1.390155          0.123905    -0.877968       -0.240375  -0.541259   \n",
              "1596      -1.160343         -0.099554    -0.723916       -0.169427  -0.243707   \n",
              "1597      -1.390155          0.654620    -0.775267       -0.382271  -0.264960   \n",
              "1598      -1.332702         -1.216849     1.021999        0.752894  -0.434990   \n",
              "\n",
              "      free sulfur dioxide  total sulfur dioxide   density        pH  \\\n",
              "0               -0.466193             -0.379133  0.558274  1.288643   \n",
              "1                0.872638              0.624363  0.028261 -0.719933   \n",
              "2               -0.083669              0.229047  0.134264 -0.331177   \n",
              "3                0.107592              0.411500  0.664277 -0.979104   \n",
              "4               -0.466193             -0.379133  0.558274  1.288643   \n",
              "...                   ...                   ...       ...       ...   \n",
              "1594             1.542054             -0.075043 -0.978765  0.899886   \n",
              "1595             2.211469              0.137820 -0.862162  1.353436   \n",
              "1596             1.255161             -0.196679 -0.533554  0.705508   \n",
              "1597             1.542054             -0.075043 -0.676657  1.677400   \n",
              "1598             0.203223             -0.135861 -0.666057  0.511130   \n",
              "\n",
              "      sulphates   alcohol  \n",
              "0     -0.579207 -0.960246  \n",
              "1      0.128950 -0.584777  \n",
              "2     -0.048089 -0.584777  \n",
              "3     -0.461180 -0.584777  \n",
              "4     -0.579207 -0.960246  \n",
              "...         ...       ...  \n",
              "1594  -0.461180  0.072294  \n",
              "1595   0.601055  0.729364  \n",
              "1596   0.542042  0.541630  \n",
              "1597   0.305990 -0.209308  \n",
              "1598   0.010924  0.541630  \n",
              "\n",
              "[1599 rows x 11 columns]"
            ],
            "text/html": [
              "\n",
              "  <div id=\"df-8ec90fcd-343c-4888-9798-ca26aaeeb8a7\">\n",
              "    <div class=\"colab-df-container\">\n",
              "      <div>\n",
              "<style scoped>\n",
              "    .dataframe tbody tr th:only-of-type {\n",
              "        vertical-align: middle;\n",
              "    }\n",
              "\n",
              "    .dataframe tbody tr th {\n",
              "        vertical-align: top;\n",
              "    }\n",
              "\n",
              "    .dataframe thead th {\n",
              "        text-align: right;\n",
              "    }\n",
              "</style>\n",
              "<table border=\"1\" class=\"dataframe\">\n",
              "  <thead>\n",
              "    <tr style=\"text-align: right;\">\n",
              "      <th></th>\n",
              "      <th>fixed acidity</th>\n",
              "      <th>volatile acidity</th>\n",
              "      <th>citric acid</th>\n",
              "      <th>residual sugar</th>\n",
              "      <th>chlorides</th>\n",
              "      <th>free sulfur dioxide</th>\n",
              "      <th>total sulfur dioxide</th>\n",
              "      <th>density</th>\n",
              "      <th>pH</th>\n",
              "      <th>sulphates</th>\n",
              "      <th>alcohol</th>\n",
              "    </tr>\n",
              "  </thead>\n",
              "  <tbody>\n",
              "    <tr>\n",
              "      <th>0</th>\n",
              "      <td>-0.528360</td>\n",
              "      <td>0.961877</td>\n",
              "      <td>-1.391472</td>\n",
              "      <td>-0.453218</td>\n",
              "      <td>-0.243707</td>\n",
              "      <td>-0.466193</td>\n",
              "      <td>-0.379133</td>\n",
              "      <td>0.558274</td>\n",
              "      <td>1.288643</td>\n",
              "      <td>-0.579207</td>\n",
              "      <td>-0.960246</td>\n",
              "    </tr>\n",
              "    <tr>\n",
              "      <th>1</th>\n",
              "      <td>-0.298547</td>\n",
              "      <td>1.967442</td>\n",
              "      <td>-1.391472</td>\n",
              "      <td>0.043416</td>\n",
              "      <td>0.223875</td>\n",
              "      <td>0.872638</td>\n",
              "      <td>0.624363</td>\n",
              "      <td>0.028261</td>\n",
              "      <td>-0.719933</td>\n",
              "      <td>0.128950</td>\n",
              "      <td>-0.584777</td>\n",
              "    </tr>\n",
              "    <tr>\n",
              "      <th>2</th>\n",
              "      <td>-0.298547</td>\n",
              "      <td>1.297065</td>\n",
              "      <td>-1.186070</td>\n",
              "      <td>-0.169427</td>\n",
              "      <td>0.096353</td>\n",
              "      <td>-0.083669</td>\n",
              "      <td>0.229047</td>\n",
              "      <td>0.134264</td>\n",
              "      <td>-0.331177</td>\n",
              "      <td>-0.048089</td>\n",
              "      <td>-0.584777</td>\n",
              "    </tr>\n",
              "    <tr>\n",
              "      <th>3</th>\n",
              "      <td>1.654856</td>\n",
              "      <td>-1.384443</td>\n",
              "      <td>1.484154</td>\n",
              "      <td>-0.453218</td>\n",
              "      <td>-0.264960</td>\n",
              "      <td>0.107592</td>\n",
              "      <td>0.411500</td>\n",
              "      <td>0.664277</td>\n",
              "      <td>-0.979104</td>\n",
              "      <td>-0.461180</td>\n",
              "      <td>-0.584777</td>\n",
              "    </tr>\n",
              "    <tr>\n",
              "      <th>4</th>\n",
              "      <td>-0.528360</td>\n",
              "      <td>0.961877</td>\n",
              "      <td>-1.391472</td>\n",
              "      <td>-0.453218</td>\n",
              "      <td>-0.243707</td>\n",
              "      <td>-0.466193</td>\n",
              "      <td>-0.379133</td>\n",
              "      <td>0.558274</td>\n",
              "      <td>1.288643</td>\n",
              "      <td>-0.579207</td>\n",
              "      <td>-0.960246</td>\n",
              "    </tr>\n",
              "    <tr>\n",
              "      <th>...</th>\n",
              "      <td>...</td>\n",
              "      <td>...</td>\n",
              "      <td>...</td>\n",
              "      <td>...</td>\n",
              "      <td>...</td>\n",
              "      <td>...</td>\n",
              "      <td>...</td>\n",
              "      <td>...</td>\n",
              "      <td>...</td>\n",
              "      <td>...</td>\n",
              "      <td>...</td>\n",
              "    </tr>\n",
              "    <tr>\n",
              "      <th>1594</th>\n",
              "      <td>-1.217796</td>\n",
              "      <td>0.403229</td>\n",
              "      <td>-0.980669</td>\n",
              "      <td>-0.382271</td>\n",
              "      <td>0.053845</td>\n",
              "      <td>1.542054</td>\n",
              "      <td>-0.075043</td>\n",
              "      <td>-0.978765</td>\n",
              "      <td>0.899886</td>\n",
              "      <td>-0.461180</td>\n",
              "      <td>0.072294</td>\n",
              "    </tr>\n",
              "    <tr>\n",
              "      <th>1595</th>\n",
              "      <td>-1.390155</td>\n",
              "      <td>0.123905</td>\n",
              "      <td>-0.877968</td>\n",
              "      <td>-0.240375</td>\n",
              "      <td>-0.541259</td>\n",
              "      <td>2.211469</td>\n",
              "      <td>0.137820</td>\n",
              "      <td>-0.862162</td>\n",
              "      <td>1.353436</td>\n",
              "      <td>0.601055</td>\n",
              "      <td>0.729364</td>\n",
              "    </tr>\n",
              "    <tr>\n",
              "      <th>1596</th>\n",
              "      <td>-1.160343</td>\n",
              "      <td>-0.099554</td>\n",
              "      <td>-0.723916</td>\n",
              "      <td>-0.169427</td>\n",
              "      <td>-0.243707</td>\n",
              "      <td>1.255161</td>\n",
              "      <td>-0.196679</td>\n",
              "      <td>-0.533554</td>\n",
              "      <td>0.705508</td>\n",
              "      <td>0.542042</td>\n",
              "      <td>0.541630</td>\n",
              "    </tr>\n",
              "    <tr>\n",
              "      <th>1597</th>\n",
              "      <td>-1.390155</td>\n",
              "      <td>0.654620</td>\n",
              "      <td>-0.775267</td>\n",
              "      <td>-0.382271</td>\n",
              "      <td>-0.264960</td>\n",
              "      <td>1.542054</td>\n",
              "      <td>-0.075043</td>\n",
              "      <td>-0.676657</td>\n",
              "      <td>1.677400</td>\n",
              "      <td>0.305990</td>\n",
              "      <td>-0.209308</td>\n",
              "    </tr>\n",
              "    <tr>\n",
              "      <th>1598</th>\n",
              "      <td>-1.332702</td>\n",
              "      <td>-1.216849</td>\n",
              "      <td>1.021999</td>\n",
              "      <td>0.752894</td>\n",
              "      <td>-0.434990</td>\n",
              "      <td>0.203223</td>\n",
              "      <td>-0.135861</td>\n",
              "      <td>-0.666057</td>\n",
              "      <td>0.511130</td>\n",
              "      <td>0.010924</td>\n",
              "      <td>0.541630</td>\n",
              "    </tr>\n",
              "  </tbody>\n",
              "</table>\n",
              "<p>1599 rows × 11 columns</p>\n",
              "</div>\n",
              "      <button class=\"colab-df-convert\" onclick=\"convertToInteractive('df-8ec90fcd-343c-4888-9798-ca26aaeeb8a7')\"\n",
              "              title=\"Convert this dataframe to an interactive table.\"\n",
              "              style=\"display:none;\">\n",
              "        \n",
              "  <svg xmlns=\"http://www.w3.org/2000/svg\" height=\"24px\"viewBox=\"0 0 24 24\"\n",
              "       width=\"24px\">\n",
              "    <path d=\"M0 0h24v24H0V0z\" fill=\"none\"/>\n",
              "    <path d=\"M18.56 5.44l.94 2.06.94-2.06 2.06-.94-2.06-.94-.94-2.06-.94 2.06-2.06.94zm-11 1L8.5 8.5l.94-2.06 2.06-.94-2.06-.94L8.5 2.5l-.94 2.06-2.06.94zm10 10l.94 2.06.94-2.06 2.06-.94-2.06-.94-.94-2.06-.94 2.06-2.06.94z\"/><path d=\"M17.41 7.96l-1.37-1.37c-.4-.4-.92-.59-1.43-.59-.52 0-1.04.2-1.43.59L10.3 9.45l-7.72 7.72c-.78.78-.78 2.05 0 2.83L4 21.41c.39.39.9.59 1.41.59.51 0 1.02-.2 1.41-.59l7.78-7.78 2.81-2.81c.8-.78.8-2.07 0-2.86zM5.41 20L4 18.59l7.72-7.72 1.47 1.35L5.41 20z\"/>\n",
              "  </svg>\n",
              "      </button>\n",
              "      \n",
              "  <style>\n",
              "    .colab-df-container {\n",
              "      display:flex;\n",
              "      flex-wrap:wrap;\n",
              "      gap: 12px;\n",
              "    }\n",
              "\n",
              "    .colab-df-convert {\n",
              "      background-color: #E8F0FE;\n",
              "      border: none;\n",
              "      border-radius: 50%;\n",
              "      cursor: pointer;\n",
              "      display: none;\n",
              "      fill: #1967D2;\n",
              "      height: 32px;\n",
              "      padding: 0 0 0 0;\n",
              "      width: 32px;\n",
              "    }\n",
              "\n",
              "    .colab-df-convert:hover {\n",
              "      background-color: #E2EBFA;\n",
              "      box-shadow: 0px 1px 2px rgba(60, 64, 67, 0.3), 0px 1px 3px 1px rgba(60, 64, 67, 0.15);\n",
              "      fill: #174EA6;\n",
              "    }\n",
              "\n",
              "    [theme=dark] .colab-df-convert {\n",
              "      background-color: #3B4455;\n",
              "      fill: #D2E3FC;\n",
              "    }\n",
              "\n",
              "    [theme=dark] .colab-df-convert:hover {\n",
              "      background-color: #434B5C;\n",
              "      box-shadow: 0px 1px 3px 1px rgba(0, 0, 0, 0.15);\n",
              "      filter: drop-shadow(0px 1px 2px rgba(0, 0, 0, 0.3));\n",
              "      fill: #FFFFFF;\n",
              "    }\n",
              "  </style>\n",
              "\n",
              "      <script>\n",
              "        const buttonEl =\n",
              "          document.querySelector('#df-8ec90fcd-343c-4888-9798-ca26aaeeb8a7 button.colab-df-convert');\n",
              "        buttonEl.style.display =\n",
              "          google.colab.kernel.accessAllowed ? 'block' : 'none';\n",
              "\n",
              "        async function convertToInteractive(key) {\n",
              "          const element = document.querySelector('#df-8ec90fcd-343c-4888-9798-ca26aaeeb8a7');\n",
              "          const dataTable =\n",
              "            await google.colab.kernel.invokeFunction('convertToInteractive',\n",
              "                                                     [key], {});\n",
              "          if (!dataTable) return;\n",
              "\n",
              "          const docLinkHtml = 'Like what you see? Visit the ' +\n",
              "            '<a target=\"_blank\" href=https://colab.research.google.com/notebooks/data_table.ipynb>data table notebook</a>'\n",
              "            + ' to learn more about interactive tables.';\n",
              "          element.innerHTML = '';\n",
              "          dataTable['output_type'] = 'display_data';\n",
              "          await google.colab.output.renderOutput(dataTable, element);\n",
              "          const docLink = document.createElement('div');\n",
              "          docLink.innerHTML = docLinkHtml;\n",
              "          element.appendChild(docLink);\n",
              "        }\n",
              "      </script>\n",
              "    </div>\n",
              "  </div>\n",
              "  "
            ]
          },
          "metadata": {},
          "execution_count": 18
        }
      ]
    },
    {
      "cell_type": "markdown",
      "source": [
        "# CHECKING FOR MULTICOLLINEARITY"
      ],
      "metadata": {
        "id": "Ow8FE0pyxejo"
      }
    },
    {
      "cell_type": "code",
      "source": [
        "plt.figure(figsize=(12,10))\n",
        "sns.heatmap(data=x.corr(),cmap='icefire_r',annot=True)"
      ],
      "metadata": {
        "colab": {
          "base_uri": "https://localhost:8080/",
          "height": 696
        },
        "id": "4YNj9gUAnb6v",
        "outputId": "629308fb-7090-4dce-c82e-475310b8a21a"
      },
      "execution_count": null,
      "outputs": [
        {
          "output_type": "execute_result",
          "data": {
            "text/plain": [
              "<matplotlib.axes._subplots.AxesSubplot at 0x7f5fa487ed50>"
            ]
          },
          "metadata": {},
          "execution_count": 19
        },
        {
          "output_type": "display_data",
          "data": {
            "text/plain": [
              "<Figure size 864x720 with 2 Axes>"
            ],
            "image/png": "[encoded data removed]"
          },
          "metadata": {
            "needs_background": "light"
          }
        }
      ]
    },
    {
      "cell_type": "code",
      "source": [
        "# not high correlation found between independent vars.. only max till +/- 0.60 (approx)..\n",
        "#So, we conclude there isn't any significant multicorrelation between independent variables\n",
        "!pip install imbalanced-learn"
      ],
      "metadata": {
        "colab": {
          "base_uri": "https://localhost:8080/"
        },
        "id": "MhUYReTdnstx",
        "outputId": "c8cb3126-0210-4878-b440-e4a97bed21c6"
      },
      "execution_count": null,
      "outputs": [
        {
          "output_type": "stream",
          "name": "stdout",
          "text": [
            "Looking in indexes: https://pypi.org/simple, https://us-python.pkg.dev/colab-wheels/public/simple/\n",
            "Requirement already satisfied: imbalanced-learn in /usr/local/lib/python3.7/dist-packages (0.8.1)\n",
            "Requirement already satisfied: numpy>=1.13.3 in /usr/local/lib/python3.7/dist-packages (from imbalanced-learn) (1.21.6)\n",
            "Requirement already satisfied: joblib>=0.11 in /usr/local/lib/python3.7/dist-packages (from imbalanced-learn) (1.1.0)\n",
            "Requirement already satisfied: scikit-learn>=0.24 in /usr/local/lib/python3.7/dist-packages (from imbalanced-learn) (1.0.2)\n",
            "Requirement already satisfied: scipy>=0.19.1 in /usr/local/lib/python3.7/dist-packages (from imbalanced-learn) (1.4.1)\n",
            "Requirement already satisfied: threadpoolctl>=2.0.0 in /usr/local/lib/python3.7/dist-packages (from scikit-learn>=0.24->imbalanced-learn) (3.1.0)\n"
          ]
        }
      ]
    },
    {
      "cell_type": "markdown",
      "source": [
        "# HANDLING IMBALANCES IN THE DATA"
      ],
      "metadata": {
        "id": "sulze4iFx0zg"
      }
    },
    {
      "cell_type": "code",
      "source": [
        "from imblearn.over_sampling import SMOTE\n",
        "\n",
        "smote = SMOTE(sampling_strategy='auto')\n",
        "smote=SMOTE()\n",
        "x_sm, y_sm = smote.fit_resample(x, y)\n",
        "\n",
        "y_sm.value_counts()"
      ],
      "metadata": {
        "colab": {
          "base_uri": "https://localhost:8080/"
        },
        "id": "jZQprlk9pB8m",
        "outputId": "20e9d489-6bd0-4044-83e3-d8df0a6814d3"
      },
      "execution_count": null,
      "outputs": [
        {
          "output_type": "execute_result",
          "data": {
            "text/plain": [
              "5    681\n",
              "6    681\n",
              "7    681\n",
              "4    681\n",
              "8    681\n",
              "3    681\n",
              "Name: quality, dtype: int64"
            ]
          },
          "metadata": {},
          "execution_count": 21
        }
      ]
    },
    {
      "cell_type": "markdown",
      "source": [
        "# TRAIN_TEST_SPLIT"
      ],
      "metadata": {
        "id": "oRpeYJgrxRsa"
      }
    },
    {
      "cell_type": "code",
      "source": [
        "from sklearn.model_selection import train_test_split\n",
        "x_train,x_test,y_train,y_test=train_test_split(x_sm,y_sm,test_size=0.2,random_state=42)"
      ],
      "metadata": {
        "id": "_Ko74cBurVfu"
      },
      "execution_count": null,
      "outputs": []
    },
    {
      "cell_type": "markdown",
      "source": [
        "# IMPORTING LIBRARIES FOR BUILDING AN ANN MODEL"
      ],
      "metadata": {
        "id": "vmo4eRqCyI2A"
      }
    },
    {
      "cell_type": "code",
      "source": [
        "!pip install tensorflow\n",
        "import tensorflow\n",
        "from tensorflow.keras.models import Sequential\n",
        "from tensorflow.keras.layers import Input,Dense\n",
        "from tensorflow.keras.layers import Dropout"
      ],
      "metadata": {
        "colab": {
          "base_uri": "https://localhost:8080/"
        },
        "id": "CrE-FmFyglut",
        "outputId": "428c5292-aa39-4761-bbae-7a33bf6e1b2a"
      },
      "execution_count": null,
      "outputs": [
        {
          "output_type": "stream",
          "name": "stdout",
          "text": [
            "Looking in indexes: https://pypi.org/simple, https://us-python.pkg.dev/colab-wheels/public/simple/\n",
            "Requirement already satisfied: tensorflow in /usr/local/lib/python3.7/dist-packages (2.8.2+zzzcolab20220527125636)\n",
            "Requirement already satisfied: flatbuffers>=1.12 in /usr/local/lib/python3.7/dist-packages (from tensorflow) (2.0)\n",
            "Requirement already satisfied: opt-einsum>=2.3.2 in /usr/local/lib/python3.7/dist-packages (from tensorflow) (3.3.0)\n",
            "Requirement already satisfied: setuptools in /usr/local/lib/python3.7/dist-packages (from tensorflow) (57.4.0)\n",
            "Requirement already satisfied: h5py>=2.9.0 in /usr/local/lib/python3.7/dist-packages (from tensorflow) (3.1.0)\n",
            "Requirement already satisfied: tensorboard<2.9,>=2.8 in /usr/local/lib/python3.7/dist-packages (from tensorflow) (2.8.0)\n",
            "Requirement already satisfied: tensorflow-io-gcs-filesystem>=0.23.1 in /usr/local/lib/python3.7/dist-packages (from tensorflow) (0.26.0)\n",
            "Requirement already satisfied: protobuf<3.20,>=3.9.2 in /usr/local/lib/python3.7/dist-packages (from tensorflow) (3.17.3)\n",
            "Requirement already satisfied: gast>=0.2.1 in /usr/local/lib/python3.7/dist-packages (from tensorflow) (0.5.3)\n",
            "Requirement already satisfied: astunparse>=1.6.0 in /usr/local/lib/python3.7/dist-packages (from tensorflow) (1.6.3)\n",
            "Requirement already satisfied: keras<2.9,>=2.8.0rc0 in /usr/local/lib/python3.7/dist-packages (from tensorflow) (2.8.0)\n",
            "Requirement already satisfied: google-pasta>=0.1.1 in /usr/local/lib/python3.7/dist-packages (from tensorflow) (0.2.0)\n",
            "Requirement already satisfied: libclang>=9.0.1 in /usr/local/lib/python3.7/dist-packages (from tensorflow) (14.0.1)\n",
            "Requirement already satisfied: termcolor>=1.1.0 in /usr/local/lib/python3.7/dist-packages (from tensorflow) (1.1.0)\n",
            "Requirement already satisfied: numpy>=1.20 in /usr/local/lib/python3.7/dist-packages (from tensorflow) (1.21.6)\n",
            "Requirement already satisfied: keras-preprocessing>=1.1.1 in /usr/local/lib/python3.7/dist-packages (from tensorflow) (1.1.2)\n",
            "Requirement already satisfied: grpcio<2.0,>=1.24.3 in /usr/local/lib/python3.7/dist-packages (from tensorflow) (1.46.3)\n",
            "Requirement already satisfied: six>=1.12.0 in /usr/local/lib/python3.7/dist-packages (from tensorflow) (1.15.0)\n",
            "Requirement already satisfied: tensorflow-estimator<2.9,>=2.8 in /usr/local/lib/python3.7/dist-packages (from tensorflow) (2.8.0)\n",
            "Requirement already satisfied: absl-py>=0.4.0 in /usr/local/lib/python3.7/dist-packages (from tensorflow) (1.0.0)\n",
            "Requirement already satisfied: typing-extensions>=3.6.6 in /usr/local/lib/python3.7/dist-packages (from tensorflow) (4.2.0)\n",
            "Requirement already satisfied: wrapt>=1.11.0 in /usr/local/lib/python3.7/dist-packages (from tensorflow) (1.14.1)\n",
            "Requirement already satisfied: wheel<1.0,>=0.23.0 in /usr/local/lib/python3.7/dist-packages (from astunparse>=1.6.0->tensorflow) (0.37.1)\n",
            "Requirement already satisfied: cached-property in /usr/local/lib/python3.7/dist-packages (from h5py>=2.9.0->tensorflow) (1.5.2)\n",
            "Requirement already satisfied: werkzeug>=0.11.15 in /usr/local/lib/python3.7/dist-packages (from tensorboard<2.9,>=2.8->tensorflow) (1.0.1)\n",
            "Requirement already satisfied: tensorboard-data-server<0.7.0,>=0.6.0 in /usr/local/lib/python3.7/dist-packages (from tensorboard<2.9,>=2.8->tensorflow) (0.6.1)\n",
            "Requirement already satisfied: requests<3,>=2.21.0 in /usr/local/lib/python3.7/dist-packages (from tensorboard<2.9,>=2.8->tensorflow) (2.23.0)\n",
            "Requirement already satisfied: markdown>=2.6.8 in /usr/local/lib/python3.7/dist-packages (from tensorboard<2.9,>=2.8->tensorflow) (3.3.7)\n",
            "Requirement already satisfied: google-auth<3,>=1.6.3 in /usr/local/lib/python3.7/dist-packages (from tensorboard<2.9,>=2.8->tensorflow) (1.35.0)\n",
            "Requirement already satisfied: google-auth-oauthlib<0.5,>=0.4.1 in /usr/local/lib/python3.7/dist-packages (from tensorboard<2.9,>=2.8->tensorflow) (0.4.6)\n",
            "Requirement already satisfied: tensorboard-plugin-wit>=1.6.0 in /usr/local/lib/python3.7/dist-packages (from tensorboard<2.9,>=2.8->tensorflow) (1.8.1)\n",
            "Requirement already satisfied: rsa<5,>=3.1.4 in /usr/local/lib/python3.7/dist-packages (from google-auth<3,>=1.6.3->tensorboard<2.9,>=2.8->tensorflow) (4.8)\n",
            "Requirement already satisfied: cachetools<5.0,>=2.0.0 in /usr/local/lib/python3.7/dist-packages (from google-auth<3,>=1.6.3->tensorboard<2.9,>=2.8->tensorflow) (4.2.4)\n",
            "Requirement already satisfied: pyasn1-modules>=0.2.1 in /usr/local/lib/python3.7/dist-packages (from google-auth<3,>=1.6.3->tensorboard<2.9,>=2.8->tensorflow) (0.2.8)\n",
            "Requirement already satisfied: requests-oauthlib>=0.7.0 in /usr/local/lib/python3.7/dist-packages (from google-auth-oauthlib<0.5,>=0.4.1->tensorboard<2.9,>=2.8->tensorflow) (1.3.1)\n",
            "Requirement already satisfied: importlib-metadata>=4.4 in /usr/local/lib/python3.7/dist-packages (from markdown>=2.6.8->tensorboard<2.9,>=2.8->tensorflow) (4.11.4)\n",
            "Requirement already satisfied: zipp>=0.5 in /usr/local/lib/python3.7/dist-packages (from importlib-metadata>=4.4->markdown>=2.6.8->tensorboard<2.9,>=2.8->tensorflow) (3.8.0)\n",
            "Requirement already satisfied: pyasn1<0.5.0,>=0.4.6 in /usr/local/lib/python3.7/dist-packages (from pyasn1-modules>=0.2.1->google-auth<3,>=1.6.3->tensorboard<2.9,>=2.8->tensorflow) (0.4.8)\n",
            "Requirement already satisfied: urllib3!=1.25.0,!=1.25.1,<1.26,>=1.21.1 in /usr/local/lib/python3.7/dist-packages (from requests<3,>=2.21.0->tensorboard<2.9,>=2.8->tensorflow) (1.24.3)\n",
            "Requirement already satisfied: idna<3,>=2.5 in /usr/local/lib/python3.7/dist-packages (from requests<3,>=2.21.0->tensorboard<2.9,>=2.8->tensorflow) (2.10)\n",
            "Requirement already satisfied: certifi>=2017.4.17 in /usr/local/lib/python3.7/dist-packages (from requests<3,>=2.21.0->tensorboard<2.9,>=2.8->tensorflow) (2022.5.18.1)\n",
            "Requirement already satisfied: chardet<4,>=3.0.2 in /usr/local/lib/python3.7/dist-packages (from requests<3,>=2.21.0->tensorboard<2.9,>=2.8->tensorflow) (3.0.4)\n",
            "Requirement already satisfied: oauthlib>=3.0.0 in /usr/local/lib/python3.7/dist-packages (from requests-oauthlib>=0.7.0->google-auth-oauthlib<0.5,>=0.4.1->tensorboard<2.9,>=2.8->tensorflow) (3.2.0)\n"
          ]
        }
      ]
    },
    {
      "cell_type": "markdown",
      "source": [
        "# NEURAL NETWORK MODEL BUILDING"
      ],
      "metadata": {
        "id": "--4EZ0AJyRGV"
      }
    },
    {
      "cell_type": "code",
      "source": [
        "model=Sequential()\n",
        "model.add(tensorflow.keras.layers.Input(shape=11,))\n",
        "model.add(tensorflow.keras.layers.Dense(32,activation='relu'))\n",
        "model.add(tensorflow.keras.layers.Dense(64,activation='relu'))\n",
        "model.add(tensorflow.keras.layers.Dropout(0.3))  #we lose some of info (30%) so as to avoid overfitting\n",
        "model.add(tensorflow.keras.layers.Dense(128,activation='relu')) # we add another hidden layer with 128 neurons\n",
        "model.add(tensorflow.keras.layers.Dense(6,activation='softmax')) # since softmax & sigmoid can be used for o/p layers\n",
        "# in classification problems.This will be taken as last layer"
      ],
      "metadata": {
        "id": "Ws6oJOZphfL0"
      },
      "execution_count": null,
      "outputs": []
    },
    {
      "cell_type": "markdown",
      "source": [
        "# ENCODING"
      ],
      "metadata": {
        "id": "NRMHV1CTyk8u"
      }
    },
    {
      "cell_type": "code",
      "source": [
        "from sklearn.preprocessing import LabelEncoder\n",
        "le=LabelEncoder()\n",
        "y_train=le.fit_transform(y_train)\n",
        "y_test=le.fit_transform(y_test)"
      ],
      "metadata": {
        "id": "kRGl0ck1kNf-"
      },
      "execution_count": null,
      "outputs": []
    },
    {
      "cell_type": "code",
      "source": [
        "y_train=pd.DataFrame(y_train.reshape(len(y_train),1))\n",
        "y_test=pd.DataFrame(y_test.reshape(len(y_test),1))\n",
        "y_train"
      ],
      "metadata": {
        "colab": {
          "base_uri": "https://localhost:8080/",
          "height": 424
        },
        "id": "dAA1Qzeikm8Y",
        "outputId": "b82957b1-31e2-4a9a-e588-068d2f8c26fa"
      },
      "execution_count": null,
      "outputs": [
        {
          "output_type": "execute_result",
          "data": {
            "text/plain": [
              "      0\n",
              "0     0\n",
              "1     1\n",
              "2     1\n",
              "3     0\n",
              "4     2\n",
              "...  ..\n",
              "3263  3\n",
              "3264  3\n",
              "3265  2\n",
              "3266  5\n",
              "3267  4\n",
              "\n",
              "[3268 rows x 1 columns]"
            ],
            "text/html": [
              "\n",
              "  <div id=\"df-9fcdd4de-b238-4d0c-8ba7-5495219b4e55\">\n",
              "    <div class=\"colab-df-container\">\n",
              "      <div>\n",
              "<style scoped>\n",
              "    .dataframe tbody tr th:only-of-type {\n",
              "        vertical-align: middle;\n",
              "    }\n",
              "\n",
              "    .dataframe tbody tr th {\n",
              "        vertical-align: top;\n",
              "    }\n",
              "\n",
              "    .dataframe thead th {\n",
              "        text-align: right;\n",
              "    }\n",
              "</style>\n",
              "<table border=\"1\" class=\"dataframe\">\n",
              "  <thead>\n",
              "    <tr style=\"text-align: right;\">\n",
              "      <th></th>\n",
              "      <th>0</th>\n",
              "    </tr>\n",
              "  </thead>\n",
              "  <tbody>\n",
              "    <tr>\n",
              "      <th>0</th>\n",
              "      <td>0</td>\n",
              "    </tr>\n",
              "    <tr>\n",
              "      <th>1</th>\n",
              "      <td>1</td>\n",
              "    </tr>\n",
              "    <tr>\n",
              "      <th>2</th>\n",
              "      <td>1</td>\n",
              "    </tr>\n",
              "    <tr>\n",
              "      <th>3</th>\n",
              "      <td>0</td>\n",
              "    </tr>\n",
              "    <tr>\n",
              "      <th>4</th>\n",
              "      <td>2</td>\n",
              "    </tr>\n",
              "    <tr>\n",
              "      <th>...</th>\n",
              "      <td>...</td>\n",
              "    </tr>\n",
              "    <tr>\n",
              "      <th>3263</th>\n",
              "      <td>3</td>\n",
              "    </tr>\n",
              "    <tr>\n",
              "      <th>3264</th>\n",
              "      <td>3</td>\n",
              "    </tr>\n",
              "    <tr>\n",
              "      <th>3265</th>\n",
              "      <td>2</td>\n",
              "    </tr>\n",
              "    <tr>\n",
              "      <th>3266</th>\n",
              "      <td>5</td>\n",
              "    </tr>\n",
              "    <tr>\n",
              "      <th>3267</th>\n",
              "      <td>4</td>\n",
              "    </tr>\n",
              "  </tbody>\n",
              "</table>\n",
              "<p>3268 rows × 1 columns</p>\n",
              "</div>\n",
              "      <button class=\"colab-df-convert\" onclick=\"convertToInteractive('df-9fcdd4de-b238-4d0c-8ba7-5495219b4e55')\"\n",
              "              title=\"Convert this dataframe to an interactive table.\"\n",
              "              style=\"display:none;\">\n",
              "        \n",
              "  <svg xmlns=\"http://www.w3.org/2000/svg\" height=\"24px\"viewBox=\"0 0 24 24\"\n",
              "       width=\"24px\">\n",
              "    <path d=\"M0 0h24v24H0V0z\" fill=\"none\"/>\n",
              "    <path d=\"M18.56 5.44l.94 2.06.94-2.06 2.06-.94-2.06-.94-.94-2.06-.94 2.06-2.06.94zm-11 1L8.5 8.5l.94-2.06 2.06-.94-2.06-.94L8.5 2.5l-.94 2.06-2.06.94zm10 10l.94 2.06.94-2.06 2.06-.94-2.06-.94-.94-2.06-.94 2.06-2.06.94z\"/><path d=\"M17.41 7.96l-1.37-1.37c-.4-.4-.92-.59-1.43-.59-.52 0-1.04.2-1.43.59L10.3 9.45l-7.72 7.72c-.78.78-.78 2.05 0 2.83L4 21.41c.39.39.9.59 1.41.59.51 0 1.02-.2 1.41-.59l7.78-7.78 2.81-2.81c.8-.78.8-2.07 0-2.86zM5.41 20L4 18.59l7.72-7.72 1.47 1.35L5.41 20z\"/>\n",
              "  </svg>\n",
              "      </button>\n",
              "      \n",
              "  <style>\n",
              "    .colab-df-container {\n",
              "      display:flex;\n",
              "      flex-wrap:wrap;\n",
              "      gap: 12px;\n",
              "    }\n",
              "\n",
              "    .colab-df-convert {\n",
              "      background-color: #E8F0FE;\n",
              "      border: none;\n",
              "      border-radius: 50%;\n",
              "      cursor: pointer;\n",
              "      display: none;\n",
              "      fill: #1967D2;\n",
              "      height: 32px;\n",
              "      padding: 0 0 0 0;\n",
              "      width: 32px;\n",
              "    }\n",
              "\n",
              "    .colab-df-convert:hover {\n",
              "      background-color: #E2EBFA;\n",
              "      box-shadow: 0px 1px 2px rgba(60, 64, 67, 0.3), 0px 1px 3px 1px rgba(60, 64, 67, 0.15);\n",
              "      fill: #174EA6;\n",
              "    }\n",
              "\n",
              "    [theme=dark] .colab-df-convert {\n",
              "      background-color: #3B4455;\n",
              "      fill: #D2E3FC;\n",
              "    }\n",
              "\n",
              "    [theme=dark] .colab-df-convert:hover {\n",
              "      background-color: #434B5C;\n",
              "      box-shadow: 0px 1px 3px 1px rgba(0, 0, 0, 0.15);\n",
              "      filter: drop-shadow(0px 1px 2px rgba(0, 0, 0, 0.3));\n",
              "      fill: #FFFFFF;\n",
              "    }\n",
              "  </style>\n",
              "\n",
              "      <script>\n",
              "        const buttonEl =\n",
              "          document.querySelector('#df-9fcdd4de-b238-4d0c-8ba7-5495219b4e55 button.colab-df-convert');\n",
              "        buttonEl.style.display =\n",
              "          google.colab.kernel.accessAllowed ? 'block' : 'none';\n",
              "\n",
              "        async function convertToInteractive(key) {\n",
              "          const element = document.querySelector('#df-9fcdd4de-b238-4d0c-8ba7-5495219b4e55');\n",
              "          const dataTable =\n",
              "            await google.colab.kernel.invokeFunction('convertToInteractive',\n",
              "                                                     [key], {});\n",
              "          if (!dataTable) return;\n",
              "\n",
              "          const docLinkHtml = 'Like what you see? Visit the ' +\n",
              "            '<a target=\"_blank\" href=https://colab.research.google.com/notebooks/data_table.ipynb>data table notebook</a>'\n",
              "            + ' to learn more about interactive tables.';\n",
              "          element.innerHTML = '';\n",
              "          dataTable['output_type'] = 'display_data';\n",
              "          await google.colab.output.renderOutput(dataTable, element);\n",
              "          const docLink = document.createElement('div');\n",
              "          docLink.innerHTML = docLinkHtml;\n",
              "          element.appendChild(docLink);\n",
              "        }\n",
              "      </script>\n",
              "    </div>\n",
              "  </div>\n",
              "  "
            ]
          },
          "metadata": {},
          "execution_count": 32
        }
      ]
    },
    {
      "cell_type": "code",
      "source": [
        "y_train=tensorflow.keras.utils.to_categorical(y_train,6)\n",
        "y_test=tensorflow.keras.utils.to_categorical(y_test,6)"
      ],
      "metadata": {
        "id": "971nEul7knSq"
      },
      "execution_count": null,
      "outputs": []
    },
    {
      "cell_type": "code",
      "source": [
        "model.compile(optimizer='adam',loss='categorical_crossentropy',metrics=['accuracy'])\n",
        "# optimizer is for backpropagation.. it gets initiated on how much the loss has occurred and each time\n",
        "# after optimized, again loss is calculated for the newly optimized model\n",
        "# the metric we need is accuracy"
      ],
      "metadata": {
        "id": "agDN2BwkiLik"
      },
      "execution_count": null,
      "outputs": []
    },
    {
      "cell_type": "code",
      "source": [
        "model.fit(x_train,y_train,epochs=400,verbose=1)\n",
        "#"
      ],
      "metadata": {
        "colab": {
          "base_uri": "https://localhost:8080/"
        },
        "id": "cDKjEUICjjBw",
        "outputId": "c5105e7f-b3b8-4bae-b7b5-c7aeb72f6033"
      },
      "execution_count": null,
      "outputs": [
        {
          "output_type": "stream",
          "name": "stdout",
          "text": [
            "Epoch 1/400\n",
            "103/103 [==============================] - 2s 4ms/step - loss: 1.4201 - accuracy: 0.4143\n",
            "Epoch 2/400\n",
            "103/103 [==============================] - 0s 4ms/step - loss: 1.0856 - accuracy: 0.5428\n",
            "Epoch 3/400\n",
            "103/103 [==============================] - 0s 4ms/step - loss: 0.9612 - accuracy: 0.6034\n",
            "Epoch 4/400\n",
            "103/103 [==============================] - 0s 3ms/step - loss: 0.8872 - accuracy: 0.6386\n",
            "Epoch 5/400\n",
            "103/103 [==============================] - 0s 3ms/step - loss: 0.8315 - accuracy: 0.6744\n",
            "Epoch 6/400\n",
            "103/103 [==============================] - 0s 3ms/step - loss: 0.7961 - accuracy: 0.6778\n",
            "Epoch 7/400\n",
            "103/103 [==============================] - 0s 2ms/step - loss: 0.7563 - accuracy: 0.7041\n",
            "Epoch 8/400\n",
            "103/103 [==============================] - 0s 2ms/step - loss: 0.7219 - accuracy: 0.7096\n",
            "Epoch 9/400\n",
            "103/103 [==============================] - 0s 2ms/step - loss: 0.6961 - accuracy: 0.7246\n",
            "Epoch 10/400\n",
            "103/103 [==============================] - 0s 2ms/step - loss: 0.6759 - accuracy: 0.7326\n",
            "Epoch 11/400\n",
            "103/103 [==============================] - 0s 2ms/step - loss: 0.6564 - accuracy: 0.7393\n",
            "Epoch 12/400\n",
            "103/103 [==============================] - 0s 2ms/step - loss: 0.6356 - accuracy: 0.7518\n",
            "Epoch 13/400\n",
            "103/103 [==============================] - 0s 2ms/step - loss: 0.6265 - accuracy: 0.7509\n",
            "Epoch 14/400\n",
            "103/103 [==============================] - 0s 2ms/step - loss: 0.6119 - accuracy: 0.7619\n",
            "Epoch 15/400\n",
            "103/103 [==============================] - 0s 2ms/step - loss: 0.5945 - accuracy: 0.7647\n",
            "Epoch 16/400\n",
            "103/103 [==============================] - 0s 2ms/step - loss: 0.5800 - accuracy: 0.7641\n",
            "Epoch 17/400\n",
            "103/103 [==============================] - 0s 2ms/step - loss: 0.5716 - accuracy: 0.7717\n",
            "Epoch 18/400\n",
            "103/103 [==============================] - 0s 2ms/step - loss: 0.5685 - accuracy: 0.7736\n",
            "Epoch 19/400\n",
            "103/103 [==============================] - 0s 2ms/step - loss: 0.5461 - accuracy: 0.7821\n",
            "Epoch 20/400\n",
            "103/103 [==============================] - 0s 2ms/step - loss: 0.5525 - accuracy: 0.7766\n",
            "Epoch 21/400\n",
            "103/103 [==============================] - 0s 2ms/step - loss: 0.5404 - accuracy: 0.7818\n",
            "Epoch 22/400\n",
            "103/103 [==============================] - 0s 2ms/step - loss: 0.5273 - accuracy: 0.7876\n",
            "Epoch 23/400\n",
            "103/103 [==============================] - 0s 2ms/step - loss: 0.5171 - accuracy: 0.7867\n",
            "Epoch 24/400\n",
            "103/103 [==============================] - 0s 2ms/step - loss: 0.5128 - accuracy: 0.7886\n",
            "Epoch 25/400\n",
            "103/103 [==============================] - 0s 2ms/step - loss: 0.5116 - accuracy: 0.7935\n",
            "Epoch 26/400\n",
            "103/103 [==============================] - 0s 2ms/step - loss: 0.4984 - accuracy: 0.7983\n",
            "Epoch 27/400\n",
            "103/103 [==============================] - 0s 2ms/step - loss: 0.4941 - accuracy: 0.7993\n",
            "Epoch 28/400\n",
            "103/103 [==============================] - 0s 2ms/step - loss: 0.4880 - accuracy: 0.8026\n",
            "Epoch 29/400\n",
            "103/103 [==============================] - 0s 2ms/step - loss: 0.4789 - accuracy: 0.8072\n",
            "Epoch 30/400\n",
            "103/103 [==============================] - 0s 2ms/step - loss: 0.4768 - accuracy: 0.8158\n",
            "Epoch 31/400\n",
            "103/103 [==============================] - 0s 2ms/step - loss: 0.4662 - accuracy: 0.8081\n",
            "Epoch 32/400\n",
            "103/103 [==============================] - 0s 2ms/step - loss: 0.4698 - accuracy: 0.8054\n",
            "Epoch 33/400\n",
            "103/103 [==============================] - 0s 2ms/step - loss: 0.4595 - accuracy: 0.8219\n",
            "Epoch 34/400\n",
            "103/103 [==============================] - 0s 2ms/step - loss: 0.4450 - accuracy: 0.8188\n",
            "Epoch 35/400\n",
            "103/103 [==============================] - 0s 2ms/step - loss: 0.4489 - accuracy: 0.8140\n",
            "Epoch 36/400\n",
            "103/103 [==============================] - 0s 2ms/step - loss: 0.4401 - accuracy: 0.8164\n",
            "Epoch 37/400\n",
            "103/103 [==============================] - 0s 2ms/step - loss: 0.4335 - accuracy: 0.8299\n",
            "Epoch 38/400\n",
            "103/103 [==============================] - 0s 2ms/step - loss: 0.4392 - accuracy: 0.8302\n",
            "Epoch 39/400\n",
            "103/103 [==============================] - 0s 2ms/step - loss: 0.4207 - accuracy: 0.8338\n",
            "Epoch 40/400\n",
            "103/103 [==============================] - 0s 2ms/step - loss: 0.4209 - accuracy: 0.8335\n",
            "Epoch 41/400\n",
            "103/103 [==============================] - 0s 2ms/step - loss: 0.4164 - accuracy: 0.8314\n",
            "Epoch 42/400\n",
            "103/103 [==============================] - 0s 2ms/step - loss: 0.4092 - accuracy: 0.8354\n",
            "Epoch 43/400\n",
            "103/103 [==============================] - 0s 2ms/step - loss: 0.4112 - accuracy: 0.8357\n",
            "Epoch 44/400\n",
            "103/103 [==============================] - 0s 2ms/step - loss: 0.3988 - accuracy: 0.8390\n",
            "Epoch 45/400\n",
            "103/103 [==============================] - 0s 2ms/step - loss: 0.4115 - accuracy: 0.8317\n",
            "Epoch 46/400\n",
            "103/103 [==============================] - 0s 2ms/step - loss: 0.4058 - accuracy: 0.8314\n",
            "Epoch 47/400\n",
            "103/103 [==============================] - 0s 2ms/step - loss: 0.3955 - accuracy: 0.8439\n",
            "Epoch 48/400\n",
            "103/103 [==============================] - 0s 2ms/step - loss: 0.3967 - accuracy: 0.8348\n",
            "Epoch 49/400\n",
            "103/103 [==============================] - 0s 2ms/step - loss: 0.3938 - accuracy: 0.8400\n",
            "Epoch 50/400\n",
            "103/103 [==============================] - 0s 2ms/step - loss: 0.3793 - accuracy: 0.8494\n",
            "Epoch 51/400\n",
            "103/103 [==============================] - 0s 2ms/step - loss: 0.3908 - accuracy: 0.8436\n",
            "Epoch 52/400\n",
            "103/103 [==============================] - 0s 2ms/step - loss: 0.3885 - accuracy: 0.8433\n",
            "Epoch 53/400\n",
            "103/103 [==============================] - 0s 3ms/step - loss: 0.3698 - accuracy: 0.8473\n",
            "Epoch 54/400\n",
            "103/103 [==============================] - 0s 3ms/step - loss: 0.3684 - accuracy: 0.8519\n",
            "Epoch 55/400\n",
            "103/103 [==============================] - 0s 3ms/step - loss: 0.3623 - accuracy: 0.8513\n",
            "Epoch 56/400\n",
            "103/103 [==============================] - 0s 3ms/step - loss: 0.3600 - accuracy: 0.8519\n",
            "Epoch 57/400\n",
            "103/103 [==============================] - 0s 3ms/step - loss: 0.3695 - accuracy: 0.8498\n",
            "Epoch 58/400\n",
            "103/103 [==============================] - 0s 3ms/step - loss: 0.3449 - accuracy: 0.8577\n",
            "Epoch 59/400\n",
            "103/103 [==============================] - 0s 2ms/step - loss: 0.3524 - accuracy: 0.8632\n",
            "Epoch 60/400\n",
            "103/103 [==============================] - 0s 2ms/step - loss: 0.3536 - accuracy: 0.8620\n",
            "Epoch 61/400\n",
            "103/103 [==============================] - 0s 2ms/step - loss: 0.3353 - accuracy: 0.8675\n",
            "Epoch 62/400\n",
            "103/103 [==============================] - 0s 2ms/step - loss: 0.3460 - accuracy: 0.8632\n",
            "Epoch 63/400\n",
            "103/103 [==============================] - 0s 2ms/step - loss: 0.3529 - accuracy: 0.8586\n",
            "Epoch 64/400\n",
            "103/103 [==============================] - 0s 2ms/step - loss: 0.3449 - accuracy: 0.8614\n",
            "Epoch 65/400\n",
            "103/103 [==============================] - 0s 2ms/step - loss: 0.3350 - accuracy: 0.8595\n",
            "Epoch 66/400\n",
            "103/103 [==============================] - 0s 2ms/step - loss: 0.3388 - accuracy: 0.8703\n",
            "Epoch 67/400\n",
            "103/103 [==============================] - 0s 2ms/step - loss: 0.3419 - accuracy: 0.8620\n",
            "Epoch 68/400\n",
            "103/103 [==============================] - 0s 2ms/step - loss: 0.3301 - accuracy: 0.8666\n",
            "Epoch 69/400\n",
            "103/103 [==============================] - 0s 2ms/step - loss: 0.3363 - accuracy: 0.8638\n",
            "Epoch 70/400\n",
            "103/103 [==============================] - 0s 2ms/step - loss: 0.3360 - accuracy: 0.8608\n",
            "Epoch 71/400\n",
            "103/103 [==============================] - 0s 2ms/step - loss: 0.3314 - accuracy: 0.8654\n",
            "Epoch 72/400\n",
            "103/103 [==============================] - 0s 2ms/step - loss: 0.3260 - accuracy: 0.8703\n",
            "Epoch 73/400\n",
            "103/103 [==============================] - 0s 2ms/step - loss: 0.3184 - accuracy: 0.8724\n",
            "Epoch 74/400\n",
            "103/103 [==============================] - 0s 2ms/step - loss: 0.3245 - accuracy: 0.8693\n",
            "Epoch 75/400\n",
            "103/103 [==============================] - 0s 2ms/step - loss: 0.3091 - accuracy: 0.8770\n",
            "Epoch 76/400\n",
            "103/103 [==============================] - 0s 2ms/step - loss: 0.3234 - accuracy: 0.8687\n",
            "Epoch 77/400\n",
            "103/103 [==============================] - 0s 2ms/step - loss: 0.2979 - accuracy: 0.8849\n",
            "Epoch 78/400\n",
            "103/103 [==============================] - 0s 2ms/step - loss: 0.3035 - accuracy: 0.8776\n",
            "Epoch 79/400\n",
            "103/103 [==============================] - 0s 2ms/step - loss: 0.3197 - accuracy: 0.8681\n",
            "Epoch 80/400\n",
            "103/103 [==============================] - 0s 2ms/step - loss: 0.3130 - accuracy: 0.8718\n",
            "Epoch 81/400\n",
            "103/103 [==============================] - 0s 2ms/step - loss: 0.3073 - accuracy: 0.8767\n",
            "Epoch 82/400\n",
            "103/103 [==============================] - 0s 2ms/step - loss: 0.2884 - accuracy: 0.8862\n",
            "Epoch 83/400\n",
            "103/103 [==============================] - 0s 2ms/step - loss: 0.3023 - accuracy: 0.8791\n",
            "Epoch 84/400\n",
            "103/103 [==============================] - 0s 2ms/step - loss: 0.3073 - accuracy: 0.8758\n",
            "Epoch 85/400\n",
            "103/103 [==============================] - 0s 2ms/step - loss: 0.2930 - accuracy: 0.8813\n",
            "Epoch 86/400\n",
            "103/103 [==============================] - 0s 2ms/step - loss: 0.2973 - accuracy: 0.8865\n",
            "Epoch 87/400\n",
            "103/103 [==============================] - 0s 2ms/step - loss: 0.2912 - accuracy: 0.8807\n",
            "Epoch 88/400\n",
            "103/103 [==============================] - 0s 2ms/step - loss: 0.2835 - accuracy: 0.8892\n",
            "Epoch 89/400\n",
            "103/103 [==============================] - 0s 2ms/step - loss: 0.2849 - accuracy: 0.8816\n",
            "Epoch 90/400\n",
            "103/103 [==============================] - 0s 2ms/step - loss: 0.2752 - accuracy: 0.8825\n",
            "Epoch 91/400\n",
            "103/103 [==============================] - 0s 2ms/step - loss: 0.2822 - accuracy: 0.8859\n",
            "Epoch 92/400\n",
            "103/103 [==============================] - 0s 2ms/step - loss: 0.2882 - accuracy: 0.8846\n",
            "Epoch 93/400\n",
            "103/103 [==============================] - 0s 2ms/step - loss: 0.2709 - accuracy: 0.8914\n",
            "Epoch 94/400\n",
            "103/103 [==============================] - 0s 2ms/step - loss: 0.2822 - accuracy: 0.8923\n",
            "Epoch 95/400\n",
            "103/103 [==============================] - 0s 2ms/step - loss: 0.2750 - accuracy: 0.8892\n",
            "Epoch 96/400\n",
            "103/103 [==============================] - 0s 2ms/step - loss: 0.2774 - accuracy: 0.8908\n",
            "Epoch 97/400\n",
            "103/103 [==============================] - 0s 2ms/step - loss: 0.2674 - accuracy: 0.8926\n",
            "Epoch 98/400\n",
            "103/103 [==============================] - 0s 2ms/step - loss: 0.2801 - accuracy: 0.8905\n",
            "Epoch 99/400\n",
            "103/103 [==============================] - 0s 2ms/step - loss: 0.2599 - accuracy: 0.8941\n",
            "Epoch 100/400\n",
            "103/103 [==============================] - 0s 2ms/step - loss: 0.2593 - accuracy: 0.8993\n",
            "Epoch 101/400\n",
            "103/103 [==============================] - 0s 2ms/step - loss: 0.2583 - accuracy: 0.8990\n",
            "Epoch 102/400\n",
            "103/103 [==============================] - 0s 2ms/step - loss: 0.2737 - accuracy: 0.8975\n",
            "Epoch 103/400\n",
            "103/103 [==============================] - 0s 2ms/step - loss: 0.2626 - accuracy: 0.8923\n",
            "Epoch 104/400\n",
            "103/103 [==============================] - 0s 2ms/step - loss: 0.2596 - accuracy: 0.8926\n",
            "Epoch 105/400\n",
            "103/103 [==============================] - 0s 2ms/step - loss: 0.2645 - accuracy: 0.8953\n",
            "Epoch 106/400\n",
            "103/103 [==============================] - 0s 2ms/step - loss: 0.2604 - accuracy: 0.8941\n",
            "Epoch 107/400\n",
            "103/103 [==============================] - 0s 2ms/step - loss: 0.2611 - accuracy: 0.8957\n",
            "Epoch 108/400\n",
            "103/103 [==============================] - 0s 2ms/step - loss: 0.2786 - accuracy: 0.8880\n",
            "Epoch 109/400\n",
            "103/103 [==============================] - 0s 2ms/step - loss: 0.2563 - accuracy: 0.8963\n",
            "Epoch 110/400\n",
            "103/103 [==============================] - 0s 2ms/step - loss: 0.2642 - accuracy: 0.8947\n",
            "Epoch 111/400\n",
            "103/103 [==============================] - 0s 2ms/step - loss: 0.2501 - accuracy: 0.8972\n",
            "Epoch 112/400\n",
            "103/103 [==============================] - 0s 2ms/step - loss: 0.2482 - accuracy: 0.9039\n",
            "Epoch 113/400\n",
            "103/103 [==============================] - 0s 2ms/step - loss: 0.2823 - accuracy: 0.8920\n",
            "Epoch 114/400\n",
            "103/103 [==============================] - 0s 2ms/step - loss: 0.2485 - accuracy: 0.9061\n",
            "Epoch 115/400\n",
            "103/103 [==============================] - 0s 2ms/step - loss: 0.2512 - accuracy: 0.8987\n",
            "Epoch 116/400\n",
            "103/103 [==============================] - 0s 2ms/step - loss: 0.2598 - accuracy: 0.8987\n",
            "Epoch 117/400\n",
            "103/103 [==============================] - 0s 2ms/step - loss: 0.2408 - accuracy: 0.9012\n",
            "Epoch 118/400\n",
            "103/103 [==============================] - 0s 2ms/step - loss: 0.2407 - accuracy: 0.8984\n",
            "Epoch 119/400\n",
            "103/103 [==============================] - 0s 2ms/step - loss: 0.2393 - accuracy: 0.9042\n",
            "Epoch 120/400\n",
            "103/103 [==============================] - 0s 2ms/step - loss: 0.2302 - accuracy: 0.9113\n",
            "Epoch 121/400\n",
            "103/103 [==============================] - 0s 2ms/step - loss: 0.2380 - accuracy: 0.9030\n",
            "Epoch 122/400\n",
            "103/103 [==============================] - 0s 2ms/step - loss: 0.2360 - accuracy: 0.9024\n",
            "Epoch 123/400\n",
            "103/103 [==============================] - 0s 2ms/step - loss: 0.2482 - accuracy: 0.9036\n",
            "Epoch 124/400\n",
            "103/103 [==============================] - 0s 2ms/step - loss: 0.2401 - accuracy: 0.9039\n",
            "Epoch 125/400\n",
            "103/103 [==============================] - 0s 2ms/step - loss: 0.2386 - accuracy: 0.9002\n",
            "Epoch 126/400\n",
            "103/103 [==============================] - 0s 2ms/step - loss: 0.2326 - accuracy: 0.9113\n",
            "Epoch 127/400\n",
            "103/103 [==============================] - 0s 2ms/step - loss: 0.2485 - accuracy: 0.9048\n",
            "Epoch 128/400\n",
            "103/103 [==============================] - 0s 2ms/step - loss: 0.2472 - accuracy: 0.9061\n",
            "Epoch 129/400\n",
            "103/103 [==============================] - 0s 2ms/step - loss: 0.2397 - accuracy: 0.9048\n",
            "Epoch 130/400\n",
            "103/103 [==============================] - 0s 2ms/step - loss: 0.2407 - accuracy: 0.9103\n",
            "Epoch 131/400\n",
            "103/103 [==============================] - 0s 2ms/step - loss: 0.2304 - accuracy: 0.9082\n",
            "Epoch 132/400\n",
            "103/103 [==============================] - 0s 2ms/step - loss: 0.2347 - accuracy: 0.9070\n",
            "Epoch 133/400\n",
            "103/103 [==============================] - 0s 2ms/step - loss: 0.2306 - accuracy: 0.9094\n",
            "Epoch 134/400\n",
            "103/103 [==============================] - 0s 2ms/step - loss: 0.2174 - accuracy: 0.9198\n",
            "Epoch 135/400\n",
            "103/103 [==============================] - 0s 2ms/step - loss: 0.2237 - accuracy: 0.9189\n",
            "Epoch 136/400\n",
            "103/103 [==============================] - 0s 2ms/step - loss: 0.2292 - accuracy: 0.9116\n",
            "Epoch 137/400\n",
            "103/103 [==============================] - 0s 2ms/step - loss: 0.2325 - accuracy: 0.9030\n",
            "Epoch 138/400\n",
            "103/103 [==============================] - 0s 2ms/step - loss: 0.2255 - accuracy: 0.9180\n",
            "Epoch 139/400\n",
            "103/103 [==============================] - 0s 2ms/step - loss: 0.2188 - accuracy: 0.9106\n",
            "Epoch 140/400\n",
            "103/103 [==============================] - 0s 2ms/step - loss: 0.2226 - accuracy: 0.9119\n",
            "Epoch 141/400\n",
            "103/103 [==============================] - 0s 2ms/step - loss: 0.2169 - accuracy: 0.9131\n",
            "Epoch 142/400\n",
            "103/103 [==============================] - 0s 2ms/step - loss: 0.2231 - accuracy: 0.9082\n",
            "Epoch 143/400\n",
            "103/103 [==============================] - 0s 2ms/step - loss: 0.2200 - accuracy: 0.9125\n",
            "Epoch 144/400\n",
            "103/103 [==============================] - 0s 2ms/step - loss: 0.2241 - accuracy: 0.9131\n",
            "Epoch 145/400\n",
            "103/103 [==============================] - 0s 2ms/step - loss: 0.2139 - accuracy: 0.9207\n",
            "Epoch 146/400\n",
            "103/103 [==============================] - 0s 2ms/step - loss: 0.2145 - accuracy: 0.9159\n",
            "Epoch 147/400\n",
            "103/103 [==============================] - 0s 2ms/step - loss: 0.2206 - accuracy: 0.9162\n",
            "Epoch 148/400\n",
            "103/103 [==============================] - 0s 2ms/step - loss: 0.2101 - accuracy: 0.9186\n",
            "Epoch 149/400\n",
            "103/103 [==============================] - 0s 2ms/step - loss: 0.2016 - accuracy: 0.9238\n",
            "Epoch 150/400\n",
            "103/103 [==============================] - 0s 2ms/step - loss: 0.2046 - accuracy: 0.9214\n",
            "Epoch 151/400\n",
            "103/103 [==============================] - 0s 2ms/step - loss: 0.2023 - accuracy: 0.9192\n",
            "Epoch 152/400\n",
            "103/103 [==============================] - 0s 2ms/step - loss: 0.2040 - accuracy: 0.9162\n",
            "Epoch 153/400\n",
            "103/103 [==============================] - 0s 2ms/step - loss: 0.2184 - accuracy: 0.9177\n",
            "Epoch 154/400\n",
            "103/103 [==============================] - 0s 2ms/step - loss: 0.2012 - accuracy: 0.9253\n",
            "Epoch 155/400\n",
            "103/103 [==============================] - 0s 2ms/step - loss: 0.2043 - accuracy: 0.9232\n",
            "Epoch 156/400\n",
            "103/103 [==============================] - 0s 2ms/step - loss: 0.2132 - accuracy: 0.9174\n",
            "Epoch 157/400\n",
            "103/103 [==============================] - 0s 2ms/step - loss: 0.2066 - accuracy: 0.9204\n",
            "Epoch 158/400\n",
            "103/103 [==============================] - 0s 2ms/step - loss: 0.2111 - accuracy: 0.9189\n",
            "Epoch 159/400\n",
            "103/103 [==============================] - 0s 2ms/step - loss: 0.1991 - accuracy: 0.9275\n",
            "Epoch 160/400\n",
            "103/103 [==============================] - 0s 2ms/step - loss: 0.2069 - accuracy: 0.9204\n",
            "Epoch 161/400\n",
            "103/103 [==============================] - 0s 2ms/step - loss: 0.1993 - accuracy: 0.9272\n",
            "Epoch 162/400\n",
            "103/103 [==============================] - 0s 2ms/step - loss: 0.1932 - accuracy: 0.9226\n",
            "Epoch 163/400\n",
            "103/103 [==============================] - 0s 2ms/step - loss: 0.2025 - accuracy: 0.9235\n",
            "Epoch 164/400\n",
            "103/103 [==============================] - 0s 2ms/step - loss: 0.2030 - accuracy: 0.9186\n",
            "Epoch 165/400\n",
            "103/103 [==============================] - 0s 2ms/step - loss: 0.2067 - accuracy: 0.9174\n",
            "Epoch 166/400\n",
            "103/103 [==============================] - 0s 2ms/step - loss: 0.2029 - accuracy: 0.9232\n",
            "Epoch 167/400\n",
            "103/103 [==============================] - 0s 2ms/step - loss: 0.1978 - accuracy: 0.9217\n",
            "Epoch 168/400\n",
            "103/103 [==============================] - 0s 2ms/step - loss: 0.1909 - accuracy: 0.9263\n",
            "Epoch 169/400\n",
            "103/103 [==============================] - 0s 2ms/step - loss: 0.1970 - accuracy: 0.9259\n",
            "Epoch 170/400\n",
            "103/103 [==============================] - 0s 2ms/step - loss: 0.1775 - accuracy: 0.9351\n",
            "Epoch 171/400\n",
            "103/103 [==============================] - 0s 2ms/step - loss: 0.1829 - accuracy: 0.9287\n",
            "Epoch 172/400\n",
            "103/103 [==============================] - 0s 2ms/step - loss: 0.1910 - accuracy: 0.9256\n",
            "Epoch 173/400\n",
            "103/103 [==============================] - 0s 2ms/step - loss: 0.1830 - accuracy: 0.9299\n",
            "Epoch 174/400\n",
            "103/103 [==============================] - 0s 2ms/step - loss: 0.2065 - accuracy: 0.9192\n",
            "Epoch 175/400\n",
            "103/103 [==============================] - 0s 2ms/step - loss: 0.1975 - accuracy: 0.9198\n",
            "Epoch 176/400\n",
            "103/103 [==============================] - 0s 2ms/step - loss: 0.1850 - accuracy: 0.9302\n",
            "Epoch 177/400\n",
            "103/103 [==============================] - 0s 2ms/step - loss: 0.1876 - accuracy: 0.9253\n",
            "Epoch 178/400\n",
            "103/103 [==============================] - 0s 2ms/step - loss: 0.1867 - accuracy: 0.9275\n",
            "Epoch 179/400\n",
            "103/103 [==============================] - 0s 2ms/step - loss: 0.1983 - accuracy: 0.9256\n",
            "Epoch 180/400\n",
            "103/103 [==============================] - 0s 2ms/step - loss: 0.1803 - accuracy: 0.9308\n",
            "Epoch 181/400\n",
            "103/103 [==============================] - 0s 2ms/step - loss: 0.1913 - accuracy: 0.9250\n",
            "Epoch 182/400\n",
            "103/103 [==============================] - 0s 2ms/step - loss: 0.1938 - accuracy: 0.9278\n",
            "Epoch 183/400\n",
            "103/103 [==============================] - 0s 2ms/step - loss: 0.1772 - accuracy: 0.9299\n",
            "Epoch 184/400\n",
            "103/103 [==============================] - 0s 2ms/step - loss: 0.1854 - accuracy: 0.9312\n",
            "Epoch 185/400\n",
            "103/103 [==============================] - 0s 2ms/step - loss: 0.1821 - accuracy: 0.9296\n",
            "Epoch 186/400\n",
            "103/103 [==============================] - 0s 2ms/step - loss: 0.1826 - accuracy: 0.9275\n",
            "Epoch 187/400\n",
            "103/103 [==============================] - 0s 2ms/step - loss: 0.1722 - accuracy: 0.9382\n",
            "Epoch 188/400\n",
            "103/103 [==============================] - 0s 2ms/step - loss: 0.1854 - accuracy: 0.9278\n",
            "Epoch 189/400\n",
            "103/103 [==============================] - 0s 2ms/step - loss: 0.1810 - accuracy: 0.9296\n",
            "Epoch 190/400\n",
            "103/103 [==============================] - 0s 2ms/step - loss: 0.1949 - accuracy: 0.9272\n",
            "Epoch 191/400\n",
            "103/103 [==============================] - 0s 2ms/step - loss: 0.1866 - accuracy: 0.9278\n",
            "Epoch 192/400\n",
            "103/103 [==============================] - 0s 2ms/step - loss: 0.1855 - accuracy: 0.9256\n",
            "Epoch 193/400\n",
            "103/103 [==============================] - 0s 2ms/step - loss: 0.1885 - accuracy: 0.9232\n",
            "Epoch 194/400\n",
            "103/103 [==============================] - 0s 2ms/step - loss: 0.1849 - accuracy: 0.9305\n",
            "Epoch 195/400\n",
            "103/103 [==============================] - 0s 2ms/step - loss: 0.1802 - accuracy: 0.9302\n",
            "Epoch 196/400\n",
            "103/103 [==============================] - 0s 2ms/step - loss: 0.1675 - accuracy: 0.9342\n",
            "Epoch 197/400\n",
            "103/103 [==============================] - 0s 2ms/step - loss: 0.1712 - accuracy: 0.9339\n",
            "Epoch 198/400\n",
            "103/103 [==============================] - 0s 2ms/step - loss: 0.1667 - accuracy: 0.9376\n",
            "Epoch 199/400\n",
            "103/103 [==============================] - 0s 2ms/step - loss: 0.1747 - accuracy: 0.9373\n",
            "Epoch 200/400\n",
            "103/103 [==============================] - 0s 2ms/step - loss: 0.1716 - accuracy: 0.9327\n",
            "Epoch 201/400\n",
            "103/103 [==============================] - 0s 2ms/step - loss: 0.1742 - accuracy: 0.9312\n",
            "Epoch 202/400\n",
            "103/103 [==============================] - 0s 2ms/step - loss: 0.1647 - accuracy: 0.9367\n",
            "Epoch 203/400\n",
            "103/103 [==============================] - 0s 2ms/step - loss: 0.1789 - accuracy: 0.9278\n",
            "Epoch 204/400\n",
            "103/103 [==============================] - 0s 2ms/step - loss: 0.1785 - accuracy: 0.9299\n",
            "Epoch 205/400\n",
            "103/103 [==============================] - 0s 2ms/step - loss: 0.1773 - accuracy: 0.9357\n",
            "Epoch 206/400\n",
            "103/103 [==============================] - 0s 2ms/step - loss: 0.1687 - accuracy: 0.9330\n",
            "Epoch 207/400\n",
            "103/103 [==============================] - 0s 2ms/step - loss: 0.1764 - accuracy: 0.9318\n",
            "Epoch 208/400\n",
            "103/103 [==============================] - 0s 2ms/step - loss: 0.1595 - accuracy: 0.9406\n",
            "Epoch 209/400\n",
            "103/103 [==============================] - 0s 2ms/step - loss: 0.1708 - accuracy: 0.9305\n",
            "Epoch 210/400\n",
            "103/103 [==============================] - 0s 2ms/step - loss: 0.1896 - accuracy: 0.9204\n",
            "Epoch 211/400\n",
            "103/103 [==============================] - 0s 2ms/step - loss: 0.1602 - accuracy: 0.9379\n",
            "Epoch 212/400\n",
            "103/103 [==============================] - 0s 2ms/step - loss: 0.1566 - accuracy: 0.9443\n",
            "Epoch 213/400\n",
            "103/103 [==============================] - 0s 2ms/step - loss: 0.1624 - accuracy: 0.9382\n",
            "Epoch 214/400\n",
            "103/103 [==============================] - 0s 2ms/step - loss: 0.1846 - accuracy: 0.9244\n",
            "Epoch 215/400\n",
            "103/103 [==============================] - 0s 2ms/step - loss: 0.1718 - accuracy: 0.9312\n",
            "Epoch 216/400\n",
            "103/103 [==============================] - 0s 2ms/step - loss: 0.1697 - accuracy: 0.9376\n",
            "Epoch 217/400\n",
            "103/103 [==============================] - 0s 2ms/step - loss: 0.1614 - accuracy: 0.9336\n",
            "Epoch 218/400\n",
            "103/103 [==============================] - 0s 2ms/step - loss: 0.1596 - accuracy: 0.9354\n",
            "Epoch 219/400\n",
            "103/103 [==============================] - 0s 2ms/step - loss: 0.1594 - accuracy: 0.9412\n",
            "Epoch 220/400\n",
            "103/103 [==============================] - 0s 2ms/step - loss: 0.1638 - accuracy: 0.9394\n",
            "Epoch 221/400\n",
            "103/103 [==============================] - 0s 2ms/step - loss: 0.1559 - accuracy: 0.9357\n",
            "Epoch 222/400\n",
            "103/103 [==============================] - 0s 2ms/step - loss: 0.1595 - accuracy: 0.9400\n",
            "Epoch 223/400\n",
            "103/103 [==============================] - 0s 2ms/step - loss: 0.1686 - accuracy: 0.9351\n",
            "Epoch 224/400\n",
            "103/103 [==============================] - 0s 2ms/step - loss: 0.1654 - accuracy: 0.9394\n",
            "Epoch 225/400\n",
            "103/103 [==============================] - 0s 2ms/step - loss: 0.1746 - accuracy: 0.9351\n",
            "Epoch 226/400\n",
            "103/103 [==============================] - 0s 2ms/step - loss: 0.1550 - accuracy: 0.9449\n",
            "Epoch 227/400\n",
            "103/103 [==============================] - 0s 2ms/step - loss: 0.1479 - accuracy: 0.9474\n",
            "Epoch 228/400\n",
            "103/103 [==============================] - 0s 2ms/step - loss: 0.1482 - accuracy: 0.9452\n",
            "Epoch 229/400\n",
            "103/103 [==============================] - 0s 2ms/step - loss: 0.1798 - accuracy: 0.9333\n",
            "Epoch 230/400\n",
            "103/103 [==============================] - 0s 2ms/step - loss: 0.1574 - accuracy: 0.9391\n",
            "Epoch 231/400\n",
            "103/103 [==============================] - 0s 2ms/step - loss: 0.1518 - accuracy: 0.9504\n",
            "Epoch 232/400\n",
            "103/103 [==============================] - 0s 2ms/step - loss: 0.1574 - accuracy: 0.9385\n",
            "Epoch 233/400\n",
            "103/103 [==============================] - 0s 2ms/step - loss: 0.1566 - accuracy: 0.9428\n",
            "Epoch 234/400\n",
            "103/103 [==============================] - 0s 2ms/step - loss: 0.1645 - accuracy: 0.9360\n",
            "Epoch 235/400\n",
            "103/103 [==============================] - 0s 2ms/step - loss: 0.1698 - accuracy: 0.9360\n",
            "Epoch 236/400\n",
            "103/103 [==============================] - 0s 2ms/step - loss: 0.1560 - accuracy: 0.9397\n",
            "Epoch 237/400\n",
            "103/103 [==============================] - 0s 2ms/step - loss: 0.1572 - accuracy: 0.9394\n",
            "Epoch 238/400\n",
            "103/103 [==============================] - 0s 2ms/step - loss: 0.1602 - accuracy: 0.9394\n",
            "Epoch 239/400\n",
            "103/103 [==============================] - 0s 2ms/step - loss: 0.1652 - accuracy: 0.9348\n",
            "Epoch 240/400\n",
            "103/103 [==============================] - 0s 4ms/step - loss: 0.1573 - accuracy: 0.9391\n",
            "Epoch 241/400\n",
            "103/103 [==============================] - 0s 2ms/step - loss: 0.1506 - accuracy: 0.9434\n",
            "Epoch 242/400\n",
            "103/103 [==============================] - 0s 3ms/step - loss: 0.1446 - accuracy: 0.9465\n",
            "Epoch 243/400\n",
            "103/103 [==============================] - 0s 2ms/step - loss: 0.1563 - accuracy: 0.9416\n",
            "Epoch 244/400\n",
            "103/103 [==============================] - 0s 3ms/step - loss: 0.1646 - accuracy: 0.9354\n",
            "Epoch 245/400\n",
            "103/103 [==============================] - 0s 2ms/step - loss: 0.1629 - accuracy: 0.9412\n",
            "Epoch 246/400\n",
            "103/103 [==============================] - 0s 2ms/step - loss: 0.1618 - accuracy: 0.9412\n",
            "Epoch 247/400\n",
            "103/103 [==============================] - 0s 3ms/step - loss: 0.1619 - accuracy: 0.9388\n",
            "Epoch 248/400\n",
            "103/103 [==============================] - 0s 3ms/step - loss: 0.1548 - accuracy: 0.9465\n",
            "Epoch 249/400\n",
            "103/103 [==============================] - 0s 2ms/step - loss: 0.1603 - accuracy: 0.9388\n",
            "Epoch 250/400\n",
            "103/103 [==============================] - 0s 3ms/step - loss: 0.1556 - accuracy: 0.9412\n",
            "Epoch 251/400\n",
            "103/103 [==============================] - 0s 2ms/step - loss: 0.1442 - accuracy: 0.9471\n",
            "Epoch 252/400\n",
            "103/103 [==============================] - 0s 3ms/step - loss: 0.1571 - accuracy: 0.9452\n",
            "Epoch 253/400\n",
            "103/103 [==============================] - 0s 3ms/step - loss: 0.1554 - accuracy: 0.9461\n",
            "Epoch 254/400\n",
            "103/103 [==============================] - 0s 3ms/step - loss: 0.1451 - accuracy: 0.9422\n",
            "Epoch 255/400\n",
            "103/103 [==============================] - 0s 4ms/step - loss: 0.1544 - accuracy: 0.9422\n",
            "Epoch 256/400\n",
            "103/103 [==============================] - 0s 3ms/step - loss: 0.1488 - accuracy: 0.9455\n",
            "Epoch 257/400\n",
            "103/103 [==============================] - 0s 3ms/step - loss: 0.1655 - accuracy: 0.9376\n",
            "Epoch 258/400\n",
            "103/103 [==============================] - 0s 3ms/step - loss: 0.1397 - accuracy: 0.9489\n",
            "Epoch 259/400\n",
            "103/103 [==============================] - 0s 4ms/step - loss: 0.1461 - accuracy: 0.9458\n",
            "Epoch 260/400\n",
            "103/103 [==============================] - 0s 3ms/step - loss: 0.1386 - accuracy: 0.9477\n",
            "Epoch 261/400\n",
            "103/103 [==============================] - 0s 2ms/step - loss: 0.1444 - accuracy: 0.9425\n",
            "Epoch 262/400\n",
            "103/103 [==============================] - 0s 3ms/step - loss: 0.1426 - accuracy: 0.9446\n",
            "Epoch 263/400\n",
            "103/103 [==============================] - 0s 3ms/step - loss: 0.1467 - accuracy: 0.9465\n",
            "Epoch 264/400\n",
            "103/103 [==============================] - 0s 3ms/step - loss: 0.1343 - accuracy: 0.9480\n",
            "Epoch 265/400\n",
            "103/103 [==============================] - 0s 3ms/step - loss: 0.1466 - accuracy: 0.9382\n",
            "Epoch 266/400\n",
            "103/103 [==============================] - 0s 3ms/step - loss: 0.1435 - accuracy: 0.9492\n",
            "Epoch 267/400\n",
            "103/103 [==============================] - 0s 3ms/step - loss: 0.1420 - accuracy: 0.9434\n",
            "Epoch 268/400\n",
            "103/103 [==============================] - 0s 3ms/step - loss: 0.1534 - accuracy: 0.9409\n",
            "Epoch 269/400\n",
            "103/103 [==============================] - 0s 3ms/step - loss: 0.1482 - accuracy: 0.9443\n",
            "Epoch 270/400\n",
            "103/103 [==============================] - 0s 2ms/step - loss: 0.1397 - accuracy: 0.9495\n",
            "Epoch 271/400\n",
            "103/103 [==============================] - 0s 3ms/step - loss: 0.1390 - accuracy: 0.9501\n",
            "Epoch 272/400\n",
            "103/103 [==============================] - 0s 3ms/step - loss: 0.1656 - accuracy: 0.9388\n",
            "Epoch 273/400\n",
            "103/103 [==============================] - 0s 3ms/step - loss: 0.1438 - accuracy: 0.9437\n",
            "Epoch 274/400\n",
            "103/103 [==============================] - 0s 2ms/step - loss: 0.1455 - accuracy: 0.9446\n",
            "Epoch 275/400\n",
            "103/103 [==============================] - 0s 3ms/step - loss: 0.1313 - accuracy: 0.9504\n",
            "Epoch 276/400\n",
            "103/103 [==============================] - 0s 2ms/step - loss: 0.1428 - accuracy: 0.9477\n",
            "Epoch 277/400\n",
            "103/103 [==============================] - 0s 3ms/step - loss: 0.1302 - accuracy: 0.9553\n",
            "Epoch 278/400\n",
            "103/103 [==============================] - 0s 2ms/step - loss: 0.1352 - accuracy: 0.9526\n",
            "Epoch 279/400\n",
            "103/103 [==============================] - 0s 2ms/step - loss: 0.1314 - accuracy: 0.9526\n",
            "Epoch 280/400\n",
            "103/103 [==============================] - 0s 3ms/step - loss: 0.1439 - accuracy: 0.9461\n",
            "Epoch 281/400\n",
            "103/103 [==============================] - 0s 2ms/step - loss: 0.1512 - accuracy: 0.9425\n",
            "Epoch 282/400\n",
            "103/103 [==============================] - 0s 2ms/step - loss: 0.1551 - accuracy: 0.9412\n",
            "Epoch 283/400\n",
            "103/103 [==============================] - 0s 3ms/step - loss: 0.1462 - accuracy: 0.9458\n",
            "Epoch 284/400\n",
            "103/103 [==============================] - 0s 2ms/step - loss: 0.1621 - accuracy: 0.9354\n",
            "Epoch 285/400\n",
            "103/103 [==============================] - 0s 2ms/step - loss: 0.1387 - accuracy: 0.9504\n",
            "Epoch 286/400\n",
            "103/103 [==============================] - 0s 3ms/step - loss: 0.1469 - accuracy: 0.9397\n",
            "Epoch 287/400\n",
            "103/103 [==============================] - 0s 3ms/step - loss: 0.1364 - accuracy: 0.9520\n",
            "Epoch 288/400\n",
            "103/103 [==============================] - 0s 3ms/step - loss: 0.1328 - accuracy: 0.9495\n",
            "Epoch 289/400\n",
            "103/103 [==============================] - 0s 2ms/step - loss: 0.1482 - accuracy: 0.9465\n",
            "Epoch 290/400\n",
            "103/103 [==============================] - 0s 4ms/step - loss: 0.1360 - accuracy: 0.9477\n",
            "Epoch 291/400\n",
            "103/103 [==============================] - 0s 4ms/step - loss: 0.1380 - accuracy: 0.9501\n",
            "Epoch 292/400\n",
            "103/103 [==============================] - 0s 4ms/step - loss: 0.1333 - accuracy: 0.9510\n",
            "Epoch 293/400\n",
            "103/103 [==============================] - 0s 4ms/step - loss: 0.1461 - accuracy: 0.9443\n",
            "Epoch 294/400\n",
            "103/103 [==============================] - 0s 4ms/step - loss: 0.1505 - accuracy: 0.9455\n",
            "Epoch 295/400\n",
            "103/103 [==============================] - 0s 4ms/step - loss: 0.1349 - accuracy: 0.9529\n",
            "Epoch 296/400\n",
            "103/103 [==============================] - 0s 4ms/step - loss: 0.1399 - accuracy: 0.9495\n",
            "Epoch 297/400\n",
            "103/103 [==============================] - 0s 5ms/step - loss: 0.1327 - accuracy: 0.9523\n",
            "Epoch 298/400\n",
            "103/103 [==============================] - 1s 5ms/step - loss: 0.1361 - accuracy: 0.9468\n",
            "Epoch 299/400\n",
            "103/103 [==============================] - 1s 5ms/step - loss: 0.1424 - accuracy: 0.9465\n",
            "Epoch 300/400\n",
            "103/103 [==============================] - 0s 4ms/step - loss: 0.1480 - accuracy: 0.9428\n",
            "Epoch 301/400\n",
            "103/103 [==============================] - 0s 4ms/step - loss: 0.1463 - accuracy: 0.9471\n",
            "Epoch 302/400\n",
            "103/103 [==============================] - 0s 4ms/step - loss: 0.1438 - accuracy: 0.9431\n",
            "Epoch 303/400\n",
            "103/103 [==============================] - 0s 4ms/step - loss: 0.1342 - accuracy: 0.9513\n",
            "Epoch 304/400\n",
            "103/103 [==============================] - 0s 3ms/step - loss: 0.1287 - accuracy: 0.9492\n",
            "Epoch 305/400\n",
            "103/103 [==============================] - 0s 3ms/step - loss: 0.1388 - accuracy: 0.9504\n",
            "Epoch 306/400\n",
            "103/103 [==============================] - 0s 3ms/step - loss: 0.1287 - accuracy: 0.9507\n",
            "Epoch 307/400\n",
            "103/103 [==============================] - 0s 3ms/step - loss: 0.1314 - accuracy: 0.9495\n",
            "Epoch 308/400\n",
            "103/103 [==============================] - 0s 4ms/step - loss: 0.1427 - accuracy: 0.9465\n",
            "Epoch 309/400\n",
            "103/103 [==============================] - 0s 4ms/step - loss: 0.1421 - accuracy: 0.9446\n",
            "Epoch 310/400\n",
            "103/103 [==============================] - 0s 3ms/step - loss: 0.1158 - accuracy: 0.9578\n",
            "Epoch 311/400\n",
            "103/103 [==============================] - 0s 3ms/step - loss: 0.1616 - accuracy: 0.9379\n",
            "Epoch 312/400\n",
            "103/103 [==============================] - 0s 3ms/step - loss: 0.1322 - accuracy: 0.9461\n",
            "Epoch 313/400\n",
            "103/103 [==============================] - 0s 3ms/step - loss: 0.1368 - accuracy: 0.9507\n",
            "Epoch 314/400\n",
            "103/103 [==============================] - 0s 4ms/step - loss: 0.1305 - accuracy: 0.9550\n",
            "Epoch 315/400\n",
            "103/103 [==============================] - 1s 6ms/step - loss: 0.1272 - accuracy: 0.9526\n",
            "Epoch 316/400\n",
            "103/103 [==============================] - 1s 5ms/step - loss: 0.1385 - accuracy: 0.9480\n",
            "Epoch 317/400\n",
            "103/103 [==============================] - 0s 3ms/step - loss: 0.1379 - accuracy: 0.9498\n",
            "Epoch 318/400\n",
            "103/103 [==============================] - 0s 3ms/step - loss: 0.1232 - accuracy: 0.9562\n",
            "Epoch 319/400\n",
            "103/103 [==============================] - 0s 3ms/step - loss: 0.1371 - accuracy: 0.9468\n",
            "Epoch 320/400\n",
            "103/103 [==============================] - 0s 3ms/step - loss: 0.1262 - accuracy: 0.9553\n",
            "Epoch 321/400\n",
            "103/103 [==============================] - 0s 3ms/step - loss: 0.1207 - accuracy: 0.9556\n",
            "Epoch 322/400\n",
            "103/103 [==============================] - 0s 3ms/step - loss: 0.1282 - accuracy: 0.9507\n",
            "Epoch 323/400\n",
            "103/103 [==============================] - 0s 3ms/step - loss: 0.1223 - accuracy: 0.9535\n",
            "Epoch 324/400\n",
            "103/103 [==============================] - 0s 3ms/step - loss: 0.1334 - accuracy: 0.9517\n",
            "Epoch 325/400\n",
            "103/103 [==============================] - 0s 3ms/step - loss: 0.1273 - accuracy: 0.9553\n",
            "Epoch 326/400\n",
            "103/103 [==============================] - 0s 3ms/step - loss: 0.1453 - accuracy: 0.9474\n",
            "Epoch 327/400\n",
            "103/103 [==============================] - 0s 2ms/step - loss: 0.1433 - accuracy: 0.9498\n",
            "Epoch 328/400\n",
            "103/103 [==============================] - 0s 2ms/step - loss: 0.1299 - accuracy: 0.9556\n",
            "Epoch 329/400\n",
            "103/103 [==============================] - 0s 2ms/step - loss: 0.1447 - accuracy: 0.9452\n",
            "Epoch 330/400\n",
            "103/103 [==============================] - 0s 2ms/step - loss: 0.1439 - accuracy: 0.9458\n",
            "Epoch 331/400\n",
            "103/103 [==============================] - 0s 2ms/step - loss: 0.1312 - accuracy: 0.9556\n",
            "Epoch 332/400\n",
            "103/103 [==============================] - 0s 2ms/step - loss: 0.1378 - accuracy: 0.9517\n",
            "Epoch 333/400\n",
            "103/103 [==============================] - 0s 2ms/step - loss: 0.1161 - accuracy: 0.9556\n",
            "Epoch 334/400\n",
            "103/103 [==============================] - 0s 2ms/step - loss: 0.1174 - accuracy: 0.9553\n",
            "Epoch 335/400\n",
            "103/103 [==============================] - 0s 2ms/step - loss: 0.1232 - accuracy: 0.9538\n",
            "Epoch 336/400\n",
            "103/103 [==============================] - 0s 2ms/step - loss: 0.1282 - accuracy: 0.9501\n",
            "Epoch 337/400\n",
            "103/103 [==============================] - 0s 2ms/step - loss: 0.1246 - accuracy: 0.9575\n",
            "Epoch 338/400\n",
            "103/103 [==============================] - 0s 2ms/step - loss: 0.1284 - accuracy: 0.9504\n",
            "Epoch 339/400\n",
            "103/103 [==============================] - 0s 2ms/step - loss: 0.1159 - accuracy: 0.9547\n",
            "Epoch 340/400\n",
            "103/103 [==============================] - 0s 2ms/step - loss: 0.1322 - accuracy: 0.9513\n",
            "Epoch 341/400\n",
            "103/103 [==============================] - 0s 2ms/step - loss: 0.1194 - accuracy: 0.9578\n",
            "Epoch 342/400\n",
            "103/103 [==============================] - 0s 2ms/step - loss: 0.1239 - accuracy: 0.9538\n",
            "Epoch 343/400\n",
            "103/103 [==============================] - 0s 2ms/step - loss: 0.1231 - accuracy: 0.9532\n",
            "Epoch 344/400\n",
            "103/103 [==============================] - 0s 2ms/step - loss: 0.1340 - accuracy: 0.9498\n",
            "Epoch 345/400\n",
            "103/103 [==============================] - 0s 2ms/step - loss: 0.1145 - accuracy: 0.9593\n",
            "Epoch 346/400\n",
            "103/103 [==============================] - 0s 2ms/step - loss: 0.1224 - accuracy: 0.9553\n",
            "Epoch 347/400\n",
            "103/103 [==============================] - 0s 2ms/step - loss: 0.1150 - accuracy: 0.9553\n",
            "Epoch 348/400\n",
            "103/103 [==============================] - 0s 2ms/step - loss: 0.1253 - accuracy: 0.9517\n",
            "Epoch 349/400\n",
            "103/103 [==============================] - 0s 2ms/step - loss: 0.1175 - accuracy: 0.9575\n",
            "Epoch 350/400\n",
            "103/103 [==============================] - 0s 2ms/step - loss: 0.1324 - accuracy: 0.9526\n",
            "Epoch 351/400\n",
            "103/103 [==============================] - 0s 2ms/step - loss: 0.1175 - accuracy: 0.9602\n",
            "Epoch 352/400\n",
            "103/103 [==============================] - 0s 2ms/step - loss: 0.1197 - accuracy: 0.9541\n",
            "Epoch 353/400\n",
            "103/103 [==============================] - 0s 2ms/step - loss: 0.1212 - accuracy: 0.9547\n",
            "Epoch 354/400\n",
            "103/103 [==============================] - 0s 2ms/step - loss: 0.1273 - accuracy: 0.9480\n",
            "Epoch 355/400\n",
            "103/103 [==============================] - 0s 2ms/step - loss: 0.1127 - accuracy: 0.9605\n",
            "Epoch 356/400\n",
            "103/103 [==============================] - 0s 2ms/step - loss: 0.1310 - accuracy: 0.9507\n",
            "Epoch 357/400\n",
            "103/103 [==============================] - 0s 2ms/step - loss: 0.1207 - accuracy: 0.9569\n",
            "Epoch 358/400\n",
            "103/103 [==============================] - 0s 2ms/step - loss: 0.1257 - accuracy: 0.9532\n",
            "Epoch 359/400\n",
            "103/103 [==============================] - 0s 2ms/step - loss: 0.1284 - accuracy: 0.9517\n",
            "Epoch 360/400\n",
            "103/103 [==============================] - 0s 2ms/step - loss: 0.1199 - accuracy: 0.9569\n",
            "Epoch 361/400\n",
            "103/103 [==============================] - 0s 2ms/step - loss: 0.1307 - accuracy: 0.9501\n",
            "Epoch 362/400\n",
            "103/103 [==============================] - 0s 2ms/step - loss: 0.1347 - accuracy: 0.9498\n",
            "Epoch 363/400\n",
            "103/103 [==============================] - 0s 2ms/step - loss: 0.1254 - accuracy: 0.9556\n",
            "Epoch 364/400\n",
            "103/103 [==============================] - 0s 2ms/step - loss: 0.1106 - accuracy: 0.9614\n",
            "Epoch 365/400\n",
            "103/103 [==============================] - 0s 2ms/step - loss: 0.1298 - accuracy: 0.9507\n",
            "Epoch 366/400\n",
            "103/103 [==============================] - 0s 2ms/step - loss: 0.1329 - accuracy: 0.9553\n",
            "Epoch 367/400\n",
            "103/103 [==============================] - 0s 2ms/step - loss: 0.1160 - accuracy: 0.9587\n",
            "Epoch 368/400\n",
            "103/103 [==============================] - 0s 2ms/step - loss: 0.1183 - accuracy: 0.9541\n",
            "Epoch 369/400\n",
            "103/103 [==============================] - 0s 2ms/step - loss: 0.1204 - accuracy: 0.9547\n",
            "Epoch 370/400\n",
            "103/103 [==============================] - 0s 2ms/step - loss: 0.1326 - accuracy: 0.9520\n",
            "Epoch 371/400\n",
            "103/103 [==============================] - 0s 2ms/step - loss: 0.1154 - accuracy: 0.9575\n",
            "Epoch 372/400\n",
            "103/103 [==============================] - 0s 2ms/step - loss: 0.1120 - accuracy: 0.9599\n",
            "Epoch 373/400\n",
            "103/103 [==============================] - 0s 2ms/step - loss: 0.1003 - accuracy: 0.9642\n",
            "Epoch 374/400\n",
            "103/103 [==============================] - 0s 2ms/step - loss: 0.1131 - accuracy: 0.9642\n",
            "Epoch 375/400\n",
            "103/103 [==============================] - 0s 2ms/step - loss: 0.1152 - accuracy: 0.9575\n",
            "Epoch 376/400\n",
            "103/103 [==============================] - 0s 2ms/step - loss: 0.1018 - accuracy: 0.9614\n",
            "Epoch 377/400\n",
            "103/103 [==============================] - 0s 2ms/step - loss: 0.1154 - accuracy: 0.9602\n",
            "Epoch 378/400\n",
            "103/103 [==============================] - 0s 2ms/step - loss: 0.1130 - accuracy: 0.9581\n",
            "Epoch 379/400\n",
            "103/103 [==============================] - 0s 2ms/step - loss: 0.1249 - accuracy: 0.9513\n",
            "Epoch 380/400\n",
            "103/103 [==============================] - 0s 2ms/step - loss: 0.1163 - accuracy: 0.9556\n",
            "Epoch 381/400\n",
            "103/103 [==============================] - 0s 2ms/step - loss: 0.1163 - accuracy: 0.9587\n",
            "Epoch 382/400\n",
            "103/103 [==============================] - 0s 2ms/step - loss: 0.1155 - accuracy: 0.9569\n",
            "Epoch 383/400\n",
            "103/103 [==============================] - 0s 3ms/step - loss: 0.1055 - accuracy: 0.9572\n",
            "Epoch 384/400\n",
            "103/103 [==============================] - 0s 3ms/step - loss: 0.1268 - accuracy: 0.9529\n",
            "Epoch 385/400\n",
            "103/103 [==============================] - 0s 4ms/step - loss: 0.1216 - accuracy: 0.9532\n",
            "Epoch 386/400\n",
            "103/103 [==============================] - 0s 3ms/step - loss: 0.1135 - accuracy: 0.9569\n",
            "Epoch 387/400\n",
            "103/103 [==============================] - 0s 3ms/step - loss: 0.1073 - accuracy: 0.9608\n",
            "Epoch 388/400\n",
            "103/103 [==============================] - 0s 2ms/step - loss: 0.1166 - accuracy: 0.9596\n",
            "Epoch 389/400\n",
            "103/103 [==============================] - 0s 3ms/step - loss: 0.1171 - accuracy: 0.9584\n",
            "Epoch 390/400\n",
            "103/103 [==============================] - 0s 3ms/step - loss: 0.1127 - accuracy: 0.9593\n",
            "Epoch 391/400\n",
            "103/103 [==============================] - 0s 3ms/step - loss: 0.1101 - accuracy: 0.9608\n",
            "Epoch 392/400\n",
            "103/103 [==============================] - 0s 3ms/step - loss: 0.1227 - accuracy: 0.9575\n",
            "Epoch 393/400\n",
            "103/103 [==============================] - 0s 3ms/step - loss: 0.1148 - accuracy: 0.9565\n",
            "Epoch 394/400\n",
            "103/103 [==============================] - 0s 2ms/step - loss: 0.1107 - accuracy: 0.9651\n",
            "Epoch 395/400\n",
            "103/103 [==============================] - 0s 3ms/step - loss: 0.1253 - accuracy: 0.9535\n",
            "Epoch 396/400\n",
            "103/103 [==============================] - 0s 3ms/step - loss: 0.1179 - accuracy: 0.9593\n",
            "Epoch 397/400\n",
            "103/103 [==============================] - 0s 3ms/step - loss: 0.1197 - accuracy: 0.9596\n",
            "Epoch 398/400\n",
            "103/103 [==============================] - 0s 3ms/step - loss: 0.1171 - accuracy: 0.9544\n",
            "Epoch 399/400\n",
            "103/103 [==============================] - 0s 3ms/step - loss: 0.1067 - accuracy: 0.9587\n",
            "Epoch 400/400\n",
            "103/103 [==============================] - 0s 2ms/step - loss: 0.1167 - accuracy: 0.9572\n"
          ]
        },
        {
          "output_type": "execute_result",
          "data": {
            "text/plain": [
              "<keras.callbacks.History at 0x7f5f33e83210>"
            ]
          },
          "metadata": {},
          "execution_count": 37
        }
      ]
    },
    {
      "cell_type": "code",
      "source": [
        "y_train"
      ],
      "metadata": {
        "colab": {
          "base_uri": "https://localhost:8080/"
        },
        "id": "qo88gmHynDRa",
        "outputId": "6a40759d-8927-40e4-c605-956d72e0125d"
      },
      "execution_count": null,
      "outputs": [
        {
          "output_type": "execute_result",
          "data": {
            "text/plain": [
              "array([[1., 0., 0., 0., 0., 0.],\n",
              "       [0., 1., 0., 0., 0., 0.],\n",
              "       [0., 1., 0., 0., 0., 0.],\n",
              "       ...,\n",
              "       [0., 0., 1., 0., 0., 0.],\n",
              "       [0., 0., 0., 0., 0., 1.],\n",
              "       [0., 0., 0., 0., 1., 0.]], dtype=float32)"
            ]
          },
          "metadata": {},
          "execution_count": 38
        }
      ]
    },
    {
      "cell_type": "markdown",
      "source": [
        "# MODEL PREDICTING..."
      ],
      "metadata": {
        "id": "l1WSFkWqyuHA"
      }
    },
    {
      "cell_type": "code",
      "source": [
        "y_pred=model.predict(x_test)\n",
        "y_pred"
      ],
      "metadata": {
        "colab": {
          "base_uri": "https://localhost:8080/"
        },
        "id": "d5XBYzM5nUCI",
        "outputId": "d11c79a5-b255-4ff0-d7f8-c4c5137cb31c"
      },
      "execution_count": null,
      "outputs": [
        {
          "output_type": "execute_result",
          "data": {
            "text/plain": [
              "array([[3.6075256e-17, 2.7585097e-06, 9.1135073e-01, 8.8644348e-02,\n",
              "        2.1338565e-06, 1.7907966e-29],\n",
              "       [3.1489617e-26, 1.9971099e-18, 9.0756178e-01, 9.2438169e-02,\n",
              "        3.6722300e-15, 8.3263950e-35],\n",
              "       [3.7099164e-21, 2.8977401e-29, 7.6517659e-05, 6.8019979e-02,\n",
              "        9.3190354e-01, 3.7330631e-25],\n",
              "       ...,\n",
              "       [9.9991620e-01, 4.9195510e-09, 8.3744344e-05, 5.5178405e-12,\n",
              "        1.3269720e-12, 0.0000000e+00],\n",
              "       [4.7468375e-17, 9.9999976e-01, 2.7848603e-07, 4.2206933e-13,\n",
              "        5.5505705e-31, 3.3611293e-36],\n",
              "       [3.0294884e-27, 7.2943373e-26, 9.8827565e-01, 1.1724417e-02,\n",
              "        1.2431126e-15, 2.8538692e-25]], dtype=float32)"
            ]
          },
          "metadata": {},
          "execution_count": 41
        }
      ]
    },
    {
      "cell_type": "code",
      "source": [
        "y_pred=np.argmax(y_pred,axis=1)\n",
        "y_pred"
      ],
      "metadata": {
        "colab": {
          "base_uri": "https://localhost:8080/"
        },
        "id": "nHei3G8tnhAx",
        "outputId": "2b40738d-a604-401e-c53d-68accdb8d04f"
      },
      "execution_count": null,
      "outputs": [
        {
          "output_type": "execute_result",
          "data": {
            "text/plain": [
              "array([2, 2, 4, 4, 1, 1, 2, 4, 2, 2, 5, 4, 2, 0, 5, 2, 2, 3, 5, 1, 3, 0,\n",
              "       2, 3, 3, 0, 3, 0, 3, 5, 2, 0, 5, 3, 0, 3, 2, 5, 2, 4, 5, 5, 3, 4,\n",
              "       3, 1, 4, 3, 1, 5, 4, 3, 2, 3, 2, 0, 1, 4, 1, 3, 3, 1, 3, 0, 5, 1,\n",
              "       0, 4, 4, 3, 1, 0, 2, 4, 1, 2, 1, 1, 4, 0, 5, 3, 3, 3, 2, 5, 5, 2,\n",
              "       5, 1, 0, 3, 3, 2, 3, 3, 1, 4, 5, 5, 1, 5, 2, 2, 3, 1, 2, 0, 4, 4,\n",
              "       2, 1, 4, 3, 2, 2, 0, 5, 1, 2, 2, 3, 4, 2, 3, 4, 2, 4, 2, 0, 4, 4,\n",
              "       2, 0, 1, 0, 5, 2, 2, 0, 4, 2, 2, 3, 4, 5, 4, 4, 5, 1, 1, 2, 1, 2,\n",
              "       1, 1, 0, 5, 4, 5, 1, 0, 5, 3, 4, 0, 5, 3, 1, 1, 1, 5, 1, 1, 5, 4,\n",
              "       1, 0, 3, 1, 1, 3, 5, 5, 4, 4, 2, 4, 3, 4, 4, 3, 3, 4, 3, 1, 1, 0,\n",
              "       2, 5, 4, 5, 0, 1, 0, 4, 1, 2, 1, 3, 5, 4, 3, 2, 5, 4, 1, 2, 4, 0,\n",
              "       2, 0, 5, 5, 4, 0, 2, 0, 3, 5, 4, 1, 5, 1, 2, 3, 5, 4, 1, 1, 4, 5,\n",
              "       0, 1, 2, 3, 1, 3, 3, 4, 1, 3, 3, 5, 1, 4, 2, 1, 2, 2, 1, 4, 0, 3,\n",
              "       3, 0, 4, 4, 5, 0, 4, 1, 3, 3, 0, 3, 2, 4, 0, 5, 2, 5, 2, 4, 2, 2,\n",
              "       0, 1, 1, 5, 5, 0, 1, 2, 4, 0, 0, 2, 4, 1, 3, 5, 1, 4, 1, 1, 2, 0,\n",
              "       3, 2, 5, 2, 4, 1, 0, 4, 2, 1, 1, 4, 0, 4, 3, 1, 5, 3, 1, 5, 3, 5,\n",
              "       2, 0, 5, 3, 3, 4, 3, 3, 2, 0, 0, 2, 0, 5, 5, 3, 5, 2, 4, 5, 5, 0,\n",
              "       2, 0, 1, 5, 5, 1, 2, 3, 5, 0, 4, 0, 4, 1, 4, 5, 2, 0, 1, 2, 5, 4,\n",
              "       4, 1, 2, 0, 2, 5, 4, 3, 0, 0, 4, 3, 1, 1, 3, 0, 0, 2, 0, 5, 5, 0,\n",
              "       2, 5, 3, 1, 0, 4, 3, 4, 2, 3, 4, 2, 1, 3, 2, 0, 3, 5, 2, 1, 0, 1,\n",
              "       2, 0, 0, 5, 0, 4, 2, 3, 0, 2, 4, 2, 2, 2, 4, 4, 3, 3, 4, 5, 1, 0,\n",
              "       1, 4, 4, 1, 5, 0, 3, 2, 4, 4, 1, 5, 5, 0, 3, 5, 5, 3, 2, 3, 5, 1,\n",
              "       4, 0, 0, 1, 2, 5, 0, 0, 3, 3, 0, 0, 2, 0, 1, 5, 0, 4, 2, 1, 5, 5,\n",
              "       2, 3, 0, 4, 3, 1, 1, 1, 2, 2, 1, 3, 2, 1, 4, 0, 4, 3, 1, 2, 0, 3,\n",
              "       3, 5, 0, 4, 0, 2, 5, 5, 5, 5, 5, 5, 4, 1, 4, 1, 4, 4, 3, 4, 5, 2,\n",
              "       2, 0, 0, 1, 2, 5, 1, 3, 1, 4, 5, 0, 4, 3, 0, 1, 5, 3, 2, 2, 2, 2,\n",
              "       2, 0, 4, 5, 0, 3, 4, 0, 2, 4, 2, 1, 2, 0, 5, 3, 3, 5, 4, 0, 4, 5,\n",
              "       4, 5, 2, 2, 4, 3, 2, 5, 3, 4, 5, 0, 1, 2, 0, 0, 4, 0, 2, 2, 2, 3,\n",
              "       0, 5, 2, 2, 3, 2, 4, 5, 1, 0, 0, 2, 5, 5, 1, 2, 3, 1, 5, 4, 2, 5,\n",
              "       5, 0, 4, 4, 1, 3, 5, 0, 1, 1, 2, 1, 2, 1, 5, 5, 1, 2, 0, 3, 2, 3,\n",
              "       3, 4, 4, 4, 2, 1, 1, 5, 0, 2, 4, 3, 3, 3, 3, 3, 3, 0, 5, 2, 0, 3,\n",
              "       0, 0, 2, 1, 3, 2, 4, 4, 5, 4, 4, 5, 3, 4, 2, 3, 0, 1, 2, 0, 0, 3,\n",
              "       2, 0, 3, 1, 0, 3, 0, 1, 5, 1, 5, 1, 4, 3, 2, 1, 5, 2, 3, 4, 2, 1,\n",
              "       1, 0, 3, 4, 5, 1, 5, 1, 4, 0, 0, 0, 2, 0, 5, 2, 0, 4, 3, 1, 2, 1,\n",
              "       2, 0, 1, 4, 0, 5, 0, 5, 4, 0, 4, 3, 2, 5, 2, 0, 2, 0, 3, 0, 0, 4,\n",
              "       1, 1, 2, 5, 4, 3, 0, 0, 0, 2, 0, 5, 5, 1, 3, 4, 4, 4, 2, 2, 0, 5,\n",
              "       3, 1, 4, 3, 5, 4, 1, 0, 1, 5, 2, 2, 0, 3, 5, 3, 4, 5, 2, 0, 4, 4,\n",
              "       2, 2, 2, 0, 0, 5, 5, 2, 5, 5, 2, 2, 4, 5, 2, 1, 2, 1, 5, 5, 1, 2,\n",
              "       3, 0, 1, 2])"
            ]
          },
          "metadata": {},
          "execution_count": 42
        }
      ]
    },
    {
      "cell_type": "code",
      "source": [
        "y_test=np.argmax(y_test,axis=1)\n",
        "y_test"
      ],
      "metadata": {
        "colab": {
          "base_uri": "https://localhost:8080/"
        },
        "id": "6bdEHn0ionvT",
        "outputId": "66f66fb9-97d6-485c-f0e2-79dd5072975a"
      },
      "execution_count": null,
      "outputs": [
        {
          "output_type": "execute_result",
          "data": {
            "text/plain": [
              "array([3, 2, 4, 4, 1, 1, 2, 3, 2, 3, 5, 4, 2, 0, 5, 3, 2, 2, 5, 1, 3, 0,\n",
              "       2, 3, 1, 0, 3, 0, 2, 5, 2, 0, 5, 3, 0, 3, 2, 5, 2, 4, 5, 5, 3, 4,\n",
              "       4, 2, 4, 2, 1, 5, 3, 3, 2, 3, 3, 0, 1, 4, 1, 3, 3, 1, 3, 0, 5, 1,\n",
              "       0, 4, 4, 3, 1, 0, 2, 4, 1, 2, 1, 1, 4, 0, 5, 3, 2, 3, 3, 5, 5, 2,\n",
              "       5, 1, 0, 3, 3, 2, 3, 3, 3, 4, 5, 5, 1, 5, 2, 2, 3, 1, 3, 0, 4, 4,\n",
              "       3, 1, 4, 3, 2, 3, 0, 5, 1, 2, 2, 2, 3, 2, 3, 4, 2, 4, 2, 0, 4, 4,\n",
              "       2, 0, 1, 0, 5, 2, 3, 0, 4, 2, 3, 3, 4, 5, 4, 3, 5, 1, 1, 2, 1, 2,\n",
              "       1, 1, 0, 5, 4, 5, 1, 0, 5, 3, 4, 0, 5, 3, 1, 1, 1, 5, 1, 1, 5, 3,\n",
              "       3, 0, 3, 1, 1, 2, 5, 5, 4, 4, 2, 4, 2, 4, 2, 3, 2, 4, 3, 1, 1, 0,\n",
              "       1, 5, 4, 5, 0, 1, 0, 4, 1, 2, 1, 3, 5, 4, 2, 3, 5, 4, 1, 2, 4, 0,\n",
              "       2, 0, 5, 5, 4, 0, 2, 0, 3, 5, 4, 1, 5, 1, 2, 3, 5, 4, 1, 1, 4, 5,\n",
              "       0, 1, 3, 3, 1, 2, 3, 4, 1, 3, 3, 5, 1, 4, 2, 1, 2, 2, 1, 4, 0, 3,\n",
              "       3, 0, 4, 4, 5, 0, 4, 1, 3, 3, 0, 3, 3, 3, 0, 5, 2, 5, 2, 3, 2, 2,\n",
              "       0, 1, 1, 5, 5, 0, 1, 2, 4, 0, 0, 2, 4, 1, 3, 5, 1, 4, 1, 1, 3, 0,\n",
              "       3, 2, 5, 3, 4, 1, 0, 3, 2, 1, 1, 4, 0, 4, 3, 1, 5, 3, 1, 5, 3, 5,\n",
              "       2, 0, 5, 3, 3, 5, 3, 3, 2, 0, 0, 3, 0, 5, 5, 3, 5, 2, 4, 5, 5, 0,\n",
              "       2, 0, 1, 5, 5, 1, 2, 2, 5, 2, 4, 0, 3, 1, 4, 5, 3, 0, 1, 2, 5, 3,\n",
              "       4, 1, 2, 0, 2, 5, 4, 4, 0, 0, 2, 3, 1, 1, 2, 0, 0, 3, 0, 5, 5, 0,\n",
              "       2, 5, 3, 1, 0, 3, 2, 3, 2, 3, 4, 2, 1, 3, 2, 0, 3, 5, 2, 1, 0, 1,\n",
              "       2, 0, 0, 5, 0, 4, 2, 2, 0, 2, 4, 3, 3, 2, 4, 4, 4, 3, 4, 5, 1, 0,\n",
              "       1, 4, 4, 1, 5, 0, 3, 2, 4, 4, 1, 5, 5, 0, 2, 5, 5, 3, 3, 3, 5, 1,\n",
              "       4, 0, 0, 1, 2, 5, 0, 0, 3, 3, 0, 0, 2, 0, 1, 5, 0, 3, 3, 1, 5, 5,\n",
              "       2, 3, 0, 4, 3, 1, 1, 1, 2, 2, 1, 3, 3, 1, 4, 0, 4, 2, 1, 2, 0, 3,\n",
              "       3, 5, 2, 4, 0, 2, 5, 5, 5, 5, 5, 5, 4, 1, 4, 1, 4, 4, 1, 4, 5, 2,\n",
              "       2, 0, 0, 1, 2, 5, 1, 2, 1, 2, 5, 0, 4, 3, 0, 1, 5, 2, 2, 2, 2, 3,\n",
              "       2, 0, 3, 5, 2, 3, 4, 0, 2, 4, 2, 1, 1, 0, 5, 3, 3, 5, 4, 0, 4, 5,\n",
              "       4, 5, 3, 2, 4, 2, 3, 5, 3, 4, 5, 0, 1, 2, 0, 0, 4, 0, 4, 2, 2, 3,\n",
              "       0, 5, 2, 2, 2, 2, 4, 5, 1, 0, 0, 2, 5, 5, 4, 2, 3, 1, 5, 3, 3, 5,\n",
              "       5, 0, 4, 4, 1, 3, 5, 0, 1, 1, 2, 1, 2, 1, 5, 5, 1, 2, 0, 3, 2, 2,\n",
              "       2, 4, 3, 4, 2, 1, 1, 5, 0, 2, 4, 3, 3, 3, 3, 3, 3, 0, 5, 2, 0, 3,\n",
              "       0, 0, 2, 1, 3, 3, 4, 4, 5, 4, 4, 5, 3, 4, 2, 3, 0, 1, 3, 0, 0, 3,\n",
              "       2, 0, 3, 1, 0, 3, 0, 1, 5, 1, 5, 1, 4, 3, 2, 1, 5, 2, 3, 4, 3, 1,\n",
              "       1, 0, 3, 4, 5, 1, 5, 1, 4, 0, 0, 0, 2, 0, 5, 2, 0, 4, 4, 1, 2, 1,\n",
              "       2, 0, 1, 4, 0, 5, 0, 5, 3, 0, 4, 3, 2, 3, 2, 0, 1, 0, 3, 0, 0, 4,\n",
              "       1, 1, 2, 5, 4, 3, 0, 0, 0, 2, 2, 5, 5, 1, 3, 4, 4, 4, 2, 2, 0, 5,\n",
              "       3, 1, 4, 3, 5, 4, 1, 0, 1, 5, 3, 3, 0, 3, 5, 3, 3, 5, 3, 0, 3, 2,\n",
              "       2, 3, 2, 0, 0, 5, 5, 2, 5, 5, 2, 2, 4, 5, 3, 1, 2, 2, 5, 5, 1, 2,\n",
              "       2, 0, 1, 2])"
            ]
          },
          "metadata": {},
          "execution_count": 43
        }
      ]
    },
    {
      "cell_type": "markdown",
      "source": [
        "# CALCULATING MODEL'S ACCURACY"
      ],
      "metadata": {
        "id": "AlhPhUL-yzUs"
      }
    },
    {
      "cell_type": "code",
      "source": [
        "from sklearn.metrics import accuracy_score\n",
        "accuracy_score(y_test,y_pred)*100"
      ],
      "metadata": {
        "colab": {
          "base_uri": "https://localhost:8080/"
        },
        "id": "yXa2LJi_oDwT",
        "outputId": "31645f6a-8a8c-4275-f026-4fc4240675ad"
      },
      "execution_count": null,
      "outputs": [
        {
          "output_type": "execute_result",
          "data": {
            "text/plain": [
              "87.53056234718827"
            ]
          },
          "metadata": {},
          "execution_count": 44
        }
      ]
    },
    {
      "cell_type": "code",
      "source": [
        "from sklearn.metrics import classification_report\n",
        "print(classification_report(y_pred,y_test))"
      ],
      "metadata": {
        "colab": {
          "base_uri": "https://localhost:8080/"
        },
        "id": "cAc0z8cWoOS1",
        "outputId": "99f3861a-ebd7-479c-dc17-726f192a0d56"
      },
      "execution_count": null,
      "outputs": [
        {
          "output_type": "stream",
          "name": "stdout",
          "text": [
            "              precision    recall  f1-score   support\n",
            "\n",
            "           0       1.00      0.97      0.99       136\n",
            "           1       0.96      0.96      0.96       131\n",
            "           2       0.78      0.75      0.76       156\n",
            "           3       0.63      0.77      0.70       127\n",
            "           4       0.95      0.82      0.88       134\n",
            "           5       0.99      0.99      0.99       134\n",
            "\n",
            "    accuracy                           0.88       818\n",
            "   macro avg       0.89      0.88      0.88       818\n",
            "weighted avg       0.89      0.88      0.88       818\n",
            "\n"
          ]
        }
      ]
    },
    {
      "cell_type": "markdown",
      "source": [
        "# EXPERIMENTING WITH VARIATIONS IN ANN MODEL TO SEE IF ACCURACY COULD BE IMPROVED"
      ],
      "metadata": {
        "id": "6CsFxqUYzIAy"
      }
    },
    {
      "cell_type": "code",
      "source": [
        "### FOR EXPERIMENTING\n",
        "from sklearn.model_selection import train_test_split\n",
        "x_train,x_test,y_train,y_test=train_test_split(x_sm,y_sm,test_size=0.2,random_state=42)"
      ],
      "metadata": {
        "id": "szFpQW5ArXcg"
      },
      "execution_count": null,
      "outputs": []
    },
    {
      "cell_type": "code",
      "source": [
        "from sklearn.preprocessing import LabelEncoder\n",
        "le=LabelEncoder()\n",
        "y_train=le.fit_transform(y_train)\n",
        "y_test=le.fit_transform(y_test)\n",
        "y_train=pd.DataFrame(y_train.reshape(len(y_train),1))\n",
        "y_test=pd.DataFrame(y_test.reshape(len(y_test),1))\n",
        "y_train"
      ],
      "metadata": {
        "colab": {
          "base_uri": "https://localhost:8080/",
          "height": 424
        },
        "id": "bkLufFnBreue",
        "outputId": "930c75b9-1de1-4f1e-90d3-0ab97d7f5df4"
      },
      "execution_count": null,
      "outputs": [
        {
          "output_type": "execute_result",
          "data": {
            "text/plain": [
              "      0\n",
              "0     0\n",
              "1     1\n",
              "2     1\n",
              "3     0\n",
              "4     2\n",
              "...  ..\n",
              "3263  3\n",
              "3264  3\n",
              "3265  2\n",
              "3266  5\n",
              "3267  4\n",
              "\n",
              "[3268 rows x 1 columns]"
            ],
            "text/html": [
              "\n",
              "  <div id=\"df-abba606c-4289-4c20-88c6-0cf0fd0cea3e\">\n",
              "    <div class=\"colab-df-container\">\n",
              "      <div>\n",
              "<style scoped>\n",
              "    .dataframe tbody tr th:only-of-type {\n",
              "        vertical-align: middle;\n",
              "    }\n",
              "\n",
              "    .dataframe tbody tr th {\n",
              "        vertical-align: top;\n",
              "    }\n",
              "\n",
              "    .dataframe thead th {\n",
              "        text-align: right;\n",
              "    }\n",
              "</style>\n",
              "<table border=\"1\" class=\"dataframe\">\n",
              "  <thead>\n",
              "    <tr style=\"text-align: right;\">\n",
              "      <th></th>\n",
              "      <th>0</th>\n",
              "    </tr>\n",
              "  </thead>\n",
              "  <tbody>\n",
              "    <tr>\n",
              "      <th>0</th>\n",
              "      <td>0</td>\n",
              "    </tr>\n",
              "    <tr>\n",
              "      <th>1</th>\n",
              "      <td>1</td>\n",
              "    </tr>\n",
              "    <tr>\n",
              "      <th>2</th>\n",
              "      <td>1</td>\n",
              "    </tr>\n",
              "    <tr>\n",
              "      <th>3</th>\n",
              "      <td>0</td>\n",
              "    </tr>\n",
              "    <tr>\n",
              "      <th>4</th>\n",
              "      <td>2</td>\n",
              "    </tr>\n",
              "    <tr>\n",
              "      <th>...</th>\n",
              "      <td>...</td>\n",
              "    </tr>\n",
              "    <tr>\n",
              "      <th>3263</th>\n",
              "      <td>3</td>\n",
              "    </tr>\n",
              "    <tr>\n",
              "      <th>3264</th>\n",
              "      <td>3</td>\n",
              "    </tr>\n",
              "    <tr>\n",
              "      <th>3265</th>\n",
              "      <td>2</td>\n",
              "    </tr>\n",
              "    <tr>\n",
              "      <th>3266</th>\n",
              "      <td>5</td>\n",
              "    </tr>\n",
              "    <tr>\n",
              "      <th>3267</th>\n",
              "      <td>4</td>\n",
              "    </tr>\n",
              "  </tbody>\n",
              "</table>\n",
              "<p>3268 rows × 1 columns</p>\n",
              "</div>\n",
              "      <button class=\"colab-df-convert\" onclick=\"convertToInteractive('df-abba606c-4289-4c20-88c6-0cf0fd0cea3e')\"\n",
              "              title=\"Convert this dataframe to an interactive table.\"\n",
              "              style=\"display:none;\">\n",
              "        \n",
              "  <svg xmlns=\"http://www.w3.org/2000/svg\" height=\"24px\"viewBox=\"0 0 24 24\"\n",
              "       width=\"24px\">\n",
              "    <path d=\"M0 0h24v24H0V0z\" fill=\"none\"/>\n",
              "    <path d=\"M18.56 5.44l.94 2.06.94-2.06 2.06-.94-2.06-.94-.94-2.06-.94 2.06-2.06.94zm-11 1L8.5 8.5l.94-2.06 2.06-.94-2.06-.94L8.5 2.5l-.94 2.06-2.06.94zm10 10l.94 2.06.94-2.06 2.06-.94-2.06-.94-.94-2.06-.94 2.06-2.06.94z\"/><path d=\"M17.41 7.96l-1.37-1.37c-.4-.4-.92-.59-1.43-.59-.52 0-1.04.2-1.43.59L10.3 9.45l-7.72 7.72c-.78.78-.78 2.05 0 2.83L4 21.41c.39.39.9.59 1.41.59.51 0 1.02-.2 1.41-.59l7.78-7.78 2.81-2.81c.8-.78.8-2.07 0-2.86zM5.41 20L4 18.59l7.72-7.72 1.47 1.35L5.41 20z\"/>\n",
              "  </svg>\n",
              "      </button>\n",
              "      \n",
              "  <style>\n",
              "    .colab-df-container {\n",
              "      display:flex;\n",
              "      flex-wrap:wrap;\n",
              "      gap: 12px;\n",
              "    }\n",
              "\n",
              "    .colab-df-convert {\n",
              "      background-color: #E8F0FE;\n",
              "      border: none;\n",
              "      border-radius: 50%;\n",
              "      cursor: pointer;\n",
              "      display: none;\n",
              "      fill: #1967D2;\n",
              "      height: 32px;\n",
              "      padding: 0 0 0 0;\n",
              "      width: 32px;\n",
              "    }\n",
              "\n",
              "    .colab-df-convert:hover {\n",
              "      background-color: #E2EBFA;\n",
              "      box-shadow: 0px 1px 2px rgba(60, 64, 67, 0.3), 0px 1px 3px 1px rgba(60, 64, 67, 0.15);\n",
              "      fill: #174EA6;\n",
              "    }\n",
              "\n",
              "    [theme=dark] .colab-df-convert {\n",
              "      background-color: #3B4455;\n",
              "      fill: #D2E3FC;\n",
              "    }\n",
              "\n",
              "    [theme=dark] .colab-df-convert:hover {\n",
              "      background-color: #434B5C;\n",
              "      box-shadow: 0px 1px 3px 1px rgba(0, 0, 0, 0.15);\n",
              "      filter: drop-shadow(0px 1px 2px rgba(0, 0, 0, 0.3));\n",
              "      fill: #FFFFFF;\n",
              "    }\n",
              "  </style>\n",
              "\n",
              "      <script>\n",
              "        const buttonEl =\n",
              "          document.querySelector('#df-abba606c-4289-4c20-88c6-0cf0fd0cea3e button.colab-df-convert');\n",
              "        buttonEl.style.display =\n",
              "          google.colab.kernel.accessAllowed ? 'block' : 'none';\n",
              "\n",
              "        async function convertToInteractive(key) {\n",
              "          const element = document.querySelector('#df-abba606c-4289-4c20-88c6-0cf0fd0cea3e');\n",
              "          const dataTable =\n",
              "            await google.colab.kernel.invokeFunction('convertToInteractive',\n",
              "                                                     [key], {});\n",
              "          if (!dataTable) return;\n",
              "\n",
              "          const docLinkHtml = 'Like what you see? Visit the ' +\n",
              "            '<a target=\"_blank\" href=https://colab.research.google.com/notebooks/data_table.ipynb>data table notebook</a>'\n",
              "            + ' to learn more about interactive tables.';\n",
              "          element.innerHTML = '';\n",
              "          dataTable['output_type'] = 'display_data';\n",
              "          await google.colab.output.renderOutput(dataTable, element);\n",
              "          const docLink = document.createElement('div');\n",
              "          docLink.innerHTML = docLinkHtml;\n",
              "          element.appendChild(docLink);\n",
              "        }\n",
              "      </script>\n",
              "    </div>\n",
              "  </div>\n",
              "  "
            ]
          },
          "metadata": {},
          "execution_count": 103
        }
      ]
    },
    {
      "cell_type": "code",
      "source": [
        "y_train=tensorflow.keras.utils.to_categorical(y_train,6)\n",
        "y_test=tensorflow.keras.utils.to_categorical(y_test,6)"
      ],
      "metadata": {
        "id": "wSUY8ZairyZ2"
      },
      "execution_count": null,
      "outputs": []
    },
    {
      "cell_type": "code",
      "source": [
        "### EXPERIMENTING\n",
        "model2=Sequential()\n",
        "model2.add(tensorflow.keras.layers.Input(shape=11,))\n",
        "model2.add(tensorflow.keras.layers.Dense(50,activation='relu'))\n",
        "model2.add(tensorflow.keras.layers.Dense(100,activation='tanh'))\n",
        "#model2.add(tensorflow.keras.layers.Dense(120,activation='tanh'))\n",
        "#model2.add(tensorflow.keras.layers.Dropout(0.4))  #we lose some of info (30%) so as to avoid overfitting\n",
        "#model2.add(tensorflow.keras.layers.Dense(140,activation='relu'))\n",
        "model2.add(tensorflow.keras.layers.Dropout(0.49))\n",
        "model2.add(tensorflow.keras.layers.Dense(120,activation='relu')) # we add another hidden layer with 128 neurons\n",
        "model2.add(tensorflow.keras.layers.Dense(6,activation='sigmoid')) # since softmax & sigmoid are for o/p layers.. this will be taken as last layer"
      ],
      "metadata": {
        "id": "9jUJ9ExDo3gk"
      },
      "execution_count": null,
      "outputs": []
    },
    {
      "cell_type": "code",
      "source": [
        "model2.compile(optimizer='adam',loss='categorical_crossentropy',metrics=['accuracy'])\n",
        "model2.fit(x_train,y_train,epochs=100,verbose=1)"
      ],
      "metadata": {
        "colab": {
          "base_uri": "https://localhost:8080/"
        },
        "id": "99QG7aE8r6tB",
        "outputId": "c60d9524-d913-4ad9-ed0d-4906eeb0b1c4"
      },
      "execution_count": null,
      "outputs": [
        {
          "output_type": "stream",
          "name": "stdout",
          "text": [
            "Epoch 1/100\n",
            "103/103 [==============================] - 1s 2ms/step - loss: 1.2842 - accuracy: 0.4706\n",
            "Epoch 2/100\n",
            "103/103 [==============================] - 0s 2ms/step - loss: 1.0124 - accuracy: 0.5793\n",
            "Epoch 3/100\n",
            "103/103 [==============================] - 0s 2ms/step - loss: 0.9209 - accuracy: 0.6239\n",
            "Epoch 4/100\n",
            "103/103 [==============================] - 0s 2ms/step - loss: 0.8481 - accuracy: 0.6597\n",
            "Epoch 5/100\n",
            "103/103 [==============================] - 0s 2ms/step - loss: 0.7907 - accuracy: 0.6799\n",
            "Epoch 6/100\n",
            "103/103 [==============================] - 0s 2ms/step - loss: 0.7622 - accuracy: 0.7023\n",
            "Epoch 7/100\n",
            "103/103 [==============================] - 0s 2ms/step - loss: 0.7127 - accuracy: 0.7225\n",
            "Epoch 8/100\n",
            "103/103 [==============================] - 0s 2ms/step - loss: 0.6989 - accuracy: 0.7191\n",
            "Epoch 9/100\n",
            "103/103 [==============================] - 0s 2ms/step - loss: 0.6757 - accuracy: 0.7283\n",
            "Epoch 10/100\n",
            "103/103 [==============================] - 0s 2ms/step - loss: 0.6514 - accuracy: 0.7433\n",
            "Epoch 11/100\n",
            "103/103 [==============================] - 0s 2ms/step - loss: 0.6317 - accuracy: 0.7488\n",
            "Epoch 12/100\n",
            "103/103 [==============================] - 0s 2ms/step - loss: 0.6295 - accuracy: 0.7561\n",
            "Epoch 13/100\n",
            "103/103 [==============================] - 0s 2ms/step - loss: 0.6143 - accuracy: 0.7598\n",
            "Epoch 14/100\n",
            "103/103 [==============================] - 0s 2ms/step - loss: 0.5904 - accuracy: 0.7699\n",
            "Epoch 15/100\n",
            "103/103 [==============================] - 0s 2ms/step - loss: 0.5791 - accuracy: 0.7699\n",
            "Epoch 16/100\n",
            "103/103 [==============================] - 0s 2ms/step - loss: 0.5657 - accuracy: 0.7763\n",
            "Epoch 17/100\n",
            "103/103 [==============================] - 0s 2ms/step - loss: 0.5612 - accuracy: 0.7757\n",
            "Epoch 18/100\n",
            "103/103 [==============================] - 0s 2ms/step - loss: 0.5463 - accuracy: 0.7800\n",
            "Epoch 19/100\n",
            "103/103 [==============================] - 0s 2ms/step - loss: 0.5417 - accuracy: 0.7901\n",
            "Epoch 20/100\n",
            "103/103 [==============================] - 0s 2ms/step - loss: 0.5358 - accuracy: 0.7827\n",
            "Epoch 21/100\n",
            "103/103 [==============================] - 0s 2ms/step - loss: 0.5287 - accuracy: 0.7855\n",
            "Epoch 22/100\n",
            "103/103 [==============================] - 0s 2ms/step - loss: 0.5110 - accuracy: 0.7953\n",
            "Epoch 23/100\n",
            "103/103 [==============================] - 0s 2ms/step - loss: 0.5088 - accuracy: 0.7959\n",
            "Epoch 24/100\n",
            "103/103 [==============================] - 0s 2ms/step - loss: 0.5027 - accuracy: 0.7980\n",
            "Epoch 25/100\n",
            "103/103 [==============================] - 0s 2ms/step - loss: 0.4940 - accuracy: 0.8045\n",
            "Epoch 26/100\n",
            "103/103 [==============================] - 0s 2ms/step - loss: 0.4896 - accuracy: 0.8011\n",
            "Epoch 27/100\n",
            "103/103 [==============================] - 0s 2ms/step - loss: 0.4955 - accuracy: 0.7968\n",
            "Epoch 28/100\n",
            "103/103 [==============================] - 0s 2ms/step - loss: 0.4762 - accuracy: 0.8002\n",
            "Epoch 29/100\n",
            "103/103 [==============================] - 0s 2ms/step - loss: 0.4723 - accuracy: 0.8060\n",
            "Epoch 30/100\n",
            "103/103 [==============================] - 0s 2ms/step - loss: 0.4750 - accuracy: 0.8103\n",
            "Epoch 31/100\n",
            "103/103 [==============================] - 0s 2ms/step - loss: 0.4626 - accuracy: 0.8103\n",
            "Epoch 32/100\n",
            "103/103 [==============================] - 0s 2ms/step - loss: 0.4594 - accuracy: 0.8192\n",
            "Epoch 33/100\n",
            "103/103 [==============================] - 0s 2ms/step - loss: 0.4415 - accuracy: 0.8219\n",
            "Epoch 34/100\n",
            "103/103 [==============================] - 0s 2ms/step - loss: 0.4514 - accuracy: 0.8188\n",
            "Epoch 35/100\n",
            "103/103 [==============================] - 0s 2ms/step - loss: 0.4476 - accuracy: 0.8133\n",
            "Epoch 36/100\n",
            "103/103 [==============================] - 0s 2ms/step - loss: 0.4315 - accuracy: 0.8372\n",
            "Epoch 37/100\n",
            "103/103 [==============================] - 0s 2ms/step - loss: 0.4368 - accuracy: 0.8262\n",
            "Epoch 38/100\n",
            "103/103 [==============================] - 0s 2ms/step - loss: 0.4431 - accuracy: 0.8286\n",
            "Epoch 39/100\n",
            "103/103 [==============================] - 0s 2ms/step - loss: 0.4293 - accuracy: 0.8341\n",
            "Epoch 40/100\n",
            "103/103 [==============================] - 0s 2ms/step - loss: 0.4115 - accuracy: 0.8326\n",
            "Epoch 41/100\n",
            "103/103 [==============================] - 0s 2ms/step - loss: 0.4149 - accuracy: 0.8341\n",
            "Epoch 42/100\n",
            "103/103 [==============================] - 0s 2ms/step - loss: 0.4148 - accuracy: 0.8372\n",
            "Epoch 43/100\n",
            "103/103 [==============================] - 0s 2ms/step - loss: 0.4105 - accuracy: 0.8378\n",
            "Epoch 44/100\n",
            "103/103 [==============================] - 0s 2ms/step - loss: 0.4090 - accuracy: 0.8360\n",
            "Epoch 45/100\n",
            "103/103 [==============================] - 0s 2ms/step - loss: 0.4115 - accuracy: 0.8400\n",
            "Epoch 46/100\n",
            "103/103 [==============================] - 0s 2ms/step - loss: 0.3889 - accuracy: 0.8421\n",
            "Epoch 47/100\n",
            "103/103 [==============================] - 0s 2ms/step - loss: 0.3924 - accuracy: 0.8494\n",
            "Epoch 48/100\n",
            "103/103 [==============================] - 0s 2ms/step - loss: 0.3914 - accuracy: 0.8409\n",
            "Epoch 49/100\n",
            "103/103 [==============================] - 0s 2ms/step - loss: 0.3978 - accuracy: 0.8369\n",
            "Epoch 50/100\n",
            "103/103 [==============================] - 0s 2ms/step - loss: 0.3941 - accuracy: 0.8446\n",
            "Epoch 51/100\n",
            "103/103 [==============================] - 0s 2ms/step - loss: 0.3779 - accuracy: 0.8491\n",
            "Epoch 52/100\n",
            "103/103 [==============================] - 0s 2ms/step - loss: 0.3751 - accuracy: 0.8479\n",
            "Epoch 53/100\n",
            "103/103 [==============================] - 0s 2ms/step - loss: 0.3724 - accuracy: 0.8504\n",
            "Epoch 54/100\n",
            "103/103 [==============================] - 0s 2ms/step - loss: 0.3770 - accuracy: 0.8494\n",
            "Epoch 55/100\n",
            "103/103 [==============================] - 0s 2ms/step - loss: 0.3680 - accuracy: 0.8485\n",
            "Epoch 56/100\n",
            "103/103 [==============================] - 0s 2ms/step - loss: 0.3611 - accuracy: 0.8614\n",
            "Epoch 57/100\n",
            "103/103 [==============================] - 0s 2ms/step - loss: 0.3527 - accuracy: 0.8638\n",
            "Epoch 58/100\n",
            "103/103 [==============================] - 0s 2ms/step - loss: 0.3675 - accuracy: 0.8488\n",
            "Epoch 59/100\n",
            "103/103 [==============================] - 0s 2ms/step - loss: 0.3507 - accuracy: 0.8589\n",
            "Epoch 60/100\n",
            "103/103 [==============================] - 0s 2ms/step - loss: 0.3487 - accuracy: 0.8617\n",
            "Epoch 61/100\n",
            "103/103 [==============================] - 0s 2ms/step - loss: 0.3645 - accuracy: 0.8473\n",
            "Epoch 62/100\n",
            "103/103 [==============================] - 0s 2ms/step - loss: 0.3565 - accuracy: 0.8614\n",
            "Epoch 63/100\n",
            "103/103 [==============================] - 0s 2ms/step - loss: 0.3462 - accuracy: 0.8617\n",
            "Epoch 64/100\n",
            "103/103 [==============================] - 0s 2ms/step - loss: 0.3497 - accuracy: 0.8614\n",
            "Epoch 65/100\n",
            "103/103 [==============================] - 0s 2ms/step - loss: 0.3410 - accuracy: 0.8547\n",
            "Epoch 66/100\n",
            "103/103 [==============================] - 0s 2ms/step - loss: 0.3328 - accuracy: 0.8629\n",
            "Epoch 67/100\n",
            "103/103 [==============================] - 0s 2ms/step - loss: 0.3297 - accuracy: 0.8669\n",
            "Epoch 68/100\n",
            "103/103 [==============================] - 0s 2ms/step - loss: 0.3306 - accuracy: 0.8727\n",
            "Epoch 69/100\n",
            "103/103 [==============================] - 0s 2ms/step - loss: 0.3353 - accuracy: 0.8614\n",
            "Epoch 70/100\n",
            "103/103 [==============================] - 0s 2ms/step - loss: 0.3331 - accuracy: 0.8611\n",
            "Epoch 71/100\n",
            "103/103 [==============================] - 0s 2ms/step - loss: 0.3335 - accuracy: 0.8654\n",
            "Epoch 72/100\n",
            "103/103 [==============================] - 0s 2ms/step - loss: 0.3248 - accuracy: 0.8651\n",
            "Epoch 73/100\n",
            "103/103 [==============================] - 0s 2ms/step - loss: 0.3212 - accuracy: 0.8700\n",
            "Epoch 74/100\n",
            "103/103 [==============================] - 0s 2ms/step - loss: 0.3142 - accuracy: 0.8770\n",
            "Epoch 75/100\n",
            "103/103 [==============================] - 0s 2ms/step - loss: 0.3086 - accuracy: 0.8825\n",
            "Epoch 76/100\n",
            "103/103 [==============================] - 0s 2ms/step - loss: 0.3149 - accuracy: 0.8727\n",
            "Epoch 77/100\n",
            "103/103 [==============================] - 0s 2ms/step - loss: 0.3040 - accuracy: 0.8736\n",
            "Epoch 78/100\n",
            "103/103 [==============================] - 0s 2ms/step - loss: 0.3166 - accuracy: 0.8715\n",
            "Epoch 79/100\n",
            "103/103 [==============================] - 0s 2ms/step - loss: 0.3098 - accuracy: 0.8782\n",
            "Epoch 80/100\n",
            "103/103 [==============================] - 0s 2ms/step - loss: 0.2996 - accuracy: 0.8764\n",
            "Epoch 81/100\n",
            "103/103 [==============================] - 0s 2ms/step - loss: 0.2960 - accuracy: 0.8840\n",
            "Epoch 82/100\n",
            "103/103 [==============================] - 0s 2ms/step - loss: 0.2996 - accuracy: 0.8816\n",
            "Epoch 83/100\n",
            "103/103 [==============================] - 0s 2ms/step - loss: 0.3176 - accuracy: 0.8736\n",
            "Epoch 84/100\n",
            "103/103 [==============================] - 0s 2ms/step - loss: 0.3105 - accuracy: 0.8730\n",
            "Epoch 85/100\n",
            "103/103 [==============================] - 0s 2ms/step - loss: 0.2956 - accuracy: 0.8776\n",
            "Epoch 86/100\n",
            "103/103 [==============================] - 0s 2ms/step - loss: 0.2977 - accuracy: 0.8843\n",
            "Epoch 87/100\n",
            "103/103 [==============================] - 0s 2ms/step - loss: 0.2949 - accuracy: 0.8819\n",
            "Epoch 88/100\n",
            "103/103 [==============================] - 0s 2ms/step - loss: 0.2938 - accuracy: 0.8901\n",
            "Epoch 89/100\n",
            "103/103 [==============================] - 0s 2ms/step - loss: 0.2858 - accuracy: 0.8883\n",
            "Epoch 90/100\n",
            "103/103 [==============================] - 0s 2ms/step - loss: 0.3075 - accuracy: 0.8782\n",
            "Epoch 91/100\n",
            "103/103 [==============================] - 0s 2ms/step - loss: 0.2901 - accuracy: 0.8923\n",
            "Epoch 92/100\n",
            "103/103 [==============================] - 0s 2ms/step - loss: 0.2854 - accuracy: 0.8871\n",
            "Epoch 93/100\n",
            "103/103 [==============================] - 0s 2ms/step - loss: 0.2886 - accuracy: 0.8853\n",
            "Epoch 94/100\n",
            "103/103 [==============================] - 0s 2ms/step - loss: 0.2725 - accuracy: 0.8898\n",
            "Epoch 95/100\n",
            "103/103 [==============================] - 0s 2ms/step - loss: 0.2844 - accuracy: 0.8837\n",
            "Epoch 96/100\n",
            "103/103 [==============================] - 0s 2ms/step - loss: 0.2723 - accuracy: 0.8935\n",
            "Epoch 97/100\n",
            "103/103 [==============================] - 0s 2ms/step - loss: 0.2790 - accuracy: 0.8929\n",
            "Epoch 98/100\n",
            "103/103 [==============================] - 0s 2ms/step - loss: 0.2815 - accuracy: 0.8791\n",
            "Epoch 99/100\n",
            "103/103 [==============================] - 0s 2ms/step - loss: 0.2862 - accuracy: 0.8825\n",
            "Epoch 100/100\n",
            "103/103 [==============================] - 0s 2ms/step - loss: 0.2740 - accuracy: 0.8932\n"
          ]
        },
        {
          "output_type": "execute_result",
          "data": {
            "text/plain": [
              "<keras.callbacks.History at 0x7f5f3128fe90>"
            ]
          },
          "metadata": {},
          "execution_count": 106
        }
      ]
    },
    {
      "cell_type": "code",
      "source": [
        "y_train"
      ],
      "metadata": {
        "colab": {
          "base_uri": "https://localhost:8080/"
        },
        "id": "mkpdxzYosX91",
        "outputId": "606507e8-c567-45d8-eb1e-0a84c56c2e40"
      },
      "execution_count": null,
      "outputs": [
        {
          "output_type": "execute_result",
          "data": {
            "text/plain": [
              "array([[1., 0., 0., 0., 0., 0.],\n",
              "       [0., 1., 0., 0., 0., 0.],\n",
              "       [0., 1., 0., 0., 0., 0.],\n",
              "       ...,\n",
              "       [0., 0., 1., 0., 0., 0.],\n",
              "       [0., 0., 0., 0., 0., 1.],\n",
              "       [0., 0., 0., 0., 1., 0.]], dtype=float32)"
            ]
          },
          "metadata": {},
          "execution_count": 107
        }
      ]
    },
    {
      "cell_type": "code",
      "source": [
        "y_pred=model.predict(x_test)\n",
        "y_pred"
      ],
      "metadata": {
        "colab": {
          "base_uri": "https://localhost:8080/"
        },
        "id": "jtXFMSh7sfam",
        "outputId": "c5c9d3e7-3dad-4f9a-9363-88fb7269e8aa"
      },
      "execution_count": null,
      "outputs": [
        {
          "output_type": "execute_result",
          "data": {
            "text/plain": [
              "array([[3.6075256e-17, 2.7585097e-06, 9.1135073e-01, 8.8644348e-02,\n",
              "        2.1338565e-06, 1.7907966e-29],\n",
              "       [3.1489617e-26, 1.9971099e-18, 9.0756178e-01, 9.2438169e-02,\n",
              "        3.6722300e-15, 8.3263950e-35],\n",
              "       [3.7099164e-21, 2.8977401e-29, 7.6517659e-05, 6.8019979e-02,\n",
              "        9.3190354e-01, 3.7330631e-25],\n",
              "       ...,\n",
              "       [9.9991620e-01, 4.9195510e-09, 8.3744344e-05, 5.5178405e-12,\n",
              "        1.3269720e-12, 0.0000000e+00],\n",
              "       [4.7468375e-17, 9.9999976e-01, 2.7848603e-07, 4.2206933e-13,\n",
              "        5.5505705e-31, 3.3611293e-36],\n",
              "       [3.0294884e-27, 7.2943373e-26, 9.8827565e-01, 1.1724417e-02,\n",
              "        1.2431126e-15, 2.8538692e-25]], dtype=float32)"
            ]
          },
          "metadata": {},
          "execution_count": 108
        }
      ]
    },
    {
      "cell_type": "code",
      "source": [
        "y_pred=np.argmax(y_pred,axis=1)\n",
        "y_pred"
      ],
      "metadata": {
        "colab": {
          "base_uri": "https://localhost:8080/"
        },
        "id": "B5kFV7VnshkG",
        "outputId": "46d3195c-505c-487e-fa4b-efabfe962915"
      },
      "execution_count": null,
      "outputs": [
        {
          "output_type": "execute_result",
          "data": {
            "text/plain": [
              "array([2, 2, 4, 4, 1, 1, 2, 4, 2, 2, 5, 4, 2, 0, 5, 2, 2, 3, 5, 1, 3, 0,\n",
              "       2, 3, 3, 0, 3, 0, 3, 5, 2, 0, 5, 3, 0, 3, 2, 5, 2, 4, 5, 5, 3, 4,\n",
              "       3, 1, 4, 3, 1, 5, 4, 3, 2, 3, 2, 0, 1, 4, 1, 3, 3, 1, 3, 0, 5, 1,\n",
              "       0, 4, 4, 3, 1, 0, 2, 4, 1, 2, 1, 1, 4, 0, 5, 3, 3, 3, 2, 5, 5, 2,\n",
              "       5, 1, 0, 3, 3, 2, 3, 3, 1, 4, 5, 5, 1, 5, 2, 2, 3, 1, 2, 0, 4, 4,\n",
              "       2, 1, 4, 3, 2, 2, 0, 5, 1, 2, 2, 3, 4, 2, 3, 4, 2, 4, 2, 0, 4, 4,\n",
              "       2, 0, 1, 0, 5, 2, 2, 0, 4, 2, 2, 3, 4, 5, 4, 4, 5, 1, 1, 2, 1, 2,\n",
              "       1, 1, 0, 5, 4, 5, 1, 0, 5, 3, 4, 0, 5, 3, 1, 1, 1, 5, 1, 1, 5, 4,\n",
              "       1, 0, 3, 1, 1, 3, 5, 5, 4, 4, 2, 4, 3, 4, 4, 3, 3, 4, 3, 1, 1, 0,\n",
              "       2, 5, 4, 5, 0, 1, 0, 4, 1, 2, 1, 3, 5, 4, 3, 2, 5, 4, 1, 2, 4, 0,\n",
              "       2, 0, 5, 5, 4, 0, 2, 0, 3, 5, 4, 1, 5, 1, 2, 3, 5, 4, 1, 1, 4, 5,\n",
              "       0, 1, 2, 3, 1, 3, 3, 4, 1, 3, 3, 5, 1, 4, 2, 1, 2, 2, 1, 4, 0, 3,\n",
              "       3, 0, 4, 4, 5, 0, 4, 1, 3, 3, 0, 3, 2, 4, 0, 5, 2, 5, 2, 4, 2, 2,\n",
              "       0, 1, 1, 5, 5, 0, 1, 2, 4, 0, 0, 2, 4, 1, 3, 5, 1, 4, 1, 1, 2, 0,\n",
              "       3, 2, 5, 2, 4, 1, 0, 4, 2, 1, 1, 4, 0, 4, 3, 1, 5, 3, 1, 5, 3, 5,\n",
              "       2, 0, 5, 3, 3, 4, 3, 3, 2, 0, 0, 2, 0, 5, 5, 3, 5, 2, 4, 5, 5, 0,\n",
              "       2, 0, 1, 5, 5, 1, 2, 3, 5, 0, 4, 0, 4, 1, 4, 5, 2, 0, 1, 2, 5, 4,\n",
              "       4, 1, 2, 0, 2, 5, 4, 3, 0, 0, 4, 3, 1, 1, 3, 0, 0, 2, 0, 5, 5, 0,\n",
              "       2, 5, 3, 1, 0, 4, 3, 4, 2, 3, 4, 2, 1, 3, 2, 0, 3, 5, 2, 1, 0, 1,\n",
              "       2, 0, 0, 5, 0, 4, 2, 3, 0, 2, 4, 2, 2, 2, 4, 4, 3, 3, 4, 5, 1, 0,\n",
              "       1, 4, 4, 1, 5, 0, 3, 2, 4, 4, 1, 5, 5, 0, 3, 5, 5, 3, 2, 3, 5, 1,\n",
              "       4, 0, 0, 1, 2, 5, 0, 0, 3, 3, 0, 0, 2, 0, 1, 5, 0, 4, 2, 1, 5, 5,\n",
              "       2, 3, 0, 4, 3, 1, 1, 1, 2, 2, 1, 3, 2, 1, 4, 0, 4, 3, 1, 2, 0, 3,\n",
              "       3, 5, 0, 4, 0, 2, 5, 5, 5, 5, 5, 5, 4, 1, 4, 1, 4, 4, 3, 4, 5, 2,\n",
              "       2, 0, 0, 1, 2, 5, 1, 3, 1, 4, 5, 0, 4, 3, 0, 1, 5, 3, 2, 2, 2, 2,\n",
              "       2, 0, 4, 5, 0, 3, 4, 0, 2, 4, 2, 1, 2, 0, 5, 3, 3, 5, 4, 0, 4, 5,\n",
              "       4, 5, 2, 2, 4, 3, 2, 5, 3, 4, 5, 0, 1, 2, 0, 0, 4, 0, 2, 2, 2, 3,\n",
              "       0, 5, 2, 2, 3, 2, 4, 5, 1, 0, 0, 2, 5, 5, 1, 2, 3, 1, 5, 4, 2, 5,\n",
              "       5, 0, 4, 4, 1, 3, 5, 0, 1, 1, 2, 1, 2, 1, 5, 5, 1, 2, 0, 3, 2, 3,\n",
              "       3, 4, 4, 4, 2, 1, 1, 5, 0, 2, 4, 3, 3, 3, 3, 3, 3, 0, 5, 2, 0, 3,\n",
              "       0, 0, 2, 1, 3, 2, 4, 4, 5, 4, 4, 5, 3, 4, 2, 3, 0, 1, 2, 0, 0, 3,\n",
              "       2, 0, 3, 1, 0, 3, 0, 1, 5, 1, 5, 1, 4, 3, 2, 1, 5, 2, 3, 4, 2, 1,\n",
              "       1, 0, 3, 4, 5, 1, 5, 1, 4, 0, 0, 0, 2, 0, 5, 2, 0, 4, 3, 1, 2, 1,\n",
              "       2, 0, 1, 4, 0, 5, 0, 5, 4, 0, 4, 3, 2, 5, 2, 0, 2, 0, 3, 0, 0, 4,\n",
              "       1, 1, 2, 5, 4, 3, 0, 0, 0, 2, 0, 5, 5, 1, 3, 4, 4, 4, 2, 2, 0, 5,\n",
              "       3, 1, 4, 3, 5, 4, 1, 0, 1, 5, 2, 2, 0, 3, 5, 3, 4, 5, 2, 0, 4, 4,\n",
              "       2, 2, 2, 0, 0, 5, 5, 2, 5, 5, 2, 2, 4, 5, 2, 1, 2, 1, 5, 5, 1, 2,\n",
              "       3, 0, 1, 2])"
            ]
          },
          "metadata": {},
          "execution_count": 109
        }
      ]
    },
    {
      "cell_type": "code",
      "source": [
        "y_test"
      ],
      "metadata": {
        "colab": {
          "base_uri": "https://localhost:8080/"
        },
        "id": "RSkXAAB4suGZ",
        "outputId": "2da41bc6-45e5-4a2a-c1be-f3707095bd6b"
      },
      "execution_count": null,
      "outputs": [
        {
          "output_type": "execute_result",
          "data": {
            "text/plain": [
              "array([[0., 0., 0., 1., 0., 0.],\n",
              "       [0., 0., 1., 0., 0., 0.],\n",
              "       [0., 0., 0., 0., 1., 0.],\n",
              "       ...,\n",
              "       [1., 0., 0., 0., 0., 0.],\n",
              "       [0., 1., 0., 0., 0., 0.],\n",
              "       [0., 0., 1., 0., 0., 0.]], dtype=float32)"
            ]
          },
          "metadata": {},
          "execution_count": 110
        }
      ]
    },
    {
      "cell_type": "code",
      "source": [
        "y_test=np.argmax(y_test,axis=1)\n",
        "y_test"
      ],
      "metadata": {
        "colab": {
          "base_uri": "https://localhost:8080/"
        },
        "id": "ZTf8ntdYsqvS",
        "outputId": "e34c03f8-68e2-4f38-b592-9da9c0202100"
      },
      "execution_count": null,
      "outputs": [
        {
          "output_type": "execute_result",
          "data": {
            "text/plain": [
              "array([3, 2, 4, 4, 1, 1, 2, 3, 2, 3, 5, 4, 2, 0, 5, 3, 2, 2, 5, 1, 3, 0,\n",
              "       2, 3, 1, 0, 3, 0, 2, 5, 2, 0, 5, 3, 0, 3, 2, 5, 2, 4, 5, 5, 3, 4,\n",
              "       4, 2, 4, 2, 1, 5, 3, 3, 2, 3, 3, 0, 1, 4, 1, 3, 3, 1, 3, 0, 5, 1,\n",
              "       0, 4, 4, 3, 1, 0, 2, 4, 1, 2, 1, 1, 4, 0, 5, 3, 2, 3, 3, 5, 5, 2,\n",
              "       5, 1, 0, 3, 3, 2, 3, 3, 3, 4, 5, 5, 1, 5, 2, 2, 3, 1, 3, 0, 4, 4,\n",
              "       3, 1, 4, 3, 2, 3, 0, 5, 1, 2, 2, 2, 3, 2, 3, 4, 2, 4, 2, 0, 4, 4,\n",
              "       2, 0, 1, 0, 5, 2, 3, 0, 4, 2, 3, 3, 4, 5, 4, 3, 5, 1, 1, 2, 1, 2,\n",
              "       1, 1, 0, 5, 4, 5, 1, 0, 5, 3, 4, 0, 5, 3, 1, 1, 1, 5, 1, 1, 5, 3,\n",
              "       3, 0, 3, 1, 1, 2, 5, 5, 4, 4, 2, 4, 2, 4, 2, 3, 2, 4, 3, 1, 1, 0,\n",
              "       1, 5, 4, 5, 0, 1, 0, 4, 1, 2, 1, 3, 5, 4, 2, 3, 5, 4, 1, 2, 4, 0,\n",
              "       2, 0, 5, 5, 4, 0, 2, 0, 3, 5, 4, 1, 5, 1, 2, 3, 5, 4, 1, 1, 4, 5,\n",
              "       0, 1, 3, 3, 1, 2, 3, 4, 1, 3, 3, 5, 1, 4, 2, 1, 2, 2, 1, 4, 0, 3,\n",
              "       3, 0, 4, 4, 5, 0, 4, 1, 3, 3, 0, 3, 3, 3, 0, 5, 2, 5, 2, 3, 2, 2,\n",
              "       0, 1, 1, 5, 5, 0, 1, 2, 4, 0, 0, 2, 4, 1, 3, 5, 1, 4, 1, 1, 3, 0,\n",
              "       3, 2, 5, 3, 4, 1, 0, 3, 2, 1, 1, 4, 0, 4, 3, 1, 5, 3, 1, 5, 3, 5,\n",
              "       2, 0, 5, 3, 3, 5, 3, 3, 2, 0, 0, 3, 0, 5, 5, 3, 5, 2, 4, 5, 5, 0,\n",
              "       2, 0, 1, 5, 5, 1, 2, 2, 5, 2, 4, 0, 3, 1, 4, 5, 3, 0, 1, 2, 5, 3,\n",
              "       4, 1, 2, 0, 2, 5, 4, 4, 0, 0, 2, 3, 1, 1, 2, 0, 0, 3, 0, 5, 5, 0,\n",
              "       2, 5, 3, 1, 0, 3, 2, 3, 2, 3, 4, 2, 1, 3, 2, 0, 3, 5, 2, 1, 0, 1,\n",
              "       2, 0, 0, 5, 0, 4, 2, 2, 0, 2, 4, 3, 3, 2, 4, 4, 4, 3, 4, 5, 1, 0,\n",
              "       1, 4, 4, 1, 5, 0, 3, 2, 4, 4, 1, 5, 5, 0, 2, 5, 5, 3, 3, 3, 5, 1,\n",
              "       4, 0, 0, 1, 2, 5, 0, 0, 3, 3, 0, 0, 2, 0, 1, 5, 0, 3, 3, 1, 5, 5,\n",
              "       2, 3, 0, 4, 3, 1, 1, 1, 2, 2, 1, 3, 3, 1, 4, 0, 4, 2, 1, 2, 0, 3,\n",
              "       3, 5, 2, 4, 0, 2, 5, 5, 5, 5, 5, 5, 4, 1, 4, 1, 4, 4, 1, 4, 5, 2,\n",
              "       2, 0, 0, 1, 2, 5, 1, 2, 1, 2, 5, 0, 4, 3, 0, 1, 5, 2, 2, 2, 2, 3,\n",
              "       2, 0, 3, 5, 2, 3, 4, 0, 2, 4, 2, 1, 1, 0, 5, 3, 3, 5, 4, 0, 4, 5,\n",
              "       4, 5, 3, 2, 4, 2, 3, 5, 3, 4, 5, 0, 1, 2, 0, 0, 4, 0, 4, 2, 2, 3,\n",
              "       0, 5, 2, 2, 2, 2, 4, 5, 1, 0, 0, 2, 5, 5, 4, 2, 3, 1, 5, 3, 3, 5,\n",
              "       5, 0, 4, 4, 1, 3, 5, 0, 1, 1, 2, 1, 2, 1, 5, 5, 1, 2, 0, 3, 2, 2,\n",
              "       2, 4, 3, 4, 2, 1, 1, 5, 0, 2, 4, 3, 3, 3, 3, 3, 3, 0, 5, 2, 0, 3,\n",
              "       0, 0, 2, 1, 3, 3, 4, 4, 5, 4, 4, 5, 3, 4, 2, 3, 0, 1, 3, 0, 0, 3,\n",
              "       2, 0, 3, 1, 0, 3, 0, 1, 5, 1, 5, 1, 4, 3, 2, 1, 5, 2, 3, 4, 3, 1,\n",
              "       1, 0, 3, 4, 5, 1, 5, 1, 4, 0, 0, 0, 2, 0, 5, 2, 0, 4, 4, 1, 2, 1,\n",
              "       2, 0, 1, 4, 0, 5, 0, 5, 3, 0, 4, 3, 2, 3, 2, 0, 1, 0, 3, 0, 0, 4,\n",
              "       1, 1, 2, 5, 4, 3, 0, 0, 0, 2, 2, 5, 5, 1, 3, 4, 4, 4, 2, 2, 0, 5,\n",
              "       3, 1, 4, 3, 5, 4, 1, 0, 1, 5, 3, 3, 0, 3, 5, 3, 3, 5, 3, 0, 3, 2,\n",
              "       2, 3, 2, 0, 0, 5, 5, 2, 5, 5, 2, 2, 4, 5, 3, 1, 2, 2, 5, 5, 1, 2,\n",
              "       2, 0, 1, 2])"
            ]
          },
          "metadata": {},
          "execution_count": 111
        }
      ]
    },
    {
      "cell_type": "code",
      "source": [
        "accuracy_score(y_test,y_pred)*100"
      ],
      "metadata": {
        "colab": {
          "base_uri": "https://localhost:8080/"
        },
        "id": "lEcUHGt3tfSN",
        "outputId": "02b44b38-bc4b-4d46-b8d7-4cdb5c9006d3"
      },
      "execution_count": null,
      "outputs": [
        {
          "output_type": "execute_result",
          "data": {
            "text/plain": [
              "87.53056234718827"
            ]
          },
          "metadata": {},
          "execution_count": 112
        }
      ]
    },
    {
      "cell_type": "code",
      "source": [
        "print(classification_report(y_pred,y_test))"
      ],
      "metadata": {
        "colab": {
          "base_uri": "https://localhost:8080/"
        },
        "id": "5x8Ki6OTto4W",
        "outputId": "418071fc-9a49-4d7d-93b4-4e5edfb7884f"
      },
      "execution_count": null,
      "outputs": [
        {
          "output_type": "stream",
          "name": "stdout",
          "text": [
            "              precision    recall  f1-score   support\n",
            "\n",
            "           0       1.00      0.97      0.99       136\n",
            "           1       0.96      0.96      0.96       131\n",
            "           2       0.78      0.75      0.76       156\n",
            "           3       0.63      0.77      0.70       127\n",
            "           4       0.95      0.82      0.88       134\n",
            "           5       0.99      0.99      0.99       134\n",
            "\n",
            "    accuracy                           0.88       818\n",
            "   macro avg       0.89      0.88      0.88       818\n",
            "weighted avg       0.89      0.88      0.88       818\n",
            "\n"
          ]
        }
      ]
    },
    {
      "cell_type": "code",
      "source": [
        "# due to model size being small and obvious overfitting happening, accuracy can't be further improved using few of altered ANNs that we tried above"
      ],
      "metadata": {
        "id": "L-pGqy5xx2fW"
      },
      "execution_count": null,
      "outputs": []
    }
  ]
}